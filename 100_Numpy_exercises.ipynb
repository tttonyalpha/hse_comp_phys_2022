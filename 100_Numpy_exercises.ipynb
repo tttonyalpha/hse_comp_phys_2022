{
  "cells": [
    {
      "cell_type": "markdown",
      "id": "9530214f",
      "metadata": {
        "id": "9530214f"
      },
      "source": [
        "# 100 numpy exercises\n",
        "\n"
      ]
    },
    {
      "cell_type": "markdown",
      "id": "3474e117",
      "metadata": {
        "id": "3474e117"
      },
      "source": [
        "File automatically generated. See the documentation to update questions/answers/hints programmatically."
      ]
    },
    {
      "cell_type": "markdown",
      "id": "32b24413",
      "metadata": {
        "id": "32b24413"
      },
      "source": [
        "Run the `initialize.py` module, then for each question you can query the\n",
        "answer or an hint with `hint(n)` or `answer(n)` for `n` question number."
      ]
    },
    {
      "cell_type": "code",
      "execution_count": null,
      "id": "e4fa8fca",
      "metadata": {
        "id": "e4fa8fca"
      },
      "outputs": [],
      "source": [
        "#%run initialise.py"
      ]
    },
    {
      "cell_type": "markdown",
      "id": "4622931b",
      "metadata": {
        "id": "4622931b"
      },
      "source": [
        "#### 1. Import the numpy package under the name `np` (★☆☆)"
      ]
    },
    {
      "cell_type": "code",
      "execution_count": 2,
      "id": "5fca2d47",
      "metadata": {
        "id": "5fca2d47"
      },
      "outputs": [],
      "source": [
        "import numpy as np"
      ]
    },
    {
      "cell_type": "markdown",
      "id": "8cb95622",
      "metadata": {
        "id": "8cb95622"
      },
      "source": [
        "#### 2. Print the numpy version and the configuration (★☆☆)"
      ]
    },
    {
      "cell_type": "code",
      "execution_count": null,
      "id": "f3a48ca2",
      "metadata": {
        "id": "f3a48ca2",
        "outputId": "b724374d-f3f6-4732-a829-c514430c6030"
      },
      "outputs": [
        {
          "name": "stdout",
          "output_type": "stream",
          "text": [
            "1.20.2 <module 'numpy.__config__' from '/home/tonyalpha/.local/lib/python3.8/site-packages/numpy/__config__.py'>\n",
            "blas_mkl_info:\n",
            "  NOT AVAILABLE\n",
            "blis_info:\n",
            "  NOT AVAILABLE\n",
            "openblas_info:\n",
            "    libraries = ['openblas', 'openblas']\n",
            "    library_dirs = ['/usr/local/lib']\n",
            "    language = c\n",
            "    define_macros = [('HAVE_CBLAS', None)]\n",
            "blas_opt_info:\n",
            "    libraries = ['openblas', 'openblas']\n",
            "    library_dirs = ['/usr/local/lib']\n",
            "    language = c\n",
            "    define_macros = [('HAVE_CBLAS', None)]\n",
            "lapack_mkl_info:\n",
            "  NOT AVAILABLE\n",
            "openblas_lapack_info:\n",
            "    libraries = ['openblas', 'openblas']\n",
            "    library_dirs = ['/usr/local/lib']\n",
            "    language = c\n",
            "    define_macros = [('HAVE_CBLAS', None)]\n",
            "lapack_opt_info:\n",
            "    libraries = ['openblas', 'openblas']\n",
            "    library_dirs = ['/usr/local/lib']\n",
            "    language = c\n",
            "    define_macros = [('HAVE_CBLAS', None)]\n"
          ]
        }
      ],
      "source": [
        "print(np.__version__, np.__config__)\n",
        "np.show_config()"
      ]
    },
    {
      "cell_type": "markdown",
      "id": "95c0a334",
      "metadata": {
        "id": "95c0a334"
      },
      "source": [
        "#### 3. Create a null vector of size 10 (★☆☆)"
      ]
    },
    {
      "cell_type": "code",
      "execution_count": null,
      "id": "fd5a1933",
      "metadata": {
        "id": "fd5a1933",
        "outputId": "645b0af1-d32f-4468-98ca-1117eeaa4d3f"
      },
      "outputs": [
        {
          "data": {
            "text/plain": [
              "array([0., 0., 0., 0., 0., 0., 0., 0., 0., 0.])"
            ]
          },
          "execution_count": 7,
          "metadata": {},
          "output_type": "execute_result"
        }
      ],
      "source": [
        "np.zeros(10)"
      ]
    },
    {
      "cell_type": "markdown",
      "id": "c7cdaac7",
      "metadata": {
        "id": "c7cdaac7"
      },
      "source": [
        "#### 4. How to find the memory size of any array (★☆☆)"
      ]
    },
    {
      "cell_type": "code",
      "execution_count": null,
      "id": "26417ef3",
      "metadata": {
        "id": "26417ef3",
        "outputId": "d1d75aac-1929-467b-c8a1-a4ba0902a2a3"
      },
      "outputs": [
        {
          "name": "stdout",
          "output_type": "stream",
          "text": [
            "80\n"
          ]
        }
      ],
      "source": [
        "x = np.zeros((10))\n",
        "print(x.itemsize * x.size) # в байтах"
      ]
    },
    {
      "cell_type": "markdown",
      "id": "81fda458",
      "metadata": {
        "id": "81fda458"
      },
      "source": [
        "#### 5. How to get the documentation of the numpy add function from the command line? (★☆☆)"
      ]
    },
    {
      "cell_type": "code",
      "execution_count": null,
      "id": "d40cd087",
      "metadata": {
        "id": "d40cd087",
        "outputId": "41158f4f-8534-4d96-8950-4db3117ec768"
      },
      "outputs": [
        {
          "name": "stdout",
          "output_type": "stream",
          "text": [
            "add(x1, x2, /, out=None, *, where=True, casting='same_kind', order='K', dtype=None, subok=True[, signature, extobj])\n",
            "\n",
            "Add arguments element-wise.\n",
            "\n",
            "Parameters\n",
            "----------\n",
            "x1, x2 : array_like\n",
            "    The arrays to be added.\n",
            "    If ``x1.shape != x2.shape``, they must be broadcastable to a common\n",
            "    shape (which becomes the shape of the output).\n",
            "out : ndarray, None, or tuple of ndarray and None, optional\n",
            "    A location into which the result is stored. If provided, it must have\n",
            "    a shape that the inputs broadcast to. If not provided or None,\n",
            "    a freshly-allocated array is returned. A tuple (possible only as a\n",
            "    keyword argument) must have length equal to the number of outputs.\n",
            "where : array_like, optional\n",
            "    This condition is broadcast over the input. At locations where the\n",
            "    condition is True, the `out` array will be set to the ufunc result.\n",
            "    Elsewhere, the `out` array will retain its original value.\n",
            "    Note that if an uninitialized `out` array is created via the default\n",
            "    ``out=None``, locations within it where the condition is False will\n",
            "    remain uninitialized.\n",
            "**kwargs\n",
            "    For other keyword-only arguments, see the\n",
            "    :ref:`ufunc docs <ufuncs.kwargs>`.\n",
            "\n",
            "Returns\n",
            "-------\n",
            "add : ndarray or scalar\n",
            "    The sum of `x1` and `x2`, element-wise.\n",
            "    This is a scalar if both `x1` and `x2` are scalars.\n",
            "\n",
            "Notes\n",
            "-----\n",
            "Equivalent to `x1` + `x2` in terms of array broadcasting.\n",
            "\n",
            "Examples\n",
            "--------\n",
            ">>> np.add(1.0, 4.0)\n",
            "5.0\n",
            ">>> x1 = np.arange(9.0).reshape((3, 3))\n",
            ">>> x2 = np.arange(3.0)\n",
            ">>> np.add(x1, x2)\n",
            "array([[  0.,   2.,   4.],\n",
            "       [  3.,   5.,   7.],\n",
            "       [  6.,   8.,  10.]])\n",
            "\n",
            "The ``+`` operator can be used as a shorthand for ``np.add`` on ndarrays.\n",
            "\n",
            ">>> x1 = np.arange(9.0).reshape((3, 3))\n",
            ">>> x2 = np.arange(3.0)\n",
            ">>> x1 + x2\n",
            "array([[ 0.,  2.,  4.],\n",
            "       [ 3.,  5.,  7.],\n",
            "       [ 6.,  8., 10.]])\n"
          ]
        }
      ],
      "source": [
        "np.info(np.add)"
      ]
    },
    {
      "cell_type": "markdown",
      "id": "b028a1b6",
      "metadata": {
        "id": "b028a1b6"
      },
      "source": [
        "#### 6. Create a null vector of size 10 but the fifth value which is 1 (★☆☆)"
      ]
    },
    {
      "cell_type": "code",
      "execution_count": null,
      "id": "8ee65ac6",
      "metadata": {
        "id": "8ee65ac6",
        "outputId": "5da816a5-c658-43d0-853b-d4885b59c361"
      },
      "outputs": [
        {
          "name": "stdout",
          "output_type": "stream",
          "text": [
            "[0. 0. 0. 0. 1. 0. 0. 0. 0. 0.]\n"
          ]
        }
      ],
      "source": [
        "v = np.zeros(10)\n",
        "v[4] = 1\n",
        "print(v)"
      ]
    },
    {
      "cell_type": "markdown",
      "id": "1645cb16",
      "metadata": {
        "id": "1645cb16"
      },
      "source": [
        "#### 7. Create a vector with values ranging from 10 to 49 (★☆☆)"
      ]
    },
    {
      "cell_type": "code",
      "execution_count": null,
      "id": "84ac1ece",
      "metadata": {
        "id": "84ac1ece",
        "outputId": "2a4dab17-74d2-4aaf-cc23-447a7fd216d9"
      },
      "outputs": [
        {
          "data": {
            "text/plain": [
              "array([10, 11, 12, 13, 14, 15, 16, 17, 18, 19, 20, 21, 22, 23, 24, 25, 26,\n",
              "       27, 28, 29, 30, 31, 32, 33, 34, 35, 36, 37, 38, 39, 40, 41, 42, 43,\n",
              "       44, 45, 46, 47, 48, 49])"
            ]
          },
          "execution_count": 18,
          "metadata": {},
          "output_type": "execute_result"
        }
      ],
      "source": [
        "v = np.arange(10,50)\n",
        "v"
      ]
    },
    {
      "cell_type": "markdown",
      "id": "07c66f79",
      "metadata": {
        "id": "07c66f79"
      },
      "source": [
        "#### 8. Reverse a vector (first element becomes last) (★☆☆)"
      ]
    },
    {
      "cell_type": "code",
      "execution_count": null,
      "id": "5b0311ae",
      "metadata": {
        "id": "5b0311ae",
        "outputId": "368bb13a-1a84-404a-fbdd-88ab9eb02452"
      },
      "outputs": [
        {
          "data": {
            "text/plain": [
              "array([49, 48, 47, 46, 45, 44, 43, 42, 41, 40, 39, 38, 37, 36, 35, 34, 33,\n",
              "       32, 31, 30, 29, 28, 27, 26, 25, 24, 23, 22, 21, 20, 19, 18, 17, 16,\n",
              "       15, 14, 13, 12, 11, 10])"
            ]
          },
          "execution_count": 19,
          "metadata": {},
          "output_type": "execute_result"
        }
      ],
      "source": [
        "v[::-1]"
      ]
    },
    {
      "cell_type": "markdown",
      "id": "b3ae5e21",
      "metadata": {
        "id": "b3ae5e21"
      },
      "source": [
        "#### 9. Create a 3x3 matrix with values ranging from 0 to 8 (★☆☆)"
      ]
    },
    {
      "cell_type": "code",
      "execution_count": null,
      "id": "b54cf40b",
      "metadata": {
        "id": "b54cf40b",
        "outputId": "54942ec0-e66f-4c86-8c96-225f323812a6"
      },
      "outputs": [
        {
          "data": {
            "text/plain": [
              "array([[0, 1, 2],\n",
              "       [3, 4, 5],\n",
              "       [6, 7, 8]])"
            ]
          },
          "execution_count": 24,
          "metadata": {},
          "output_type": "execute_result"
        }
      ],
      "source": [
        "np.arange(9).reshape(3, -1)"
      ]
    },
    {
      "cell_type": "markdown",
      "id": "efe2e39d",
      "metadata": {
        "id": "efe2e39d"
      },
      "source": [
        "#### 10. Find indices of non-zero elements from [1,2,0,0,4,0] (★☆☆)"
      ]
    },
    {
      "cell_type": "code",
      "execution_count": null,
      "id": "8a7fc5b3",
      "metadata": {
        "id": "8a7fc5b3",
        "outputId": "a9ed5284-6e88-4e86-bef3-2e784b428398"
      },
      "outputs": [
        {
          "data": {
            "text/plain": [
              "(array([0, 1, 4]),)"
            ]
          },
          "execution_count": 26,
          "metadata": {},
          "output_type": "execute_result"
        }
      ],
      "source": [
        "np.nonzero([1,2,0,0,4,0])"
      ]
    },
    {
      "cell_type": "markdown",
      "id": "8410d707",
      "metadata": {
        "id": "8410d707"
      },
      "source": [
        "#### 11. Create a 3x3 identity matrix (★☆☆)"
      ]
    },
    {
      "cell_type": "code",
      "execution_count": null,
      "id": "b373ce0b",
      "metadata": {
        "id": "b373ce0b",
        "outputId": "aeea22cd-a84d-4d3e-bfdc-33c2ce7a1a1b"
      },
      "outputs": [
        {
          "data": {
            "text/plain": [
              "array([[1., 0., 0.],\n",
              "       [0., 1., 0.],\n",
              "       [0., 0., 1.]])"
            ]
          },
          "execution_count": 27,
          "metadata": {},
          "output_type": "execute_result"
        }
      ],
      "source": [
        "np.eye(3)"
      ]
    },
    {
      "cell_type": "markdown",
      "id": "2d3b93bf",
      "metadata": {
        "id": "2d3b93bf"
      },
      "source": [
        "#### 12. Create a 3x3x3 array with random values (★☆☆)"
      ]
    },
    {
      "cell_type": "code",
      "execution_count": null,
      "id": "849b70e5",
      "metadata": {
        "id": "849b70e5",
        "outputId": "dfdfc500-963b-4d11-9676-c5dcd6d89651"
      },
      "outputs": [
        {
          "data": {
            "text/plain": [
              "array([[[0.92254305, 0.79078698, 0.23851707],\n",
              "        [0.84088675, 0.96112385, 0.67356008],\n",
              "        [0.09524189, 0.14720229, 0.80005712]],\n",
              "\n",
              "       [[0.65433537, 0.46417358, 0.10842455],\n",
              "        [0.32347651, 0.29706057, 0.2508182 ],\n",
              "        [0.50451792, 0.37786687, 0.35532298]],\n",
              "\n",
              "       [[0.76947461, 0.85400719, 0.51619723],\n",
              "        [0.59081649, 0.7514463 , 0.14186247],\n",
              "        [0.41427014, 0.7589288 , 0.85035431]]])"
            ]
          },
          "execution_count": 28,
          "metadata": {},
          "output_type": "execute_result"
        }
      ],
      "source": [
        "np.random.random((3,3,3))"
      ]
    },
    {
      "cell_type": "markdown",
      "id": "e4fe709c",
      "metadata": {
        "id": "e4fe709c"
      },
      "source": [
        "#### 13. Create a 10x10 array with random values and find the minimum and maximum values (★☆☆)"
      ]
    },
    {
      "cell_type": "code",
      "execution_count": null,
      "id": "81a80133",
      "metadata": {
        "id": "81a80133",
        "outputId": "2f1657fc-033d-42fc-9d32-675dbac88d93"
      },
      "outputs": [
        {
          "name": "stdout",
          "output_type": "stream",
          "text": [
            "0.007978441217360799 0.9894008629416499\n"
          ]
        }
      ],
      "source": [
        "arr = np.random.random((10,10))\n",
        "print(arr.min(), arr.max())"
      ]
    },
    {
      "cell_type": "markdown",
      "id": "b9d07e02",
      "metadata": {
        "id": "b9d07e02"
      },
      "source": [
        "#### 14. Create a random vector of size 30 and find the mean value (★☆☆)"
      ]
    },
    {
      "cell_type": "code",
      "execution_count": null,
      "id": "53d8d612",
      "metadata": {
        "id": "53d8d612",
        "outputId": "c1ecf4ff-1985-4fd9-a320-15113e28bd3d"
      },
      "outputs": [
        {
          "name": "stdout",
          "output_type": "stream",
          "text": [
            "0.4827068309040699\n"
          ]
        }
      ],
      "source": [
        "arr = np.random.random(30)\n",
        "print(arr.mean())"
      ]
    },
    {
      "cell_type": "markdown",
      "id": "8cec2cf7",
      "metadata": {
        "id": "8cec2cf7"
      },
      "source": [
        "#### 15. Create a 2d array with 1 on the border and 0 inside (★☆☆)"
      ]
    },
    {
      "cell_type": "code",
      "execution_count": null,
      "id": "0ffc1570",
      "metadata": {
        "id": "0ffc1570",
        "outputId": "7704da1d-7e57-4780-a09c-514ccc5e0911"
      },
      "outputs": [
        {
          "data": {
            "text/plain": [
              "array([[1., 1., 1., 1.],\n",
              "       [1., 0., 0., 1.],\n",
              "       [1., 0., 0., 1.],\n",
              "       [1., 1., 1., 1.]])"
            ]
          },
          "execution_count": 66,
          "metadata": {},
          "output_type": "execute_result"
        }
      ],
      "source": [
        "n = 4\n",
        "arr = np.zeros((n, n))\n",
        "arr[0:, 0] = 1   \n",
        "arr[0:, -1] = 1\n",
        "arr[0, 0:] = 1\n",
        "arr[-1, 0:] = 1\n",
        "arr"
      ]
    },
    {
      "cell_type": "markdown",
      "id": "6cc65be5",
      "metadata": {
        "id": "6cc65be5"
      },
      "source": [
        "#### 16. How to add a border (filled with 0's) around an existing array? (★☆☆)"
      ]
    },
    {
      "cell_type": "code",
      "execution_count": null,
      "id": "fe2d3e32",
      "metadata": {
        "id": "fe2d3e32",
        "outputId": "e2e19557-d4c2-45d5-de4d-0fc50d9eb827"
      },
      "outputs": [
        {
          "data": {
            "text/plain": [
              "array([[0., 0., 0., 0., 0., 0.],\n",
              "       [0., 1., 1., 1., 1., 0.],\n",
              "       [0., 1., 1., 1., 1., 0.],\n",
              "       [0., 1., 1., 1., 1., 0.],\n",
              "       [0., 1., 1., 1., 1., 0.],\n",
              "       [0., 0., 0., 0., 0., 0.]])"
            ]
          },
          "execution_count": 67,
          "metadata": {},
          "output_type": "execute_result"
        }
      ],
      "source": [
        "np.pad(np.ones((4,4)), pad_width=1)"
      ]
    },
    {
      "cell_type": "markdown",
      "id": "bc6b8ba5",
      "metadata": {
        "id": "bc6b8ba5"
      },
      "source": [
        "#### 17. What is the result of the following expression? (★☆☆)\n",
        "```python\n",
        "0 * np.nan\n",
        "np.nan == np.nan\n",
        "np.inf > np.nan\n",
        "np.nan - np.nan\n",
        "np.nan in set([np.nan])\n",
        "0.3 == 3 * 0.1\n",
        "```"
      ]
    },
    {
      "cell_type": "markdown",
      "id": "b337e583",
      "metadata": {
        "id": "b337e583"
      },
      "source": [
        "nan\n",
        "False\n",
        "False\n",
        "nan\n",
        "False"
      ]
    },
    {
      "cell_type": "markdown",
      "id": "3474406e",
      "metadata": {
        "id": "3474406e"
      },
      "source": [
        "#### 18. Create a 5x5 matrix with values 1,2,3,4 just below the diagonal (★☆☆)"
      ]
    },
    {
      "cell_type": "code",
      "execution_count": null,
      "id": "d7aed1f5",
      "metadata": {
        "id": "d7aed1f5",
        "outputId": "158ab9fa-8ec2-43b6-ae4b-b0e7f37d4739"
      },
      "outputs": [
        {
          "name": "stdout",
          "output_type": "stream",
          "text": [
            "[[1 0 0 0]\n",
            " [0 2 0 0]\n",
            " [0 0 3 0]\n",
            " [0 0 0 4]]\n",
            "[[0 0 0 0 0]\n",
            " [1 0 0 0 0]\n",
            " [0 2 0 0 0]\n",
            " [0 0 3 0 0]\n",
            " [0 0 0 4 0]]\n",
            "[[0 1 0 0 0]\n",
            " [0 0 2 0 0]\n",
            " [0 0 0 3 0]\n",
            " [0 0 0 0 4]\n",
            " [0 0 0 0 0]]\n"
          ]
        }
      ],
      "source": [
        "print(np.diag(np.arange(1, 5))) # на диагонали ток размерность меньше будет очев\n",
        "print(np.diag(np.arange(1, 5),k=-1)) # под\n",
        "print(np.diag(np.arange(1, 5),k=1)) # над"
      ]
    },
    {
      "cell_type": "markdown",
      "id": "0e5692a3",
      "metadata": {
        "id": "0e5692a3"
      },
      "source": [
        "#### 19. Create a 8x8 matrix and fill it with a checkerboard pattern (★☆☆)"
      ]
    },
    {
      "cell_type": "code",
      "execution_count": null,
      "id": "ebe82ea4",
      "metadata": {
        "id": "ebe82ea4",
        "outputId": "90fa780b-a340-4aa0-b946-80681fd8c7e3"
      },
      "outputs": [
        {
          "data": {
            "text/plain": [
              "array([[0, 1, 0, 1, 0, 1, 0, 1],\n",
              "       [1, 0, 1, 0, 1, 0, 1, 0],\n",
              "       [0, 1, 0, 1, 0, 1, 0, 1],\n",
              "       [1, 0, 1, 0, 1, 0, 1, 0],\n",
              "       [0, 1, 0, 1, 0, 1, 0, 1],\n",
              "       [1, 0, 1, 0, 1, 0, 1, 0],\n",
              "       [0, 1, 0, 1, 0, 1, 0, 1],\n",
              "       [1, 0, 1, 0, 1, 0, 1, 0]])"
            ]
          },
          "execution_count": 115,
          "metadata": {},
          "output_type": "execute_result"
        }
      ],
      "source": [
        "np.tile(np.array([[0,1],[1,0]]), (4,4))"
      ]
    },
    {
      "cell_type": "markdown",
      "id": "c82833b6",
      "metadata": {
        "id": "c82833b6"
      },
      "source": [
        "#### 20. Consider a (6,7,8) shape array, what is the index (x,y,z) of the 100th element? (★☆☆)"
      ]
    },
    {
      "cell_type": "code",
      "execution_count": null,
      "id": "c0122030",
      "metadata": {
        "id": "c0122030",
        "outputId": "caa38acf-8e80-4f7f-8418-8c750c01ea1e"
      },
      "outputs": [
        {
          "name": "stdout",
          "output_type": "stream",
          "text": [
            "(1, 5, 3)\n"
          ]
        }
      ],
      "source": [
        "print(np.unravel_index(99,(6,7,8))) "
      ]
    },
    {
      "cell_type": "markdown",
      "id": "c67a1a76",
      "metadata": {
        "id": "c67a1a76"
      },
      "source": [
        "#### 21. Create a checkerboard 8x8 matrix using the tile function (★☆☆)"
      ]
    },
    {
      "cell_type": "code",
      "execution_count": null,
      "id": "83da96bf",
      "metadata": {
        "id": "83da96bf",
        "outputId": "554eb1e9-134b-4b09-b285-e2b9297249e7"
      },
      "outputs": [
        {
          "data": {
            "text/plain": [
              "array([[0, 1, 0, 1, 0, 1, 0, 1],\n",
              "       [1, 0, 1, 0, 1, 0, 1, 0],\n",
              "       [0, 1, 0, 1, 0, 1, 0, 1],\n",
              "       [1, 0, 1, 0, 1, 0, 1, 0],\n",
              "       [0, 1, 0, 1, 0, 1, 0, 1],\n",
              "       [1, 0, 1, 0, 1, 0, 1, 0],\n",
              "       [0, 1, 0, 1, 0, 1, 0, 1],\n",
              "       [1, 0, 1, 0, 1, 0, 1, 0]])"
            ]
          },
          "execution_count": 116,
          "metadata": {},
          "output_type": "execute_result"
        }
      ],
      "source": [
        "np.tile(np.array([[0,1],[1,0]]), (4,4))"
      ]
    },
    {
      "cell_type": "markdown",
      "id": "5b448d0f",
      "metadata": {
        "id": "5b448d0f"
      },
      "source": [
        "#### 22. Normalize a 5x5 random matrix (★☆☆)"
      ]
    },
    {
      "cell_type": "code",
      "execution_count": null,
      "id": "e4b3de83",
      "metadata": {
        "id": "e4b3de83",
        "outputId": "4e9e27e3-cdc8-4619-8b66-9dccab471279"
      },
      "outputs": [
        {
          "data": {
            "text/plain": [
              "array([[ 1.04142159, -1.48428969,  0.93575844, -1.48758854, -0.60010954],\n",
              "       [ 0.17380466,  1.36293297, -1.41583508, -0.87556697,  0.00449641],\n",
              "       [-0.15992408,  0.18403992, -0.47389681,  0.37669447, -0.50999575],\n",
              "       [ 0.61435123,  0.29630228,  0.63226001,  1.08860412, -0.87264855],\n",
              "       [-1.29926325,  1.3290641 ,  2.10373726,  0.45640121, -1.42075038]])"
            ]
          },
          "execution_count": 123,
          "metadata": {},
          "output_type": "execute_result"
        }
      ],
      "source": [
        "arr = np.random.random((5,5))\n",
        "arr = (arr - np.mean(arr))/(np.std(arr)) # делаем z - преобразование \n",
        "arr"
      ]
    },
    {
      "cell_type": "markdown",
      "id": "bf8e75ce",
      "metadata": {
        "id": "bf8e75ce"
      },
      "source": [
        "#### 23. Create a custom dtype that describes a color as four unsigned bytes (RGBA) (★☆☆)"
      ]
    },
    {
      "cell_type": "code",
      "execution_count": null,
      "id": "53ee9d11",
      "metadata": {
        "id": "53ee9d11"
      },
      "outputs": [],
      "source": [
        "# хз "
      ]
    },
    {
      "cell_type": "markdown",
      "id": "d2f7b997",
      "metadata": {
        "id": "d2f7b997"
      },
      "source": [
        "#### 24. Multiply a 5x3 matrix by a 3x2 matrix (real matrix product) (★☆☆)"
      ]
    },
    {
      "cell_type": "code",
      "execution_count": null,
      "id": "fdd36884",
      "metadata": {
        "id": "fdd36884",
        "outputId": "cfdb903c-6756-4b20-8e7e-4604e43d3b34"
      },
      "outputs": [
        {
          "data": {
            "text/plain": [
              "array([[1.27022009, 1.27022009],\n",
              "       [1.77077551, 1.77077551],\n",
              "       [1.91336665, 1.91336665],\n",
              "       [1.17792234, 1.17792234],\n",
              "       [1.88298928, 1.88298928]])"
            ]
          },
          "execution_count": 130,
          "metadata": {},
          "output_type": "execute_result"
        }
      ],
      "source": [
        "np.random.random((5,3)) @ np.ones((3,2))"
      ]
    },
    {
      "cell_type": "markdown",
      "id": "eccafee1",
      "metadata": {
        "id": "eccafee1"
      },
      "source": [
        "#### 25. Given a 1D array, negate all elements which are between 3 and 8, in place. (★☆☆)"
      ]
    },
    {
      "cell_type": "code",
      "execution_count": null,
      "id": "41948e66",
      "metadata": {
        "id": "41948e66",
        "outputId": "f40532ac-cc24-4a38-dd5d-1ab474a46692"
      },
      "outputs": [
        {
          "data": {
            "text/plain": [
              "array([ 0,  1,  2, -3, -4, -5, -6, -7, -8,  9, 10, 11, 12, 13, 14])"
            ]
          },
          "execution_count": 158,
          "metadata": {},
          "output_type": "execute_result"
        }
      ],
      "source": [
        "arr = np.arange(15)\n",
        "np.array(list(map(lambda x: -x if x in np.arange(3, 9) else x, arr)))"
      ]
    },
    {
      "cell_type": "markdown",
      "id": "97a8bdc2",
      "metadata": {
        "id": "97a8bdc2"
      },
      "source": [
        "#### 26. What is the output of the following script? (★☆☆)\n",
        "```python\n",
        "# Author: Jake VanderPlas\n",
        "\n",
        "print(sum(range(5),-1))\n",
        "from numpy import *\n",
        "print(sum(range(5),-1))\n",
        "```"
      ]
    },
    {
      "cell_type": "markdown",
      "id": "73e42704",
      "metadata": {
        "id": "73e42704"
      },
      "source": [
        "9\n",
        "10"
      ]
    },
    {
      "cell_type": "markdown",
      "id": "54a073a6",
      "metadata": {
        "id": "54a073a6"
      },
      "source": [
        "#### 27. Consider an integer vector Z, which of these expressions are legal? (★☆☆)\n",
        "```python\n",
        "Z**Z\n",
        "2 << Z >> 2\n",
        "Z <- Z\n",
        "1j*Z\n",
        "Z/1/1\n",
        "Z<Z>Z\n",
        "```"
      ]
    },
    {
      "cell_type": "code",
      "execution_count": null,
      "id": "6a04842b",
      "metadata": {
        "id": "6a04842b"
      },
      "outputs": [],
      "source": [
        "# нельзя Z**Z Z<Z>Z "
      ]
    },
    {
      "cell_type": "markdown",
      "id": "8b399ecb",
      "metadata": {
        "id": "8b399ecb"
      },
      "source": [
        "#### 28. What are the result of the following expressions? (★☆☆)\n",
        "```python\n",
        "np.array(0) / np.array(0)\n",
        "np.array(0) // np.array(0)\n",
        "np.array([np.nan]).astype(int).astype(float)\n",
        "```"
      ]
    },
    {
      "cell_type": "code",
      "execution_count": null,
      "id": "0ca10ae6",
      "metadata": {
        "id": "0ca10ae6",
        "outputId": "d0cda735-bb8e-4716-93a9-3267ab2cb505"
      },
      "outputs": [
        {
          "name": "stdout",
          "output_type": "stream",
          "text": [
            "nan\n",
            "0\n",
            "[-9.22337204e+18]\n"
          ]
        },
        {
          "name": "stderr",
          "output_type": "stream",
          "text": [
            "<ipython-input-165-2a10de0ee61b>:1: RuntimeWarning: invalid value encountered in true_divide\n",
            "  print(np.array(0) / np.array(0))\n",
            "<ipython-input-165-2a10de0ee61b>:2: RuntimeWarning: divide by zero encountered in floor_divide\n",
            "  print(np.array(0) // np.array(0))\n"
          ]
        }
      ],
      "source": [
        "print(np.array(0) / np.array(0))\n",
        "print(np.array(0) // np.array(0))\n",
        "print(np.array([np.nan]).astype(int).astype(float))"
      ]
    },
    {
      "cell_type": "markdown",
      "id": "aba33cd3",
      "metadata": {
        "id": "aba33cd3"
      },
      "source": [
        "#### 29. How to round away from zero a float array ? (★☆☆)"
      ]
    },
    {
      "cell_type": "code",
      "execution_count": null,
      "id": "d16558ec",
      "metadata": {
        "id": "d16558ec",
        "outputId": "c3975800-4313-4876-f5e5-f9fc7d7a7667"
      },
      "outputs": [
        {
          "data": {
            "text/plain": [
              "array([ -5., -15.,  -6.,   6., -11.,   1.,  13.,  10.,  -6.,  -2.,  -2.,\n",
              "       -12.,  -6.,  -8.,  10.])"
            ]
          },
          "execution_count": 24,
          "metadata": {},
          "output_type": "execute_result"
        }
      ],
      "source": [
        "arr = np.random.uniform(-15, 15, 15)\n",
        "np.copysign(np.ceil(np.abs(arr)), arr)"
      ]
    },
    {
      "cell_type": "markdown",
      "id": "394d1a46",
      "metadata": {
        "id": "394d1a46"
      },
      "source": [
        "#### 30. How to find common values between two arrays? (★☆☆)"
      ]
    },
    {
      "cell_type": "code",
      "execution_count": 4,
      "id": "1af1294f",
      "metadata": {
        "colab": {
          "base_uri": "https://localhost:8080/"
        },
        "id": "1af1294f",
        "outputId": "82bc1264-a6b0-49c5-94d1-7c449b5ee2dd"
      },
      "outputs": [
        {
          "output_type": "execute_result",
          "data": {
            "text/plain": [
              "array([0, 1, 2, 3, 4])"
            ]
          },
          "metadata": {},
          "execution_count": 4
        }
      ],
      "source": [
        "arr1 = np.arange(-5, 5)\n",
        "arr2 = np.arange(10)\n",
        "np.intersect1d(arr1, arr2)"
      ]
    },
    {
      "cell_type": "markdown",
      "id": "264468c2",
      "metadata": {
        "id": "264468c2"
      },
      "source": [
        "#### 31. How to ignore all numpy warnings (not recommended)? (★☆☆)"
      ]
    },
    {
      "cell_type": "code",
      "execution_count": 10,
      "id": "5190bc1e",
      "metadata": {
        "id": "5190bc1e"
      },
      "outputs": [],
      "source": [
        "defaults = np.seterr(all=\"ignore\")\n",
        "arr = np.arange(10)\n",
        "arr = arr / 0"
      ]
    },
    {
      "cell_type": "markdown",
      "id": "bf099460",
      "metadata": {
        "id": "bf099460"
      },
      "source": [
        "#### 32. Is the following expressions true? (★☆☆)\n",
        "```python\n",
        "np.sqrt(-1) == np.emath.sqrt(-1)\n",
        "```"
      ]
    },
    {
      "cell_type": "markdown",
      "id": "1ade45e7",
      "metadata": {
        "id": "1ade45e7"
      },
      "source": [
        "Нет, будут возвращены разные значения: nan и i (1j)"
      ]
    },
    {
      "cell_type": "markdown",
      "id": "5cca55b6",
      "metadata": {
        "id": "5cca55b6"
      },
      "source": [
        "#### 33. How to get the dates of yesterday, today and tomorrow? (★☆☆)"
      ]
    },
    {
      "cell_type": "code",
      "execution_count": 15,
      "id": "fe107cdd",
      "metadata": {
        "colab": {
          "base_uri": "https://localhost:8080/"
        },
        "id": "fe107cdd",
        "outputId": "705b503e-65fb-45ff-f426-e86ff652b019"
      },
      "outputs": [
        {
          "output_type": "stream",
          "name": "stdout",
          "text": [
            "yesterday: 2022-12-24 , today: 2022-12-25, tomorrow: 2022-12-26\n"
          ]
        }
      ],
      "source": [
        "print(f\"yesterday: {np.datetime64('today', 'D') - np.timedelta64(1, 'D')} , today: {np.datetime64('today', 'D')}, tomorrow: {np.datetime64('today', 'D') + np.timedelta64(1, 'D')}\")"
      ]
    },
    {
      "cell_type": "markdown",
      "id": "8f6ff162",
      "metadata": {
        "id": "8f6ff162"
      },
      "source": [
        "#### 34. How to get all the dates corresponding to the month of July 2016? (★★☆)"
      ]
    },
    {
      "cell_type": "code",
      "execution_count": 18,
      "id": "0f727984",
      "metadata": {
        "colab": {
          "base_uri": "https://localhost:8080/"
        },
        "id": "0f727984",
        "outputId": "9e2c888d-70b0-47e4-85c4-468f6fb25504"
      },
      "outputs": [
        {
          "output_type": "stream",
          "name": "stdout",
          "text": [
            "['2016-07-01' '2016-07-02' '2016-07-03' '2016-07-04' '2016-07-05'\n",
            " '2016-07-06' '2016-07-07' '2016-07-08' '2016-07-09' '2016-07-10'\n",
            " '2016-07-11' '2016-07-12' '2016-07-13' '2016-07-14' '2016-07-15'\n",
            " '2016-07-16' '2016-07-17' '2016-07-18' '2016-07-19' '2016-07-20'\n",
            " '2016-07-21' '2016-07-22' '2016-07-23' '2016-07-24' '2016-07-25'\n",
            " '2016-07-26' '2016-07-27' '2016-07-28' '2016-07-29' '2016-07-30'\n",
            " '2016-07-31']\n"
          ]
        }
      ],
      "source": [
        "days = np.arange(\"2016-07\", \"2016-08\", dtype=\"datetime64[D]\")\n",
        "print(days)"
      ]
    },
    {
      "cell_type": "markdown",
      "id": "fd13fca7",
      "metadata": {
        "id": "fd13fca7"
      },
      "source": [
        "#### 35. How to compute ((A+B)*(-A/2)) in place (without copy)? (★★☆)"
      ]
    },
    {
      "cell_type": "code",
      "execution_count": 27,
      "id": "bd2a7e85",
      "metadata": {
        "colab": {
          "base_uri": "https://localhost:8080/"
        },
        "id": "bd2a7e85",
        "outputId": "af212bcc-0f51-463f-d4de-bc632a33a817"
      },
      "outputs": [
        {
          "output_type": "execute_result",
          "data": {
            "text/plain": [
              "array([[-1., -0., -0., -0., -0.],\n",
              "       [-0., -1., -0., -0., -0.],\n",
              "       [-0., -0., -1., -0., -0.],\n",
              "       [-0., -0., -0., -1., -0.],\n",
              "       [-0., -0., -0., -0., -1.]])"
            ]
          },
          "metadata": {},
          "execution_count": 27
        }
      ],
      "source": [
        "A = np.eye(5) \n",
        "B = np.eye(5) \n",
        "np.add(A, B, out=B)\n",
        "np.negative(A, out=A)\n",
        "np.divide(A, 2, out=A)\n",
        "np.multiply(A, B, out=A)"
      ]
    },
    {
      "cell_type": "markdown",
      "id": "19028c3e",
      "metadata": {
        "id": "19028c3e"
      },
      "source": [
        "#### 36. Extract the integer part of a random array of positive numbers using 4 different methods (★★☆)"
      ]
    },
    {
      "cell_type": "code",
      "execution_count": 37,
      "id": "ceee9177",
      "metadata": {
        "colab": {
          "base_uri": "https://localhost:8080/"
        },
        "id": "ceee9177",
        "outputId": "a850bcba-65e4-4683-afcb-2590347688b1"
      },
      "outputs": [
        {
          "output_type": "stream",
          "name": "stdout",
          "text": [
            "[ 9.  9.  7.  1. -9.]\n",
            "[ 9.  9.  7.  1. -9.]\n",
            "[ 9.  9.  7.  1. -9.]\n",
            "[ 9  9  7  1 -8]\n"
          ]
        }
      ],
      "source": [
        "arr = np.random.normal(0, 10, 5)\n",
        "print(np.floor(arr))\n",
        "print(arr - arr%1)\n",
        "print(arr // 1)\n",
        "print(arr.astype(int))"
      ]
    },
    {
      "cell_type": "markdown",
      "id": "a87b5198",
      "metadata": {
        "id": "a87b5198"
      },
      "source": [
        "#### 37. Create a 5x5 matrix with row values ranging from 0 to 4 (★★☆)"
      ]
    },
    {
      "cell_type": "code",
      "execution_count": 38,
      "id": "b0fce747",
      "metadata": {
        "colab": {
          "base_uri": "https://localhost:8080/"
        },
        "id": "b0fce747",
        "outputId": "ef59d196-66fd-4fb1-a0f7-cdccbe1b0077"
      },
      "outputs": [
        {
          "output_type": "execute_result",
          "data": {
            "text/plain": [
              "array([[0, 1, 2, 3, 4],\n",
              "       [0, 1, 2, 3, 4],\n",
              "       [0, 1, 2, 3, 4],\n",
              "       [0, 1, 2, 3, 4],\n",
              "       [0, 1, 2, 3, 4]])"
            ]
          },
          "metadata": {},
          "execution_count": 38
        }
      ],
      "source": [
        "np.array([np.arange(5) for i in range(0, 5)])"
      ]
    },
    {
      "cell_type": "markdown",
      "id": "5f1bcc95",
      "metadata": {
        "id": "5f1bcc95"
      },
      "source": [
        "#### 38. Consider a generator function that generates 10 integers and use it to build an array (★☆☆)"
      ]
    },
    {
      "cell_type": "code",
      "execution_count": 42,
      "id": "7d3b1c15",
      "metadata": {
        "colab": {
          "base_uri": "https://localhost:8080/"
        },
        "id": "7d3b1c15",
        "outputId": "8a4f9251-fa37-449c-d00d-4351f4e82e11"
      },
      "outputs": [
        {
          "output_type": "execute_result",
          "data": {
            "text/plain": [
              "array([ 4,  5,  6,  7,  8,  9, 10,  0,  1,  2])"
            ]
          },
          "metadata": {},
          "execution_count": 42
        }
      ],
      "source": [
        "def generator():\n",
        "    for i in range(10):\n",
        "        yield (i + 4 ) % 11\n",
        "np.array([i for i in generator()])"
      ]
    },
    {
      "cell_type": "markdown",
      "id": "52f54e33",
      "metadata": {
        "id": "52f54e33"
      },
      "source": [
        "#### 39. Create a vector of size 10 with values ranging from 0 to 1, both excluded (★★☆)"
      ]
    },
    {
      "cell_type": "code",
      "execution_count": 46,
      "id": "3b6a1e38",
      "metadata": {
        "colab": {
          "base_uri": "https://localhost:8080/"
        },
        "id": "3b6a1e38",
        "outputId": "e81b8bd0-e729-40a2-c4bb-69bc43b4a047"
      },
      "outputs": [
        {
          "output_type": "execute_result",
          "data": {
            "text/plain": [
              "array([0.01 , 0.109, 0.208, 0.307, 0.406, 0.505, 0.604, 0.703, 0.802,\n",
              "       0.901])"
            ]
          },
          "metadata": {},
          "execution_count": 46
        }
      ],
      "source": [
        "np.linspace(0.01,1,10,endpoint=False)"
      ]
    },
    {
      "cell_type": "markdown",
      "id": "e7c8218d",
      "metadata": {
        "id": "e7c8218d"
      },
      "source": [
        "#### 40. Create a random vector of size 10 and sort it (★★☆)"
      ]
    },
    {
      "cell_type": "code",
      "execution_count": 48,
      "id": "5a8f0094",
      "metadata": {
        "colab": {
          "base_uri": "https://localhost:8080/"
        },
        "id": "5a8f0094",
        "outputId": "a309c628-bbf3-453c-81a4-0fed6f7238d1"
      },
      "outputs": [
        {
          "output_type": "execute_result",
          "data": {
            "text/plain": [
              "array([0.16558616, 0.30150026, 0.37160832, 0.43919941, 0.77168362,\n",
              "       0.78334247, 0.84186144, 0.95039966, 0.96673269, 0.98572534])"
            ]
          },
          "metadata": {},
          "execution_count": 48
        }
      ],
      "source": [
        "np.sort(np.random.random(10))"
      ]
    },
    {
      "cell_type": "markdown",
      "id": "ac8704a1",
      "metadata": {
        "id": "ac8704a1"
      },
      "source": [
        "#### 41. How to sum a small array faster than np.sum? (★★☆)"
      ]
    },
    {
      "cell_type": "markdown",
      "id": "709929f4",
      "metadata": {
        "id": "709929f4"
      },
      "source": [
        "idk"
      ]
    },
    {
      "cell_type": "markdown",
      "id": "b8146e93",
      "metadata": {
        "id": "b8146e93"
      },
      "source": [
        "#### 42. Consider two random array A and B, check if they are equal (★★☆)"
      ]
    },
    {
      "cell_type": "code",
      "execution_count": 49,
      "id": "68deb502",
      "metadata": {
        "colab": {
          "base_uri": "https://localhost:8080/"
        },
        "id": "68deb502",
        "outputId": "0fa48b5c-c548-4777-bba3-92f739574b6c"
      },
      "outputs": [
        {
          "output_type": "stream",
          "name": "stdout",
          "text": [
            "False\n"
          ]
        }
      ],
      "source": [
        "arr1 = np.random.random(10)\n",
        "arr2 = np.random.random(10)\n",
        "print(np.allclose(arr1,arr2))"
      ]
    },
    {
      "cell_type": "markdown",
      "id": "47856e0c",
      "metadata": {
        "id": "47856e0c"
      },
      "source": [
        "#### 43. Make an array immutable (read-only) (★★☆)"
      ]
    },
    {
      "cell_type": "code",
      "execution_count": 240,
      "id": "41bf7893",
      "metadata": {
        "colab": {
          "base_uri": "https://localhost:8080/"
        },
        "id": "41bf7893",
        "outputId": "75d90fa5-f3f0-4780-e184-8ad89a164cd8"
      },
      "outputs": [
        {
          "output_type": "stream",
          "name": "stdout",
          "text": [
            "Ошибка: массив только для записи \n"
          ]
        }
      ],
      "source": [
        "arr = np.arange(10)\n",
        "arr.flags.writeable = False\n",
        "try: \n",
        "    arr[4] = 1\n",
        "except ValueError:\n",
        "    print('Ошибка: массив только для записи ')"
      ]
    },
    {
      "cell_type": "markdown",
      "id": "4ef9f93f",
      "metadata": {
        "id": "4ef9f93f"
      },
      "source": [
        "#### 44. Consider a random 10x2 matrix representing cartesian coordinates, convert them to polar coordinates (★★☆)"
      ]
    },
    {
      "cell_type": "code",
      "execution_count": 241,
      "id": "027eaa95",
      "metadata": {
        "colab": {
          "base_uri": "https://localhost:8080/"
        },
        "id": "027eaa95",
        "outputId": "eddde3a8-5384-45f3-ec42-a95fe624ef30"
      },
      "outputs": [
        {
          "output_type": "stream",
          "name": "stdout",
          "text": [
            "[[ 1.  0.]\n",
            " [ 1.  1.]\n",
            " [ 0.  1.]\n",
            " [-1.  1.]\n",
            " [-1.  0.]\n",
            " [-1. -1.]\n",
            " [ 0. -1.]\n",
            " [ 1. -1.]]\n",
            "=======\n",
            "[[ 1.     0.   ]\n",
            " [ 1.414  0.785]\n",
            " [ 1.     1.571]\n",
            " [ 1.414  2.356]\n",
            " [ 1.     3.142]\n",
            " [ 1.414 -2.356]\n",
            " [ 1.    -1.571]\n",
            " [ 1.414 -0.785]]\n"
          ]
        }
      ],
      "source": [
        "v = np.array([[1,0],[1,1], [0,1], [-1,1], [-1,0], [-1,-1], [0,-1], [1,-1]]).astype(np.float64)\n",
        "print(v)\n",
        "print('=======')\n",
        "x,y = v[:,0], v[:,1]\n",
        "r = np.sqrt(x**2+y**2)\n",
        "e = np.arctan2(y,x)\n",
        "v[:,0] = r\n",
        "v[:,1] = e\n",
        "print(v)"
      ]
    },
    {
      "cell_type": "markdown",
      "id": "8088ba15",
      "metadata": {
        "id": "8088ba15"
      },
      "source": [
        "#### 45. Create random vector of size 10 and replace the maximum value by 0 (★★☆)"
      ]
    },
    {
      "cell_type": "code",
      "execution_count": 242,
      "id": "887d61d8",
      "metadata": {
        "colab": {
          "base_uri": "https://localhost:8080/"
        },
        "id": "887d61d8",
        "outputId": "2bcd4bcf-0c7d-4b31-a713-efa0c1f5314b"
      },
      "outputs": [
        {
          "output_type": "stream",
          "name": "stdout",
          "text": [
            "[2 2 3 3 8 7 4 7 9 8]\n",
            "[2 2 3 3 8 7 4 7 0 8]\n"
          ]
        }
      ],
      "source": [
        "arr = np.random.randint(1,10, 10)\n",
        "print( arr)\n",
        "arr[arr.argmax()] = 0\n",
        "print(arr)"
      ]
    },
    {
      "cell_type": "markdown",
      "id": "bee9f378",
      "metadata": {
        "id": "bee9f378"
      },
      "source": [
        "#### 46. Create a structured array with `x` and `y` coordinates covering the [0,1]x[0,1] area (★★☆)"
      ]
    },
    {
      "cell_type": "code",
      "execution_count": 243,
      "id": "d39b344b",
      "metadata": {
        "colab": {
          "base_uri": "https://localhost:8080/"
        },
        "id": "d39b344b",
        "outputId": "4e1a2f7b-493f-464f-8e1c-9bc7494c8ed0"
      },
      "outputs": [
        {
          "output_type": "stream",
          "name": "stdout",
          "text": [
            "[[(0. , 0. ) (0.5, 0. ) (1. , 0. )]\n",
            " [(0. , 0.5) (0.5, 0.5) (1. , 0.5)]\n",
            " [(0. , 1. ) (0.5, 1. ) (1. , 1. )]]\n"
          ]
        }
      ],
      "source": [
        "arr = np.zeros((3,3), [('x',float),('y',float)]) \n",
        "arr['x'], arr['y'] = np.meshgrid(np.linspace(0,1,3),\n",
        "                             np.linspace(0,1,3))\n",
        "print(arr)"
      ]
    },
    {
      "cell_type": "markdown",
      "id": "046427e2",
      "metadata": {
        "id": "046427e2"
      },
      "source": [
        "#### 47. Given two arrays, X and Y, construct the Cauchy matrix C (Cij =1/(xi - yj)) (★★☆)"
      ]
    },
    {
      "cell_type": "code",
      "execution_count": 245,
      "id": "70fd2229",
      "metadata": {
        "colab": {
          "base_uri": "https://localhost:8080/"
        },
        "id": "70fd2229",
        "outputId": "bef26dee-d55d-4899-ee3d-4c34aa701e5f"
      },
      "outputs": [
        {
          "output_type": "stream",
          "name": "stdout",
          "text": [
            "[0 1 2 3]\n",
            "[0.5 1.5 2.5 3.5]\n",
            "Матрица Коши [[-2.    -0.667 -0.4   -0.286]\n",
            " [ 2.    -2.    -0.667 -0.4  ]\n",
            " [ 0.667  2.    -2.    -0.667]\n",
            " [ 0.4    0.667  2.    -2.   ]]\n",
            "Определитель матрицы Коши 44.38416931216933\n"
          ]
        }
      ],
      "source": [
        "X = np.arange(4)\n",
        "print(X)\n",
        "\n",
        "Y = X + 0.5\n",
        "print(Y)\n",
        "\n",
        "C = 1.0 / np.subtract.outer(X, Y)\n",
        "print('Матрица Коши', C)\n",
        "print('Определитель матрицы Коши', np.linalg.det(C))"
      ]
    },
    {
      "cell_type": "markdown",
      "id": "e443b82e",
      "metadata": {
        "id": "e443b82e"
      },
      "source": [
        "#### 48. Print the minimum and maximum representable value for each numpy scalar type (★★☆)"
      ]
    },
    {
      "cell_type": "code",
      "execution_count": 89,
      "id": "75203dd0",
      "metadata": {
        "colab": {
          "base_uri": "https://localhost:8080/"
        },
        "id": "75203dd0",
        "outputId": "cf679a31-fde1-4f57-9a46-3e49556022a0"
      },
      "outputs": [
        {
          "output_type": "stream",
          "name": "stdout",
          "text": [
            "Тип: int8, минимум: -128, максимум: 127\n",
            "Тип: int32, минимум: -2147483648, максимум: 2147483647\n",
            "Тип: int64, минимум: -9223372036854775808, максимум: 9223372036854775807\n",
            "Тип: float32, минимум: -3.4028234663852886e+38, максимум: 3.4028234663852886e+38\n",
            "Тип: float64, минимум: -1.7976931348623157e+308, максимум: 1.7976931348623157e+308\n"
          ]
        }
      ],
      "source": [
        "for dtype in [np.int8, np.int32, np.int64]:\n",
        "   print(f'Тип: {dtype.__name__}, минимум: {np.iinfo(dtype).min}, максимум: {np.iinfo(dtype).max}')\n",
        "for dtype in [np.float32, np.float64]:\n",
        "   print(f'Тип: {dtype.__name__}, минимум: {np.finfo(dtype).min}, максимум: {np.finfo(dtype).max}')"
      ]
    },
    {
      "cell_type": "markdown",
      "id": "8892f6f8",
      "metadata": {
        "id": "8892f6f8"
      },
      "source": [
        "#### 49. How to print all the values of an array? (★★☆)"
      ]
    },
    {
      "cell_type": "code",
      "execution_count": 246,
      "id": "8046766d",
      "metadata": {
        "colab": {
          "base_uri": "https://localhost:8080/"
        },
        "id": "8046766d",
        "outputId": "88167a28-4e87-4eaf-cca3-b013c634d0e8"
      },
      "outputs": [
        {
          "output_type": "stream",
          "name": "stdout",
          "text": [
            "Значение порога по умолчанию: inf\n",
            "Вывод нулевого массива 26 на 100 [[0. 0. 0. 0. 0. 0. 0. 0. 0. 0. 0. 0. 0. 0. 0. 0. 0. 0. 0. 0. 0. 0. 0. 0.\n",
            "  0. 0. 0. 0. 0. 0. 0. 0. 0. 0. 0. 0. 0. 0. 0. 0. 0. 0. 0. 0. 0. 0. 0. 0.\n",
            "  0. 0. 0. 0. 0. 0. 0. 0. 0. 0. 0. 0. 0. 0. 0. 0. 0. 0. 0. 0. 0. 0. 0. 0.\n",
            "  0. 0. 0. 0. 0. 0. 0. 0. 0. 0. 0. 0. 0. 0. 0. 0. 0. 0. 0. 0. 0. 0. 0. 0.\n",
            "  0. 0. 0. 0.]\n",
            " [0. 0. 0. 0. 0. 0. 0. 0. 0. 0. 0. 0. 0. 0. 0. 0. 0. 0. 0. 0. 0. 0. 0. 0.\n",
            "  0. 0. 0. 0. 0. 0. 0. 0. 0. 0. 0. 0. 0. 0. 0. 0. 0. 0. 0. 0. 0. 0. 0. 0.\n",
            "  0. 0. 0. 0. 0. 0. 0. 0. 0. 0. 0. 0. 0. 0. 0. 0. 0. 0. 0. 0. 0. 0. 0. 0.\n",
            "  0. 0. 0. 0. 0. 0. 0. 0. 0. 0. 0. 0. 0. 0. 0. 0. 0. 0. 0. 0. 0. 0. 0. 0.\n",
            "  0. 0. 0. 0.]\n",
            " [0. 0. 0. 0. 0. 0. 0. 0. 0. 0. 0. 0. 0. 0. 0. 0. 0. 0. 0. 0. 0. 0. 0. 0.\n",
            "  0. 0. 0. 0. 0. 0. 0. 0. 0. 0. 0. 0. 0. 0. 0. 0. 0. 0. 0. 0. 0. 0. 0. 0.\n",
            "  0. 0. 0. 0. 0. 0. 0. 0. 0. 0. 0. 0. 0. 0. 0. 0. 0. 0. 0. 0. 0. 0. 0. 0.\n",
            "  0. 0. 0. 0. 0. 0. 0. 0. 0. 0. 0. 0. 0. 0. 0. 0. 0. 0. 0. 0. 0. 0. 0. 0.\n",
            "  0. 0. 0. 0.]\n",
            " [0. 0. 0. 0. 0. 0. 0. 0. 0. 0. 0. 0. 0. 0. 0. 0. 0. 0. 0. 0. 0. 0. 0. 0.\n",
            "  0. 0. 0. 0. 0. 0. 0. 0. 0. 0. 0. 0. 0. 0. 0. 0. 0. 0. 0. 0. 0. 0. 0. 0.\n",
            "  0. 0. 0. 0. 0. 0. 0. 0. 0. 0. 0. 0. 0. 0. 0. 0. 0. 0. 0. 0. 0. 0. 0. 0.\n",
            "  0. 0. 0. 0. 0. 0. 0. 0. 0. 0. 0. 0. 0. 0. 0. 0. 0. 0. 0. 0. 0. 0. 0. 0.\n",
            "  0. 0. 0. 0.]\n",
            " [0. 0. 0. 0. 0. 0. 0. 0. 0. 0. 0. 0. 0. 0. 0. 0. 0. 0. 0. 0. 0. 0. 0. 0.\n",
            "  0. 0. 0. 0. 0. 0. 0. 0. 0. 0. 0. 0. 0. 0. 0. 0. 0. 0. 0. 0. 0. 0. 0. 0.\n",
            "  0. 0. 0. 0. 0. 0. 0. 0. 0. 0. 0. 0. 0. 0. 0. 0. 0. 0. 0. 0. 0. 0. 0. 0.\n",
            "  0. 0. 0. 0. 0. 0. 0. 0. 0. 0. 0. 0. 0. 0. 0. 0. 0. 0. 0. 0. 0. 0. 0. 0.\n",
            "  0. 0. 0. 0.]\n",
            " [0. 0. 0. 0. 0. 0. 0. 0. 0. 0. 0. 0. 0. 0. 0. 0. 0. 0. 0. 0. 0. 0. 0. 0.\n",
            "  0. 0. 0. 0. 0. 0. 0. 0. 0. 0. 0. 0. 0. 0. 0. 0. 0. 0. 0. 0. 0. 0. 0. 0.\n",
            "  0. 0. 0. 0. 0. 0. 0. 0. 0. 0. 0. 0. 0. 0. 0. 0. 0. 0. 0. 0. 0. 0. 0. 0.\n",
            "  0. 0. 0. 0. 0. 0. 0. 0. 0. 0. 0. 0. 0. 0. 0. 0. 0. 0. 0. 0. 0. 0. 0. 0.\n",
            "  0. 0. 0. 0.]\n",
            " [0. 0. 0. 0. 0. 0. 0. 0. 0. 0. 0. 0. 0. 0. 0. 0. 0. 0. 0. 0. 0. 0. 0. 0.\n",
            "  0. 0. 0. 0. 0. 0. 0. 0. 0. 0. 0. 0. 0. 0. 0. 0. 0. 0. 0. 0. 0. 0. 0. 0.\n",
            "  0. 0. 0. 0. 0. 0. 0. 0. 0. 0. 0. 0. 0. 0. 0. 0. 0. 0. 0. 0. 0. 0. 0. 0.\n",
            "  0. 0. 0. 0. 0. 0. 0. 0. 0. 0. 0. 0. 0. 0. 0. 0. 0. 0. 0. 0. 0. 0. 0. 0.\n",
            "  0. 0. 0. 0.]\n",
            " [0. 0. 0. 0. 0. 0. 0. 0. 0. 0. 0. 0. 0. 0. 0. 0. 0. 0. 0. 0. 0. 0. 0. 0.\n",
            "  0. 0. 0. 0. 0. 0. 0. 0. 0. 0. 0. 0. 0. 0. 0. 0. 0. 0. 0. 0. 0. 0. 0. 0.\n",
            "  0. 0. 0. 0. 0. 0. 0. 0. 0. 0. 0. 0. 0. 0. 0. 0. 0. 0. 0. 0. 0. 0. 0. 0.\n",
            "  0. 0. 0. 0. 0. 0. 0. 0. 0. 0. 0. 0. 0. 0. 0. 0. 0. 0. 0. 0. 0. 0. 0. 0.\n",
            "  0. 0. 0. 0.]\n",
            " [0. 0. 0. 0. 0. 0. 0. 0. 0. 0. 0. 0. 0. 0. 0. 0. 0. 0. 0. 0. 0. 0. 0. 0.\n",
            "  0. 0. 0. 0. 0. 0. 0. 0. 0. 0. 0. 0. 0. 0. 0. 0. 0. 0. 0. 0. 0. 0. 0. 0.\n",
            "  0. 0. 0. 0. 0. 0. 0. 0. 0. 0. 0. 0. 0. 0. 0. 0. 0. 0. 0. 0. 0. 0. 0. 0.\n",
            "  0. 0. 0. 0. 0. 0. 0. 0. 0. 0. 0. 0. 0. 0. 0. 0. 0. 0. 0. 0. 0. 0. 0. 0.\n",
            "  0. 0. 0. 0.]\n",
            " [0. 0. 0. 0. 0. 0. 0. 0. 0. 0. 0. 0. 0. 0. 0. 0. 0. 0. 0. 0. 0. 0. 0. 0.\n",
            "  0. 0. 0. 0. 0. 0. 0. 0. 0. 0. 0. 0. 0. 0. 0. 0. 0. 0. 0. 0. 0. 0. 0. 0.\n",
            "  0. 0. 0. 0. 0. 0. 0. 0. 0. 0. 0. 0. 0. 0. 0. 0. 0. 0. 0. 0. 0. 0. 0. 0.\n",
            "  0. 0. 0. 0. 0. 0. 0. 0. 0. 0. 0. 0. 0. 0. 0. 0. 0. 0. 0. 0. 0. 0. 0. 0.\n",
            "  0. 0. 0. 0.]\n",
            " [0. 0. 0. 0. 0. 0. 0. 0. 0. 0. 0. 0. 0. 0. 0. 0. 0. 0. 0. 0. 0. 0. 0. 0.\n",
            "  0. 0. 0. 0. 0. 0. 0. 0. 0. 0. 0. 0. 0. 0. 0. 0. 0. 0. 0. 0. 0. 0. 0. 0.\n",
            "  0. 0. 0. 0. 0. 0. 0. 0. 0. 0. 0. 0. 0. 0. 0. 0. 0. 0. 0. 0. 0. 0. 0. 0.\n",
            "  0. 0. 0. 0. 0. 0. 0. 0. 0. 0. 0. 0. 0. 0. 0. 0. 0. 0. 0. 0. 0. 0. 0. 0.\n",
            "  0. 0. 0. 0.]\n",
            " [0. 0. 0. 0. 0. 0. 0. 0. 0. 0. 0. 0. 0. 0. 0. 0. 0. 0. 0. 0. 0. 0. 0. 0.\n",
            "  0. 0. 0. 0. 0. 0. 0. 0. 0. 0. 0. 0. 0. 0. 0. 0. 0. 0. 0. 0. 0. 0. 0. 0.\n",
            "  0. 0. 0. 0. 0. 0. 0. 0. 0. 0. 0. 0. 0. 0. 0. 0. 0. 0. 0. 0. 0. 0. 0. 0.\n",
            "  0. 0. 0. 0. 0. 0. 0. 0. 0. 0. 0. 0. 0. 0. 0. 0. 0. 0. 0. 0. 0. 0. 0. 0.\n",
            "  0. 0. 0. 0.]\n",
            " [0. 0. 0. 0. 0. 0. 0. 0. 0. 0. 0. 0. 0. 0. 0. 0. 0. 0. 0. 0. 0. 0. 0. 0.\n",
            "  0. 0. 0. 0. 0. 0. 0. 0. 0. 0. 0. 0. 0. 0. 0. 0. 0. 0. 0. 0. 0. 0. 0. 0.\n",
            "  0. 0. 0. 0. 0. 0. 0. 0. 0. 0. 0. 0. 0. 0. 0. 0. 0. 0. 0. 0. 0. 0. 0. 0.\n",
            "  0. 0. 0. 0. 0. 0. 0. 0. 0. 0. 0. 0. 0. 0. 0. 0. 0. 0. 0. 0. 0. 0. 0. 0.\n",
            "  0. 0. 0. 0.]\n",
            " [0. 0. 0. 0. 0. 0. 0. 0. 0. 0. 0. 0. 0. 0. 0. 0. 0. 0. 0. 0. 0. 0. 0. 0.\n",
            "  0. 0. 0. 0. 0. 0. 0. 0. 0. 0. 0. 0. 0. 0. 0. 0. 0. 0. 0. 0. 0. 0. 0. 0.\n",
            "  0. 0. 0. 0. 0. 0. 0. 0. 0. 0. 0. 0. 0. 0. 0. 0. 0. 0. 0. 0. 0. 0. 0. 0.\n",
            "  0. 0. 0. 0. 0. 0. 0. 0. 0. 0. 0. 0. 0. 0. 0. 0. 0. 0. 0. 0. 0. 0. 0. 0.\n",
            "  0. 0. 0. 0.]\n",
            " [0. 0. 0. 0. 0. 0. 0. 0. 0. 0. 0. 0. 0. 0. 0. 0. 0. 0. 0. 0. 0. 0. 0. 0.\n",
            "  0. 0. 0. 0. 0. 0. 0. 0. 0. 0. 0. 0. 0. 0. 0. 0. 0. 0. 0. 0. 0. 0. 0. 0.\n",
            "  0. 0. 0. 0. 0. 0. 0. 0. 0. 0. 0. 0. 0. 0. 0. 0. 0. 0. 0. 0. 0. 0. 0. 0.\n",
            "  0. 0. 0. 0. 0. 0. 0. 0. 0. 0. 0. 0. 0. 0. 0. 0. 0. 0. 0. 0. 0. 0. 0. 0.\n",
            "  0. 0. 0. 0.]\n",
            " [0. 0. 0. 0. 0. 0. 0. 0. 0. 0. 0. 0. 0. 0. 0. 0. 0. 0. 0. 0. 0. 0. 0. 0.\n",
            "  0. 0. 0. 0. 0. 0. 0. 0. 0. 0. 0. 0. 0. 0. 0. 0. 0. 0. 0. 0. 0. 0. 0. 0.\n",
            "  0. 0. 0. 0. 0. 0. 0. 0. 0. 0. 0. 0. 0. 0. 0. 0. 0. 0. 0. 0. 0. 0. 0. 0.\n",
            "  0. 0. 0. 0. 0. 0. 0. 0. 0. 0. 0. 0. 0. 0. 0. 0. 0. 0. 0. 0. 0. 0. 0. 0.\n",
            "  0. 0. 0. 0.]\n",
            " [0. 0. 0. 0. 0. 0. 0. 0. 0. 0. 0. 0. 0. 0. 0. 0. 0. 0. 0. 0. 0. 0. 0. 0.\n",
            "  0. 0. 0. 0. 0. 0. 0. 0. 0. 0. 0. 0. 0. 0. 0. 0. 0. 0. 0. 0. 0. 0. 0. 0.\n",
            "  0. 0. 0. 0. 0. 0. 0. 0. 0. 0. 0. 0. 0. 0. 0. 0. 0. 0. 0. 0. 0. 0. 0. 0.\n",
            "  0. 0. 0. 0. 0. 0. 0. 0. 0. 0. 0. 0. 0. 0. 0. 0. 0. 0. 0. 0. 0. 0. 0. 0.\n",
            "  0. 0. 0. 0.]\n",
            " [0. 0. 0. 0. 0. 0. 0. 0. 0. 0. 0. 0. 0. 0. 0. 0. 0. 0. 0. 0. 0. 0. 0. 0.\n",
            "  0. 0. 0. 0. 0. 0. 0. 0. 0. 0. 0. 0. 0. 0. 0. 0. 0. 0. 0. 0. 0. 0. 0. 0.\n",
            "  0. 0. 0. 0. 0. 0. 0. 0. 0. 0. 0. 0. 0. 0. 0. 0. 0. 0. 0. 0. 0. 0. 0. 0.\n",
            "  0. 0. 0. 0. 0. 0. 0. 0. 0. 0. 0. 0. 0. 0. 0. 0. 0. 0. 0. 0. 0. 0. 0. 0.\n",
            "  0. 0. 0. 0.]\n",
            " [0. 0. 0. 0. 0. 0. 0. 0. 0. 0. 0. 0. 0. 0. 0. 0. 0. 0. 0. 0. 0. 0. 0. 0.\n",
            "  0. 0. 0. 0. 0. 0. 0. 0. 0. 0. 0. 0. 0. 0. 0. 0. 0. 0. 0. 0. 0. 0. 0. 0.\n",
            "  0. 0. 0. 0. 0. 0. 0. 0. 0. 0. 0. 0. 0. 0. 0. 0. 0. 0. 0. 0. 0. 0. 0. 0.\n",
            "  0. 0. 0. 0. 0. 0. 0. 0. 0. 0. 0. 0. 0. 0. 0. 0. 0. 0. 0. 0. 0. 0. 0. 0.\n",
            "  0. 0. 0. 0.]\n",
            " [0. 0. 0. 0. 0. 0. 0. 0. 0. 0. 0. 0. 0. 0. 0. 0. 0. 0. 0. 0. 0. 0. 0. 0.\n",
            "  0. 0. 0. 0. 0. 0. 0. 0. 0. 0. 0. 0. 0. 0. 0. 0. 0. 0. 0. 0. 0. 0. 0. 0.\n",
            "  0. 0. 0. 0. 0. 0. 0. 0. 0. 0. 0. 0. 0. 0. 0. 0. 0. 0. 0. 0. 0. 0. 0. 0.\n",
            "  0. 0. 0. 0. 0. 0. 0. 0. 0. 0. 0. 0. 0. 0. 0. 0. 0. 0. 0. 0. 0. 0. 0. 0.\n",
            "  0. 0. 0. 0.]\n",
            " [0. 0. 0. 0. 0. 0. 0. 0. 0. 0. 0. 0. 0. 0. 0. 0. 0. 0. 0. 0. 0. 0. 0. 0.\n",
            "  0. 0. 0. 0. 0. 0. 0. 0. 0. 0. 0. 0. 0. 0. 0. 0. 0. 0. 0. 0. 0. 0. 0. 0.\n",
            "  0. 0. 0. 0. 0. 0. 0. 0. 0. 0. 0. 0. 0. 0. 0. 0. 0. 0. 0. 0. 0. 0. 0. 0.\n",
            "  0. 0. 0. 0. 0. 0. 0. 0. 0. 0. 0. 0. 0. 0. 0. 0. 0. 0. 0. 0. 0. 0. 0. 0.\n",
            "  0. 0. 0. 0.]\n",
            " [0. 0. 0. 0. 0. 0. 0. 0. 0. 0. 0. 0. 0. 0. 0. 0. 0. 0. 0. 0. 0. 0. 0. 0.\n",
            "  0. 0. 0. 0. 0. 0. 0. 0. 0. 0. 0. 0. 0. 0. 0. 0. 0. 0. 0. 0. 0. 0. 0. 0.\n",
            "  0. 0. 0. 0. 0. 0. 0. 0. 0. 0. 0. 0. 0. 0. 0. 0. 0. 0. 0. 0. 0. 0. 0. 0.\n",
            "  0. 0. 0. 0. 0. 0. 0. 0. 0. 0. 0. 0. 0. 0. 0. 0. 0. 0. 0. 0. 0. 0. 0. 0.\n",
            "  0. 0. 0. 0.]\n",
            " [0. 0. 0. 0. 0. 0. 0. 0. 0. 0. 0. 0. 0. 0. 0. 0. 0. 0. 0. 0. 0. 0. 0. 0.\n",
            "  0. 0. 0. 0. 0. 0. 0. 0. 0. 0. 0. 0. 0. 0. 0. 0. 0. 0. 0. 0. 0. 0. 0. 0.\n",
            "  0. 0. 0. 0. 0. 0. 0. 0. 0. 0. 0. 0. 0. 0. 0. 0. 0. 0. 0. 0. 0. 0. 0. 0.\n",
            "  0. 0. 0. 0. 0. 0. 0. 0. 0. 0. 0. 0. 0. 0. 0. 0. 0. 0. 0. 0. 0. 0. 0. 0.\n",
            "  0. 0. 0. 0.]\n",
            " [0. 0. 0. 0. 0. 0. 0. 0. 0. 0. 0. 0. 0. 0. 0. 0. 0. 0. 0. 0. 0. 0. 0. 0.\n",
            "  0. 0. 0. 0. 0. 0. 0. 0. 0. 0. 0. 0. 0. 0. 0. 0. 0. 0. 0. 0. 0. 0. 0. 0.\n",
            "  0. 0. 0. 0. 0. 0. 0. 0. 0. 0. 0. 0. 0. 0. 0. 0. 0. 0. 0. 0. 0. 0. 0. 0.\n",
            "  0. 0. 0. 0. 0. 0. 0. 0. 0. 0. 0. 0. 0. 0. 0. 0. 0. 0. 0. 0. 0. 0. 0. 0.\n",
            "  0. 0. 0. 0.]\n",
            " [0. 0. 0. 0. 0. 0. 0. 0. 0. 0. 0. 0. 0. 0. 0. 0. 0. 0. 0. 0. 0. 0. 0. 0.\n",
            "  0. 0. 0. 0. 0. 0. 0. 0. 0. 0. 0. 0. 0. 0. 0. 0. 0. 0. 0. 0. 0. 0. 0. 0.\n",
            "  0. 0. 0. 0. 0. 0. 0. 0. 0. 0. 0. 0. 0. 0. 0. 0. 0. 0. 0. 0. 0. 0. 0. 0.\n",
            "  0. 0. 0. 0. 0. 0. 0. 0. 0. 0. 0. 0. 0. 0. 0. 0. 0. 0. 0. 0. 0. 0. 0. 0.\n",
            "  0. 0. 0. 0.]\n",
            " [0. 0. 0. 0. 0. 0. 0. 0. 0. 0. 0. 0. 0. 0. 0. 0. 0. 0. 0. 0. 0. 0. 0. 0.\n",
            "  0. 0. 0. 0. 0. 0. 0. 0. 0. 0. 0. 0. 0. 0. 0. 0. 0. 0. 0. 0. 0. 0. 0. 0.\n",
            "  0. 0. 0. 0. 0. 0. 0. 0. 0. 0. 0. 0. 0. 0. 0. 0. 0. 0. 0. 0. 0. 0. 0. 0.\n",
            "  0. 0. 0. 0. 0. 0. 0. 0. 0. 0. 0. 0. 0. 0. 0. 0. 0. 0. 0. 0. 0. 0. 0. 0.\n",
            "  0. 0. 0. 0.]]\n",
            "Вывод нулевого массива 26 на 100 без ограничений вывода:\n",
            " [[0. 0. 0. 0. 0. 0. 0. 0. 0. 0. 0. 0. 0. 0. 0. 0. 0. 0. 0. 0. 0. 0. 0. 0.\n",
            "  0. 0. 0. 0. 0. 0. 0. 0. 0. 0. 0. 0. 0. 0. 0. 0. 0. 0. 0. 0. 0. 0. 0. 0.\n",
            "  0. 0. 0. 0. 0. 0. 0. 0. 0. 0. 0. 0. 0. 0. 0. 0. 0. 0. 0. 0. 0. 0. 0. 0.\n",
            "  0. 0. 0. 0. 0. 0. 0. 0. 0. 0. 0. 0. 0. 0. 0. 0. 0. 0. 0. 0. 0. 0. 0. 0.\n",
            "  0. 0. 0. 0.]\n",
            " [0. 0. 0. 0. 0. 0. 0. 0. 0. 0. 0. 0. 0. 0. 0. 0. 0. 0. 0. 0. 0. 0. 0. 0.\n",
            "  0. 0. 0. 0. 0. 0. 0. 0. 0. 0. 0. 0. 0. 0. 0. 0. 0. 0. 0. 0. 0. 0. 0. 0.\n",
            "  0. 0. 0. 0. 0. 0. 0. 0. 0. 0. 0. 0. 0. 0. 0. 0. 0. 0. 0. 0. 0. 0. 0. 0.\n",
            "  0. 0. 0. 0. 0. 0. 0. 0. 0. 0. 0. 0. 0. 0. 0. 0. 0. 0. 0. 0. 0. 0. 0. 0.\n",
            "  0. 0. 0. 0.]\n",
            " [0. 0. 0. 0. 0. 0. 0. 0. 0. 0. 0. 0. 0. 0. 0. 0. 0. 0. 0. 0. 0. 0. 0. 0.\n",
            "  0. 0. 0. 0. 0. 0. 0. 0. 0. 0. 0. 0. 0. 0. 0. 0. 0. 0. 0. 0. 0. 0. 0. 0.\n",
            "  0. 0. 0. 0. 0. 0. 0. 0. 0. 0. 0. 0. 0. 0. 0. 0. 0. 0. 0. 0. 0. 0. 0. 0.\n",
            "  0. 0. 0. 0. 0. 0. 0. 0. 0. 0. 0. 0. 0. 0. 0. 0. 0. 0. 0. 0. 0. 0. 0. 0.\n",
            "  0. 0. 0. 0.]\n",
            " [0. 0. 0. 0. 0. 0. 0. 0. 0. 0. 0. 0. 0. 0. 0. 0. 0. 0. 0. 0. 0. 0. 0. 0.\n",
            "  0. 0. 0. 0. 0. 0. 0. 0. 0. 0. 0. 0. 0. 0. 0. 0. 0. 0. 0. 0. 0. 0. 0. 0.\n",
            "  0. 0. 0. 0. 0. 0. 0. 0. 0. 0. 0. 0. 0. 0. 0. 0. 0. 0. 0. 0. 0. 0. 0. 0.\n",
            "  0. 0. 0. 0. 0. 0. 0. 0. 0. 0. 0. 0. 0. 0. 0. 0. 0. 0. 0. 0. 0. 0. 0. 0.\n",
            "  0. 0. 0. 0.]\n",
            " [0. 0. 0. 0. 0. 0. 0. 0. 0. 0. 0. 0. 0. 0. 0. 0. 0. 0. 0. 0. 0. 0. 0. 0.\n",
            "  0. 0. 0. 0. 0. 0. 0. 0. 0. 0. 0. 0. 0. 0. 0. 0. 0. 0. 0. 0. 0. 0. 0. 0.\n",
            "  0. 0. 0. 0. 0. 0. 0. 0. 0. 0. 0. 0. 0. 0. 0. 0. 0. 0. 0. 0. 0. 0. 0. 0.\n",
            "  0. 0. 0. 0. 0. 0. 0. 0. 0. 0. 0. 0. 0. 0. 0. 0. 0. 0. 0. 0. 0. 0. 0. 0.\n",
            "  0. 0. 0. 0.]\n",
            " [0. 0. 0. 0. 0. 0. 0. 0. 0. 0. 0. 0. 0. 0. 0. 0. 0. 0. 0. 0. 0. 0. 0. 0.\n",
            "  0. 0. 0. 0. 0. 0. 0. 0. 0. 0. 0. 0. 0. 0. 0. 0. 0. 0. 0. 0. 0. 0. 0. 0.\n",
            "  0. 0. 0. 0. 0. 0. 0. 0. 0. 0. 0. 0. 0. 0. 0. 0. 0. 0. 0. 0. 0. 0. 0. 0.\n",
            "  0. 0. 0. 0. 0. 0. 0. 0. 0. 0. 0. 0. 0. 0. 0. 0. 0. 0. 0. 0. 0. 0. 0. 0.\n",
            "  0. 0. 0. 0.]\n",
            " [0. 0. 0. 0. 0. 0. 0. 0. 0. 0. 0. 0. 0. 0. 0. 0. 0. 0. 0. 0. 0. 0. 0. 0.\n",
            "  0. 0. 0. 0. 0. 0. 0. 0. 0. 0. 0. 0. 0. 0. 0. 0. 0. 0. 0. 0. 0. 0. 0. 0.\n",
            "  0. 0. 0. 0. 0. 0. 0. 0. 0. 0. 0. 0. 0. 0. 0. 0. 0. 0. 0. 0. 0. 0. 0. 0.\n",
            "  0. 0. 0. 0. 0. 0. 0. 0. 0. 0. 0. 0. 0. 0. 0. 0. 0. 0. 0. 0. 0. 0. 0. 0.\n",
            "  0. 0. 0. 0.]\n",
            " [0. 0. 0. 0. 0. 0. 0. 0. 0. 0. 0. 0. 0. 0. 0. 0. 0. 0. 0. 0. 0. 0. 0. 0.\n",
            "  0. 0. 0. 0. 0. 0. 0. 0. 0. 0. 0. 0. 0. 0. 0. 0. 0. 0. 0. 0. 0. 0. 0. 0.\n",
            "  0. 0. 0. 0. 0. 0. 0. 0. 0. 0. 0. 0. 0. 0. 0. 0. 0. 0. 0. 0. 0. 0. 0. 0.\n",
            "  0. 0. 0. 0. 0. 0. 0. 0. 0. 0. 0. 0. 0. 0. 0. 0. 0. 0. 0. 0. 0. 0. 0. 0.\n",
            "  0. 0. 0. 0.]\n",
            " [0. 0. 0. 0. 0. 0. 0. 0. 0. 0. 0. 0. 0. 0. 0. 0. 0. 0. 0. 0. 0. 0. 0. 0.\n",
            "  0. 0. 0. 0. 0. 0. 0. 0. 0. 0. 0. 0. 0. 0. 0. 0. 0. 0. 0. 0. 0. 0. 0. 0.\n",
            "  0. 0. 0. 0. 0. 0. 0. 0. 0. 0. 0. 0. 0. 0. 0. 0. 0. 0. 0. 0. 0. 0. 0. 0.\n",
            "  0. 0. 0. 0. 0. 0. 0. 0. 0. 0. 0. 0. 0. 0. 0. 0. 0. 0. 0. 0. 0. 0. 0. 0.\n",
            "  0. 0. 0. 0.]\n",
            " [0. 0. 0. 0. 0. 0. 0. 0. 0. 0. 0. 0. 0. 0. 0. 0. 0. 0. 0. 0. 0. 0. 0. 0.\n",
            "  0. 0. 0. 0. 0. 0. 0. 0. 0. 0. 0. 0. 0. 0. 0. 0. 0. 0. 0. 0. 0. 0. 0. 0.\n",
            "  0. 0. 0. 0. 0. 0. 0. 0. 0. 0. 0. 0. 0. 0. 0. 0. 0. 0. 0. 0. 0. 0. 0. 0.\n",
            "  0. 0. 0. 0. 0. 0. 0. 0. 0. 0. 0. 0. 0. 0. 0. 0. 0. 0. 0. 0. 0. 0. 0. 0.\n",
            "  0. 0. 0. 0.]\n",
            " [0. 0. 0. 0. 0. 0. 0. 0. 0. 0. 0. 0. 0. 0. 0. 0. 0. 0. 0. 0. 0. 0. 0. 0.\n",
            "  0. 0. 0. 0. 0. 0. 0. 0. 0. 0. 0. 0. 0. 0. 0. 0. 0. 0. 0. 0. 0. 0. 0. 0.\n",
            "  0. 0. 0. 0. 0. 0. 0. 0. 0. 0. 0. 0. 0. 0. 0. 0. 0. 0. 0. 0. 0. 0. 0. 0.\n",
            "  0. 0. 0. 0. 0. 0. 0. 0. 0. 0. 0. 0. 0. 0. 0. 0. 0. 0. 0. 0. 0. 0. 0. 0.\n",
            "  0. 0. 0. 0.]\n",
            " [0. 0. 0. 0. 0. 0. 0. 0. 0. 0. 0. 0. 0. 0. 0. 0. 0. 0. 0. 0. 0. 0. 0. 0.\n",
            "  0. 0. 0. 0. 0. 0. 0. 0. 0. 0. 0. 0. 0. 0. 0. 0. 0. 0. 0. 0. 0. 0. 0. 0.\n",
            "  0. 0. 0. 0. 0. 0. 0. 0. 0. 0. 0. 0. 0. 0. 0. 0. 0. 0. 0. 0. 0. 0. 0. 0.\n",
            "  0. 0. 0. 0. 0. 0. 0. 0. 0. 0. 0. 0. 0. 0. 0. 0. 0. 0. 0. 0. 0. 0. 0. 0.\n",
            "  0. 0. 0. 0.]\n",
            " [0. 0. 0. 0. 0. 0. 0. 0. 0. 0. 0. 0. 0. 0. 0. 0. 0. 0. 0. 0. 0. 0. 0. 0.\n",
            "  0. 0. 0. 0. 0. 0. 0. 0. 0. 0. 0. 0. 0. 0. 0. 0. 0. 0. 0. 0. 0. 0. 0. 0.\n",
            "  0. 0. 0. 0. 0. 0. 0. 0. 0. 0. 0. 0. 0. 0. 0. 0. 0. 0. 0. 0. 0. 0. 0. 0.\n",
            "  0. 0. 0. 0. 0. 0. 0. 0. 0. 0. 0. 0. 0. 0. 0. 0. 0. 0. 0. 0. 0. 0. 0. 0.\n",
            "  0. 0. 0. 0.]\n",
            " [0. 0. 0. 0. 0. 0. 0. 0. 0. 0. 0. 0. 0. 0. 0. 0. 0. 0. 0. 0. 0. 0. 0. 0.\n",
            "  0. 0. 0. 0. 0. 0. 0. 0. 0. 0. 0. 0. 0. 0. 0. 0. 0. 0. 0. 0. 0. 0. 0. 0.\n",
            "  0. 0. 0. 0. 0. 0. 0. 0. 0. 0. 0. 0. 0. 0. 0. 0. 0. 0. 0. 0. 0. 0. 0. 0.\n",
            "  0. 0. 0. 0. 0. 0. 0. 0. 0. 0. 0. 0. 0. 0. 0. 0. 0. 0. 0. 0. 0. 0. 0. 0.\n",
            "  0. 0. 0. 0.]\n",
            " [0. 0. 0. 0. 0. 0. 0. 0. 0. 0. 0. 0. 0. 0. 0. 0. 0. 0. 0. 0. 0. 0. 0. 0.\n",
            "  0. 0. 0. 0. 0. 0. 0. 0. 0. 0. 0. 0. 0. 0. 0. 0. 0. 0. 0. 0. 0. 0. 0. 0.\n",
            "  0. 0. 0. 0. 0. 0. 0. 0. 0. 0. 0. 0. 0. 0. 0. 0. 0. 0. 0. 0. 0. 0. 0. 0.\n",
            "  0. 0. 0. 0. 0. 0. 0. 0. 0. 0. 0. 0. 0. 0. 0. 0. 0. 0. 0. 0. 0. 0. 0. 0.\n",
            "  0. 0. 0. 0.]\n",
            " [0. 0. 0. 0. 0. 0. 0. 0. 0. 0. 0. 0. 0. 0. 0. 0. 0. 0. 0. 0. 0. 0. 0. 0.\n",
            "  0. 0. 0. 0. 0. 0. 0. 0. 0. 0. 0. 0. 0. 0. 0. 0. 0. 0. 0. 0. 0. 0. 0. 0.\n",
            "  0. 0. 0. 0. 0. 0. 0. 0. 0. 0. 0. 0. 0. 0. 0. 0. 0. 0. 0. 0. 0. 0. 0. 0.\n",
            "  0. 0. 0. 0. 0. 0. 0. 0. 0. 0. 0. 0. 0. 0. 0. 0. 0. 0. 0. 0. 0. 0. 0. 0.\n",
            "  0. 0. 0. 0.]\n",
            " [0. 0. 0. 0. 0. 0. 0. 0. 0. 0. 0. 0. 0. 0. 0. 0. 0. 0. 0. 0. 0. 0. 0. 0.\n",
            "  0. 0. 0. 0. 0. 0. 0. 0. 0. 0. 0. 0. 0. 0. 0. 0. 0. 0. 0. 0. 0. 0. 0. 0.\n",
            "  0. 0. 0. 0. 0. 0. 0. 0. 0. 0. 0. 0. 0. 0. 0. 0. 0. 0. 0. 0. 0. 0. 0. 0.\n",
            "  0. 0. 0. 0. 0. 0. 0. 0. 0. 0. 0. 0. 0. 0. 0. 0. 0. 0. 0. 0. 0. 0. 0. 0.\n",
            "  0. 0. 0. 0.]\n",
            " [0. 0. 0. 0. 0. 0. 0. 0. 0. 0. 0. 0. 0. 0. 0. 0. 0. 0. 0. 0. 0. 0. 0. 0.\n",
            "  0. 0. 0. 0. 0. 0. 0. 0. 0. 0. 0. 0. 0. 0. 0. 0. 0. 0. 0. 0. 0. 0. 0. 0.\n",
            "  0. 0. 0. 0. 0. 0. 0. 0. 0. 0. 0. 0. 0. 0. 0. 0. 0. 0. 0. 0. 0. 0. 0. 0.\n",
            "  0. 0. 0. 0. 0. 0. 0. 0. 0. 0. 0. 0. 0. 0. 0. 0. 0. 0. 0. 0. 0. 0. 0. 0.\n",
            "  0. 0. 0. 0.]\n",
            " [0. 0. 0. 0. 0. 0. 0. 0. 0. 0. 0. 0. 0. 0. 0. 0. 0. 0. 0. 0. 0. 0. 0. 0.\n",
            "  0. 0. 0. 0. 0. 0. 0. 0. 0. 0. 0. 0. 0. 0. 0. 0. 0. 0. 0. 0. 0. 0. 0. 0.\n",
            "  0. 0. 0. 0. 0. 0. 0. 0. 0. 0. 0. 0. 0. 0. 0. 0. 0. 0. 0. 0. 0. 0. 0. 0.\n",
            "  0. 0. 0. 0. 0. 0. 0. 0. 0. 0. 0. 0. 0. 0. 0. 0. 0. 0. 0. 0. 0. 0. 0. 0.\n",
            "  0. 0. 0. 0.]\n",
            " [0. 0. 0. 0. 0. 0. 0. 0. 0. 0. 0. 0. 0. 0. 0. 0. 0. 0. 0. 0. 0. 0. 0. 0.\n",
            "  0. 0. 0. 0. 0. 0. 0. 0. 0. 0. 0. 0. 0. 0. 0. 0. 0. 0. 0. 0. 0. 0. 0. 0.\n",
            "  0. 0. 0. 0. 0. 0. 0. 0. 0. 0. 0. 0. 0. 0. 0. 0. 0. 0. 0. 0. 0. 0. 0. 0.\n",
            "  0. 0. 0. 0. 0. 0. 0. 0. 0. 0. 0. 0. 0. 0. 0. 0. 0. 0. 0. 0. 0. 0. 0. 0.\n",
            "  0. 0. 0. 0.]\n",
            " [0. 0. 0. 0. 0. 0. 0. 0. 0. 0. 0. 0. 0. 0. 0. 0. 0. 0. 0. 0. 0. 0. 0. 0.\n",
            "  0. 0. 0. 0. 0. 0. 0. 0. 0. 0. 0. 0. 0. 0. 0. 0. 0. 0. 0. 0. 0. 0. 0. 0.\n",
            "  0. 0. 0. 0. 0. 0. 0. 0. 0. 0. 0. 0. 0. 0. 0. 0. 0. 0. 0. 0. 0. 0. 0. 0.\n",
            "  0. 0. 0. 0. 0. 0. 0. 0. 0. 0. 0. 0. 0. 0. 0. 0. 0. 0. 0. 0. 0. 0. 0. 0.\n",
            "  0. 0. 0. 0.]\n",
            " [0. 0. 0. 0. 0. 0. 0. 0. 0. 0. 0. 0. 0. 0. 0. 0. 0. 0. 0. 0. 0. 0. 0. 0.\n",
            "  0. 0. 0. 0. 0. 0. 0. 0. 0. 0. 0. 0. 0. 0. 0. 0. 0. 0. 0. 0. 0. 0. 0. 0.\n",
            "  0. 0. 0. 0. 0. 0. 0. 0. 0. 0. 0. 0. 0. 0. 0. 0. 0. 0. 0. 0. 0. 0. 0. 0.\n",
            "  0. 0. 0. 0. 0. 0. 0. 0. 0. 0. 0. 0. 0. 0. 0. 0. 0. 0. 0. 0. 0. 0. 0. 0.\n",
            "  0. 0. 0. 0.]\n",
            " [0. 0. 0. 0. 0. 0. 0. 0. 0. 0. 0. 0. 0. 0. 0. 0. 0. 0. 0. 0. 0. 0. 0. 0.\n",
            "  0. 0. 0. 0. 0. 0. 0. 0. 0. 0. 0. 0. 0. 0. 0. 0. 0. 0. 0. 0. 0. 0. 0. 0.\n",
            "  0. 0. 0. 0. 0. 0. 0. 0. 0. 0. 0. 0. 0. 0. 0. 0. 0. 0. 0. 0. 0. 0. 0. 0.\n",
            "  0. 0. 0. 0. 0. 0. 0. 0. 0. 0. 0. 0. 0. 0. 0. 0. 0. 0. 0. 0. 0. 0. 0. 0.\n",
            "  0. 0. 0. 0.]\n",
            " [0. 0. 0. 0. 0. 0. 0. 0. 0. 0. 0. 0. 0. 0. 0. 0. 0. 0. 0. 0. 0. 0. 0. 0.\n",
            "  0. 0. 0. 0. 0. 0. 0. 0. 0. 0. 0. 0. 0. 0. 0. 0. 0. 0. 0. 0. 0. 0. 0. 0.\n",
            "  0. 0. 0. 0. 0. 0. 0. 0. 0. 0. 0. 0. 0. 0. 0. 0. 0. 0. 0. 0. 0. 0. 0. 0.\n",
            "  0. 0. 0. 0. 0. 0. 0. 0. 0. 0. 0. 0. 0. 0. 0. 0. 0. 0. 0. 0. 0. 0. 0. 0.\n",
            "  0. 0. 0. 0.]\n",
            " [0. 0. 0. 0. 0. 0. 0. 0. 0. 0. 0. 0. 0. 0. 0. 0. 0. 0. 0. 0. 0. 0. 0. 0.\n",
            "  0. 0. 0. 0. 0. 0. 0. 0. 0. 0. 0. 0. 0. 0. 0. 0. 0. 0. 0. 0. 0. 0. 0. 0.\n",
            "  0. 0. 0. 0. 0. 0. 0. 0. 0. 0. 0. 0. 0. 0. 0. 0. 0. 0. 0. 0. 0. 0. 0. 0.\n",
            "  0. 0. 0. 0. 0. 0. 0. 0. 0. 0. 0. 0. 0. 0. 0. 0. 0. 0. 0. 0. 0. 0. 0. 0.\n",
            "  0. 0. 0. 0.]\n",
            " [0. 0. 0. 0. 0. 0. 0. 0. 0. 0. 0. 0. 0. 0. 0. 0. 0. 0. 0. 0. 0. 0. 0. 0.\n",
            "  0. 0. 0. 0. 0. 0. 0. 0. 0. 0. 0. 0. 0. 0. 0. 0. 0. 0. 0. 0. 0. 0. 0. 0.\n",
            "  0. 0. 0. 0. 0. 0. 0. 0. 0. 0. 0. 0. 0. 0. 0. 0. 0. 0. 0. 0. 0. 0. 0. 0.\n",
            "  0. 0. 0. 0. 0. 0. 0. 0. 0. 0. 0. 0. 0. 0. 0. 0. 0. 0. 0. 0. 0. 0. 0. 0.\n",
            "  0. 0. 0. 0.]]\n"
          ]
        }
      ],
      "source": [
        "print('Значение порога по умолчанию:', np.get_printoptions()['threshold'])\n",
        "arr = np.zeros((26,100))\n",
        "print('Вывод нулевого массива 26 на 100', arr)\n",
        "np.set_printoptions(threshold=float(\"inf\"))  # снять ограничения \n",
        "print('Вывод нулевого массива 26 на 100 без ограничений вывода:\\n', arr)"
      ]
    },
    {
      "cell_type": "markdown",
      "id": "1ab85b99",
      "metadata": {
        "id": "1ab85b99"
      },
      "source": [
        "#### 50. How to find the closest value (to a given scalar) in a vector? (★★☆)"
      ]
    },
    {
      "cell_type": "code",
      "execution_count": 249,
      "id": "0211ff6c",
      "metadata": {
        "colab": {
          "base_uri": "https://localhost:8080/"
        },
        "id": "0211ff6c",
        "outputId": "741dd21e-676a-4931-94d2-42f308bbf5ea"
      },
      "outputs": [
        {
          "output_type": "stream",
          "name": "stdout",
          "text": [
            "[ 0  1  2  3  4  5  6  7  8  9 10 11 12 13 14 15 16 17 18 19]\n",
            "Ближайшее значение в векторе к значению 13.584030014747563 = 14\n"
          ]
        }
      ],
      "source": [
        "v = np.arange(20)\n",
        "print(v)\n",
        "\n",
        "a = np.random.uniform(low=0,high=20)\n",
        "index = (np.abs(v-a)).argmin()\n",
        "print(f'Ближайшее значение в векторе к значению {a} = {v[index]}')"
      ]
    },
    {
      "cell_type": "markdown",
      "id": "7531bc2e",
      "metadata": {
        "id": "7531bc2e"
      },
      "source": [
        "#### 51. Create a structured array representing a position (x,y) and a color (r,g,b) (★★☆)"
      ]
    },
    {
      "cell_type": "code",
      "execution_count": 252,
      "id": "0cb58014",
      "metadata": {
        "colab": {
          "base_uri": "https://localhost:8080/"
        },
        "id": "0cb58014",
        "outputId": "4cdb28ce-e388-4684-e129-f7a019aa9de8"
      },
      "outputs": [
        {
          "output_type": "stream",
          "name": "stdout",
          "text": [
            "[((10., 50.), (255.,   0., 255.)) ((20., 30.), ( 51., 230., 255.))]\n"
          ]
        }
      ],
      "source": [
        "type_scalar = np.dtype('float32')\n",
        "\n",
        "array_type = np.dtype([('position', \n",
        "                            [('x', type_scalar),\n",
        "                             ('y', type_scalar)]),\n",
        "                        ('color', \n",
        "                            [('r', type_scalar),\n",
        "                             ('g', type_scalar),\n",
        "                             ('b', type_scalar)])\n",
        "                        ])\n",
        "arr = np.zeros(2,  array_type)    \n",
        "arr[0] = ((10., 50.), (255., 0., 255.))\n",
        "arr[1] = ((20., 30.), (51., 230., 255.))\n",
        "print(arr)\n"
      ]
    },
    {
      "cell_type": "markdown",
      "id": "71f8d0b3",
      "metadata": {
        "id": "71f8d0b3"
      },
      "source": [
        "#### 52. Consider a random vector with shape (100,2) representing coordinates, find point by point distances (★★☆)"
      ]
    },
    {
      "cell_type": "code",
      "execution_count": 253,
      "id": "368d0b4b",
      "metadata": {
        "colab": {
          "base_uri": "https://localhost:8080/"
        },
        "id": "368d0b4b",
        "outputId": "9dbefe15-ea08-4799-e6d2-986ec651ef82"
      },
      "outputs": [
        {
          "output_type": "stream",
          "name": "stdout",
          "text": [
            "[[0.552 0.926]\n",
            " [0.197 0.466]\n",
            " [0.922 0.543]\n",
            " [0.383 0.485]\n",
            " [0.382 0.023]\n",
            " [0.239 0.039]\n",
            " [0.105 0.561]\n",
            " [0.711 0.618]\n",
            " [0.384 0.291]\n",
            " [0.948 0.871]\n",
            " [0.734 0.754]\n",
            " [0.069 0.058]\n",
            " [0.254 0.091]\n",
            " [0.643 0.713]\n",
            " [0.035 0.946]\n",
            " [0.437 0.342]\n",
            " [0.822 0.924]\n",
            " [0.35  0.368]\n",
            " [0.22  0.126]\n",
            " [0.224 1.   ]\n",
            " [0.832 0.867]\n",
            " [0.987 0.409]\n",
            " [0.388 0.96 ]\n",
            " [0.615 0.253]\n",
            " [0.97  0.894]\n",
            " [0.254 0.89 ]\n",
            " [0.967 0.694]\n",
            " [0.831 0.213]\n",
            " [0.011 0.449]\n",
            " [0.356 0.435]\n",
            " [0.698 0.328]\n",
            " [0.008 0.047]\n",
            " [0.442 0.205]\n",
            " [0.143 0.537]\n",
            " [0.617 0.652]\n",
            " [0.97  0.122]\n",
            " [0.777 0.432]\n",
            " [0.476 0.756]\n",
            " [0.55  0.492]\n",
            " [0.308 0.887]\n",
            " [0.832 0.488]\n",
            " [0.415 0.224]\n",
            " [0.266 0.047]\n",
            " [0.401 0.268]\n",
            " [0.198 0.613]\n",
            " [0.556 0.344]\n",
            " [0.546 0.804]\n",
            " [0.985 0.569]\n",
            " [0.567 0.641]\n",
            " [0.29  0.403]\n",
            " [0.622 0.449]\n",
            " [0.114 0.487]\n",
            " [0.155 0.296]\n",
            " [0.987 0.097]\n",
            " [0.867 0.172]\n",
            " [0.229 0.842]\n",
            " [0.559 0.469]\n",
            " [0.788 0.308]\n",
            " [0.216 0.166]\n",
            " [0.399 0.896]\n",
            " [0.067 0.411]\n",
            " [0.356 0.912]\n",
            " [0.903 0.059]\n",
            " [0.055 0.144]\n",
            " [0.642 0.581]\n",
            " [0.393 0.67 ]\n",
            " [0.756 0.999]\n",
            " [0.587 0.071]\n",
            " [0.659 0.246]\n",
            " [0.277 0.701]\n",
            " [0.211 0.063]\n",
            " [0.903 0.733]\n",
            " [0.796 0.825]\n",
            " [0.142 0.207]\n",
            " [0.533 0.165]\n",
            " [0.836 0.862]\n",
            " [0.392 0.782]\n",
            " [0.573 0.55 ]\n",
            " [0.415 0.528]\n",
            " [0.09  0.26 ]\n",
            " [0.168 0.204]\n",
            " [0.682 0.419]\n",
            " [0.472 0.41 ]\n",
            " [0.478 0.374]\n",
            " [0.247 0.711]\n",
            " [0.725 0.815]\n",
            " [0.701 0.603]\n",
            " [0.226 0.386]\n",
            " [0.587 0.622]\n",
            " [0.089 0.768]\n",
            " [0.72  0.773]\n",
            " [0.21  0.937]\n",
            " [0.249 0.258]\n",
            " [0.758 0.729]\n",
            " [0.258 0.935]\n",
            " [0.766 0.619]\n",
            " [0.504 0.216]\n",
            " [0.71  0.175]\n",
            " [0.984 0.32 ]\n",
            " [0.813 0.791]]\n",
            "[[0.    0.582 0.533 0.473 0.919 0.941 0.577 0.347 0.657 0.4   0.251 0.993\n",
            "  0.887 0.232 0.517 0.596 0.271 0.594 0.867 0.336 0.286 0.677 0.167 0.676\n",
            "  0.419 0.3   0.476 0.766 0.721 0.528 0.616 1.033 0.729 0.564 0.282 0.906\n",
            "  0.543 0.186 0.434 0.247 0.52  0.716 0.924 0.675 0.472 0.582 0.123 0.561\n",
            "  0.286 0.585 0.483 0.621 0.745 0.936 0.817 0.333 0.457 0.662 0.831 0.155\n",
            "  0.708 0.196 0.936 0.927 0.358 0.302 0.217 0.856 0.689 0.355 0.928 0.402\n",
            "  0.264 0.827 0.761 0.292 0.215 0.377 0.421 0.81  0.818 0.524 0.523 0.557\n",
            "  0.373 0.206 0.357 0.631 0.306 0.489 0.228 0.342 0.734 0.286 0.293 0.375\n",
            "  0.712 0.768 0.745 0.295]\n",
            " [0.582 0.    0.73  0.187 0.48  0.429 0.132 0.537 0.256 0.854 0.61  0.427\n",
            "  0.38  0.511 0.507 0.271 0.776 0.182 0.341 0.535 0.752 0.793 0.53  0.47\n",
            "  0.884 0.428 0.804 0.683 0.186 0.163 0.52  0.459 0.358 0.089 0.46  0.846\n",
            "  0.581 0.403 0.354 0.436 0.636 0.326 0.424 0.285 0.148 0.379 0.486 0.795\n",
            "  0.409 0.112 0.425 0.086 0.175 0.872 0.732 0.378 0.363 0.612 0.3   0.476\n",
            "  0.141 0.473 0.815 0.352 0.461 0.283 0.773 0.556 0.512 0.249 0.403 0.756\n",
            "  0.699 0.264 0.452 0.752 0.372 0.385 0.227 0.231 0.263 0.487 0.281 0.296\n",
            "  0.25  0.634 0.523 0.085 0.42  0.321 0.606 0.471 0.214 0.62  0.474 0.589\n",
            "  0.396 0.59  0.801 0.697]\n",
            " [0.533 0.73  0.    0.542 0.75  0.849 0.817 0.224 0.594 0.329 0.283 0.981\n",
            "  0.807 0.327 0.975 0.525 0.394 0.598 0.817 0.834 0.337 0.149 0.677 0.422\n",
            "  0.354 0.753 0.158 0.342 0.916 0.576 0.31  1.039 0.587 0.779 0.324 0.423\n",
            "  0.183 0.494 0.376 0.704 0.106 0.599 0.822 0.589 0.727 0.417 0.458 0.068\n",
            "  0.369 0.647 0.315 0.811 0.806 0.45  0.375 0.755 0.371 0.271 0.801 0.631\n",
            "  0.866 0.676 0.484 0.954 0.282 0.544 0.485 0.579 0.397 0.664 0.858 0.191\n",
            "  0.309 0.849 0.542 0.33  0.581 0.35  0.508 0.879 0.827 0.271 0.469 0.475\n",
            "  0.695 0.336 0.229 0.713 0.345 0.863 0.306 0.814 0.731 0.248 0.771 0.174\n",
            "  0.53  0.424 0.232 0.271]\n",
            " [0.473 0.187 0.542 0.    0.462 0.468 0.288 0.354 0.194 0.685 0.442 0.53\n",
            "  0.415 0.346 0.578 0.153 0.622 0.122 0.395 0.539 0.59  0.609 0.475 0.328\n",
            "  0.715 0.425 0.621 0.524 0.374 0.056 0.352 0.576 0.286 0.246 0.288 0.69\n",
            "  0.397 0.287 0.167 0.409 0.449 0.263 0.453 0.217 0.225 0.223 0.358 0.608\n",
            "  0.241 0.124 0.241 0.27  0.296 0.718 0.576 0.389 0.177 0.441 0.36  0.412\n",
            "  0.325 0.428 0.672 0.473 0.277 0.185 0.635 0.462 0.365 0.241 0.456 0.576\n",
            "  0.535 0.367 0.353 0.59  0.297 0.2   0.053 0.369 0.354 0.306 0.117 0.146\n",
            "  0.264 0.476 0.339 0.185 0.245 0.408 0.443 0.484 0.264 0.447 0.467 0.405\n",
            "  0.295 0.451 0.623 0.528]\n",
            " [0.919 0.48  0.75  0.462 0.    0.144 0.605 0.68  0.268 1.02  0.811 0.315\n",
            "  0.145 0.738 0.987 0.323 1.003 0.346 0.192 0.99  0.957 0.717 0.937 0.328\n",
            "  1.051 0.876 0.891 0.487 0.565 0.413 0.439 0.375 0.192 0.567 0.672 0.596\n",
            "  0.568 0.739 0.499 0.867 0.647 0.203 0.119 0.246 0.619 0.365 0.798 0.813\n",
            "  0.645 0.392 0.489 0.536 0.355 0.609 0.507 0.833 0.48  0.496 0.22  0.874\n",
            "  0.5   0.889 0.522 0.349 0.615 0.647 1.045 0.21  0.355 0.687 0.176 0.881\n",
            "  0.903 0.303 0.208 0.954 0.759 0.56  0.506 0.376 0.28  0.496 0.397 0.364\n",
            "  0.701 0.864 0.662 0.395 0.633 0.801 0.822 0.93  0.271 0.8   0.921 0.708\n",
            "  0.229 0.362 0.671 0.881]\n",
            " [0.941 0.429 0.849 0.468 0.144 0.    0.539 0.747 0.291 1.093 0.87  0.171\n",
            "  0.054 0.786 0.93  0.362 1.06  0.347 0.089 0.961 1.019 0.834 0.932 0.433\n",
            "  1.125 0.851 0.98  0.617 0.469 0.413 0.543 0.23  0.262 0.507 0.72  0.736\n",
            "  0.666 0.755 0.55  0.851 0.743 0.255 0.029 0.281 0.576 0.44  0.824 0.915\n",
            "  0.685 0.368 0.561 0.465 0.27  0.75  0.642 0.803 0.536 0.611 0.129 0.872\n",
            "  0.41  0.88  0.664 0.211 0.675 0.649 1.09  0.35  0.468 0.663 0.037 0.96\n",
            "  0.964 0.194 0.321 1.017 0.758 0.61  0.519 0.266 0.179 0.583 0.438 0.412\n",
            "  0.672 0.916 0.729 0.347 0.679 0.744 0.877 0.898 0.219 0.863 0.896 0.783\n",
            "  0.319 0.491 0.796 0.946]\n",
            " [0.577 0.132 0.817 0.288 0.605 0.539 0.    0.609 0.388 0.898 0.658 0.504\n",
            "  0.493 0.559 0.392 0.398 0.804 0.312 0.45  0.455 0.789 0.895 0.489 0.596\n",
            "  0.926 0.361 0.873 0.805 0.146 0.281 0.637 0.523 0.49  0.045 0.52  0.97\n",
            "  0.684 0.419 0.45  0.384 0.73  0.458 0.538 0.416 0.107 0.5   0.503 0.879\n",
            "  0.468 0.243 0.528 0.075 0.27  0.996 0.855 0.307 0.463 0.728 0.41  0.446\n",
            "  0.155 0.431 0.942 0.42  0.538 0.308 0.784 0.687 0.637 0.222 0.509 0.816\n",
            "  0.74  0.356 0.583 0.791 0.362 0.468 0.311 0.301 0.363 0.594 0.397 0.417\n",
            "  0.207 0.67  0.597 0.213 0.485 0.208 0.65  0.39  0.335 0.674 0.404 0.663\n",
            "  0.527 0.718 0.911 0.745]\n",
            " [0.347 0.537 0.224 0.354 0.68  0.747 0.609 0.    0.463 0.346 0.138 0.852\n",
            "  0.698 0.117 0.752 0.389 0.326 0.44  0.696 0.619 0.277 0.346 0.47  0.378\n",
            "  0.378 0.532 0.267 0.422 0.72  0.399 0.29  0.906 0.493 0.574 0.1   0.559\n",
            "  0.198 0.273 0.205 0.484 0.178 0.494 0.724 0.467 0.513 0.315 0.248 0.278\n",
            "  0.146 0.473 0.192 0.612 0.643 0.59  0.472 0.531 0.213 0.319 0.671 0.418\n",
            "  0.677 0.461 0.591 0.81  0.078 0.323 0.383 0.562 0.376 0.442 0.748 0.223\n",
            "  0.224 0.702 0.487 0.274 0.359 0.155 0.31  0.717 0.683 0.202 0.317 0.337\n",
            "  0.473 0.198 0.019 0.538 0.125 0.64  0.154 0.594 0.586 0.12  0.553 0.054\n",
            "  0.452 0.443 0.404 0.201]\n",
            " [0.657 0.256 0.594 0.194 0.268 0.291 0.388 0.463 0.    0.809 0.58  0.392\n",
            "  0.239 0.495 0.742 0.073 0.77  0.084 0.233 0.726 0.73  0.614 0.668 0.235\n",
            "  0.841 0.612 0.709 0.454 0.405 0.147 0.316 0.448 0.104 0.344 0.43  0.61\n",
            "  0.417 0.474 0.261 0.6   0.489 0.074 0.271 0.029 0.372 0.179 0.538 0.662\n",
            "  0.394 0.146 0.285 0.334 0.229 0.633 0.497 0.572 0.249 0.404 0.21  0.605\n",
            "  0.339 0.621 0.568 0.36  0.388 0.379 0.799 0.3   0.278 0.424 0.287 0.682\n",
            "  0.674 0.256 0.196 0.728 0.491 0.32  0.239 0.295 0.233 0.324 0.148 0.126\n",
            "  0.441 0.625 0.444 0.184 0.388 0.561 0.587 0.669 0.139 0.576 0.656 0.503\n",
            "  0.142 0.346 0.601 0.659]\n",
            " [0.4   0.854 0.329 0.685 1.02  1.093 0.898 0.346 0.809 0.    0.244 1.197\n",
            "  1.045 0.344 0.917 0.736 0.137 0.782 1.042 0.736 0.117 0.464 0.567 0.702\n",
            "  0.032 0.694 0.178 0.668 1.028 0.735 0.598 1.25  0.836 0.872 0.397 0.749\n",
            "  0.471 0.486 0.55  0.64  0.401 0.839 1.07  0.814 0.793 0.657 0.408 0.304\n",
            "  0.446 0.808 0.534 0.919 0.98  0.775 0.703 0.72  0.56  0.585 1.017 0.55\n",
            "  0.994 0.594 0.813 1.152 0.422 0.591 0.231 0.878 0.689 0.693 1.094 0.146\n",
            "  0.159 1.044 0.819 0.112 0.563 0.494 0.634 1.053 1.026 0.525 0.663 0.684\n",
            "  0.719 0.23  0.365 0.87  0.439 0.865 0.249 0.741 0.93  0.238 0.693 0.312\n",
            "  0.791 0.735 0.552 0.157]\n",
            " [0.251 0.61  0.283 0.442 0.811 0.87  0.658 0.138 0.58  0.244 0.    0.962\n",
            "  0.819 0.099 0.725 0.508 0.192 0.544 0.812 0.566 0.15  0.429 0.402 0.515\n",
            "  0.274 0.498 0.241 0.55  0.784 0.494 0.427 1.013 0.622 0.629 0.155 0.675\n",
            "  0.325 0.258 0.32  0.446 0.284 0.619 0.847 0.589 0.554 0.447 0.194 0.312\n",
            "  0.202 0.566 0.325 0.675 0.738 0.704 0.597 0.512 0.334 0.449 0.784 0.363\n",
            "  0.75  0.409 0.716 0.913 0.196 0.351 0.246 0.699 0.514 0.46  0.867 0.171\n",
            "  0.095 0.805 0.622 0.149 0.343 0.26  0.391 0.811 0.789 0.339 0.433 0.458\n",
            "  0.488 0.062 0.155 0.627 0.198 0.645 0.023 0.555 0.694 0.035 0.509 0.139\n",
            "  0.585 0.579 0.501 0.088]\n",
            " [0.993 0.427 0.981 0.53  0.315 0.171 0.504 0.852 0.392 1.197 0.962 0.\n",
            "  0.188 0.871 0.889 0.465 1.148 0.418 0.165 0.954 1.112 0.983 0.956 0.58\n",
            "  1.229 0.852 1.101 0.778 0.395 0.474 0.685 0.061 0.401 0.485 0.808 0.903\n",
            "  0.8   0.808 0.648 0.863 0.875 0.383 0.198 0.393 0.57  0.564 0.885 1.049\n",
            "  0.766 0.41  0.677 0.431 0.253 0.919 0.806 0.8   0.64  0.761 0.182 0.901\n",
            "  0.353 0.9   0.834 0.086 0.776 0.692 1.165 0.518 0.619 0.676 0.142 1.073\n",
            "  1.057 0.166 0.477 1.111 0.793 0.704 0.583 0.203 0.176 0.711 0.535 0.517\n",
            "  0.677 1.002 0.834 0.364 0.765 0.71  0.966 0.89  0.269 0.961 0.897 0.894\n",
            "  0.463 0.652 0.952 1.045]\n",
            " [0.887 0.38  0.807 0.415 0.145 0.054 0.493 0.698 0.239 1.045 0.819 0.188\n",
            "  0.    0.734 0.883 0.311 1.009 0.293 0.049 0.91  0.968 0.799 0.879 0.396\n",
            "  1.076 0.799 0.935 0.59  0.433 0.359 0.504 0.249 0.22  0.46  0.669 0.717\n",
            "  0.624 0.702 0.499 0.798 0.701 0.209 0.045 0.231 0.526 0.394 0.771 0.874\n",
            "  0.633 0.315 0.513 0.42  0.228 0.733 0.618 0.752 0.486 0.576 0.084 0.819\n",
            "  0.371 0.827 0.65  0.206 0.625 0.596 1.038 0.334 0.433 0.611 0.051 0.913\n",
            "  0.913 0.162 0.289 0.966 0.705 0.559 0.466 0.236 0.142 0.539 0.386 0.362\n",
            "  0.62  0.865 0.68  0.297 0.627 0.698 0.826 0.847 0.168 0.813 0.845 0.735\n",
            "  0.28  0.464 0.765 0.896]\n",
            " [0.232 0.511 0.327 0.346 0.738 0.786 0.559 0.117 0.495 0.344 0.099 0.871\n",
            "  0.734 0.    0.652 0.425 0.277 0.453 0.724 0.508 0.244 0.46  0.354 0.461\n",
            "  0.373 0.427 0.325 0.534 0.685 0.399 0.389 0.92  0.546 0.53  0.066 0.675\n",
            "  0.312 0.172 0.24  0.377 0.294 0.54  0.765 0.506 0.456 0.379 0.133 0.371\n",
            "  0.105 0.47  0.265 0.576 0.642 0.706 0.585 0.433 0.258 0.43  0.694 0.305\n",
            "  0.651 0.349 0.704 0.819 0.133 0.254 0.307 0.645 0.468 0.366 0.781 0.261\n",
            "  0.189 0.712 0.559 0.244 0.26  0.178 0.294 0.715 0.696 0.297 0.349 0.377\n",
            "  0.396 0.131 0.125 0.53  0.107 0.557 0.097 0.488 0.602 0.116 0.444 0.155\n",
            "  0.516 0.542 0.521 0.187]\n",
            " [0.517 0.507 0.975 0.578 0.987 0.93  0.392 0.752 0.742 0.917 0.725 0.889\n",
            "  0.883 0.652 0.    0.727 0.788 0.659 0.841 0.197 0.801 1.094 0.354 0.904\n",
            "  0.937 0.227 0.966 1.082 0.498 0.604 0.907 0.899 0.845 0.423 0.652 1.246\n",
            "  0.903 0.481 0.687 0.28  0.92  0.817 0.928 0.771 0.371 0.796 0.531 1.022\n",
            "  0.614 0.6   0.769 0.466 0.662 1.276 1.137 0.221 0.709 0.987 0.801 0.368\n",
            "  0.536 0.323 1.241 0.803 0.709 0.452 0.723 1.035 0.938 0.344 0.9   0.895\n",
            "  0.771 0.747 0.927 0.806 0.394 0.668 0.565 0.688 0.754 0.835 0.692 0.724\n",
            "  0.317 0.703 0.75  0.592 0.64  0.186 0.707 0.175 0.721 0.756 0.224 0.801\n",
            "  0.868 1.025 1.137 0.794]\n",
            " [0.596 0.271 0.525 0.153 0.323 0.362 0.398 0.389 0.073 0.736 0.508 0.465\n",
            "  0.311 0.425 0.727 0.    0.699 0.091 0.307 0.692 0.657 0.554 0.62  0.199\n",
            "  0.767 0.578 0.637 0.414 0.44  0.124 0.261 0.52  0.136 0.353 0.359 0.576\n",
            "  0.351 0.417 0.188 0.56  0.421 0.12  0.34  0.082 0.362 0.118 0.475 0.593\n",
            "  0.326 0.16  0.213 0.355 0.286 0.601 0.462 0.542 0.176 0.352 0.283 0.556\n",
            "  0.377 0.576 0.545 0.43  0.315 0.331 0.731 0.31  0.241 0.394 0.359 0.608\n",
            "  0.602 0.324 0.201 0.656 0.443 0.248 0.188 0.356 0.302 0.256 0.076 0.052\n",
            "  0.415 0.555 0.371 0.216 0.318 0.551 0.515 0.637 0.206 0.503 0.62  0.43\n",
            "  0.142 0.32  0.547 0.586]\n",
            " [0.271 0.776 0.394 0.622 1.003 1.06  0.804 0.326 0.77  0.137 0.192 1.148\n",
            "  1.009 0.277 0.788 0.699 0.    0.73  1.001 0.603 0.058 0.542 0.436 0.703\n",
            "  0.15  0.569 0.272 0.711 0.94  0.676 0.609 1.197 0.814 0.782 0.341 0.816\n",
            "  0.495 0.385 0.511 0.515 0.437 0.811 1.039 0.78  0.697 0.639 0.301 0.39\n",
            "  0.382 0.745 0.516 0.833 0.917 0.843 0.753 0.599 0.526 0.617 0.971 0.424\n",
            "  0.914 0.467 0.869 1.095 0.388 0.499 0.1   0.886 0.698 0.589 1.057 0.208\n",
            "  0.103 0.988 0.812 0.064 0.453 0.45  0.569 0.988 0.973 0.525 0.623 0.649\n",
            "  0.613 0.146 0.344 0.803 0.383 0.75  0.183 0.613 0.879 0.206 0.564 0.311\n",
            "  0.776 0.758 0.626 0.134]\n",
            " [0.594 0.182 0.598 0.122 0.346 0.347 0.312 0.44  0.084 0.782 0.544 0.418\n",
            "  0.293 0.453 0.659 0.091 0.73  0.    0.275 0.644 0.694 0.638 0.593 0.289\n",
            "  0.813 0.531 0.698 0.505 0.349 0.068 0.35  0.468 0.187 0.268 0.39  0.667\n",
            "  0.431 0.408 0.235 0.521 0.496 0.158 0.331 0.112 0.289 0.207 0.478 0.666\n",
            "  0.348 0.07  0.283 0.265 0.208 0.692 0.553 0.489 0.232 0.441 0.243 0.531\n",
            "  0.287 0.544 0.633 0.37  0.362 0.305 0.75  0.38  0.332 0.341 0.335 0.663\n",
            "  0.639 0.263 0.273 0.693 0.416 0.287 0.173 0.281 0.245 0.335 0.129 0.128\n",
            "  0.358 0.584 0.422 0.125 0.347 0.478 0.548 0.586 0.149 0.545 0.575 0.485\n",
            "  0.216 0.408 0.636 0.628]\n",
            " [0.867 0.341 0.817 0.395 0.192 0.089 0.45  0.696 0.233 1.042 0.812 0.165\n",
            "  0.049 0.724 0.841 0.307 1.001 0.275 0.    0.874 0.962 0.818 0.851 0.416\n",
            "  1.074 0.765 0.94  0.618 0.385 0.338 0.52  0.225 0.236 0.418 0.66  0.75\n",
            "  0.636 0.681 0.493 0.766 0.711 0.218 0.091 0.231 0.488 0.401 0.753 0.884\n",
            "  0.621 0.286 0.516 0.376 0.182 0.768 0.649 0.716 0.483 0.597 0.04  0.791\n",
            "  0.324 0.798 0.686 0.165 0.621 0.571 1.025 0.371 0.455 0.578 0.063 0.914\n",
            "  0.906 0.112 0.316 0.96  0.678 0.552 0.447 0.187 0.094 0.547 0.38  0.359\n",
            "  0.586 0.855 0.678 0.26  0.617 0.656 0.818 0.811 0.136 0.808 0.81  0.736\n",
            "  0.299 0.493 0.789 0.892]\n",
            " [0.336 0.535 0.834 0.539 0.99  0.961 0.455 0.619 0.726 0.736 0.566 0.954\n",
            "  0.91  0.508 0.197 0.692 0.603 0.644 0.874 0.    0.622 0.965 0.169 0.843\n",
            "  0.753 0.114 0.804 0.993 0.59  0.58  0.822 0.977 0.824 0.47  0.525 1.152\n",
            "  0.792 0.35  0.603 0.141 0.795 0.799 0.953 0.753 0.387 0.735 0.377 0.874\n",
            "  0.496 0.6   0.679 0.525 0.707 1.182 1.048 0.158 0.628 0.892 0.834 0.203\n",
            "  0.609 0.159 1.16  0.873 0.592 0.37  0.532 0.998 0.87  0.303 0.937 0.73\n",
            "  0.598 0.797 0.89  0.628 0.275 0.569 0.509 0.751 0.798 0.74  0.64  0.675\n",
            "  0.29  0.534 0.621 0.614 0.523 0.268 0.545 0.064 0.742 0.599 0.073 0.662\n",
            "  0.832 0.957 1.02  0.625]\n",
            " [0.286 0.752 0.337 0.59  0.957 1.019 0.789 0.277 0.73  0.117 0.15  1.112\n",
            "  0.968 0.244 0.801 0.657 0.058 0.694 0.962 0.622 0.    0.484 0.453 0.651\n",
            "  0.14  0.578 0.22  0.654 0.921 0.642 0.555 1.162 0.768 0.764 0.304 0.758\n",
            "  0.439 0.373 0.469 0.524 0.38  0.767 0.996 0.738 0.683 0.592 0.293 0.335\n",
            "  0.349 0.713 0.469 0.813 0.886 0.786 0.696 0.603 0.483 0.561 0.934 0.433\n",
            "  0.891 0.478 0.812 1.062 0.344 0.481 0.152 0.834 0.645 0.579 1.016 0.153\n",
            "  0.055 0.955 0.763 0.007 0.448 0.41  0.538 0.958 0.938 0.473 0.582 0.607\n",
            "  0.605 0.119 0.295 0.773 0.347 0.749 0.147 0.626 0.843 0.157 0.577 0.258\n",
            "  0.729 0.703 0.568 0.079]\n",
            " [0.677 0.793 0.149 0.609 0.717 0.834 0.895 0.346 0.614 0.464 0.429 0.983\n",
            "  0.799 0.46  1.094 0.554 0.542 0.638 0.818 0.965 0.484 0.    0.814 0.403\n",
            "  0.486 0.877 0.287 0.25  0.977 0.631 0.3   1.043 0.582 0.854 0.443 0.287\n",
            "  0.211 0.618 0.445 0.83  0.174 0.601 0.806 0.602 0.815 0.436 0.592 0.161\n",
            "  0.48  0.697 0.368 0.877 0.839 0.311 0.265 0.873 0.432 0.223 0.809 0.764\n",
            "  0.92  0.807 0.36  0.969 0.385 0.649 0.634 0.524 0.366 0.768 0.85  0.335\n",
            "  0.458 0.868 0.515 0.478 0.702 0.438 0.585 0.909 0.844 0.306 0.515 0.51\n",
            "  0.799 0.484 0.345 0.761 0.454 0.967 0.452 0.94  0.753 0.394 0.899 0.305\n",
            "  0.52  0.362 0.089 0.42 ]\n",
            " [0.167 0.53  0.677 0.475 0.937 0.932 0.489 0.47  0.668 0.567 0.402 0.956\n",
            "  0.879 0.354 0.354 0.62  0.436 0.593 0.851 0.169 0.453 0.814 0.    0.742\n",
            "  0.585 0.151 0.637 0.868 0.635 0.525 0.703 0.988 0.756 0.488 0.383 1.02\n",
            "  0.655 0.221 0.494 0.108 0.648 0.737 0.92  0.691 0.395 0.638 0.222 0.713\n",
            "  0.366 0.565 0.562 0.547 0.703 1.05  0.921 0.198 0.519 0.764 0.812 0.064\n",
            "  0.636 0.058 1.037 0.881 0.456 0.29  0.37  0.911 0.763 0.281 0.914 0.563\n",
            "  0.429 0.791 0.808 0.459 0.178 0.45  0.432 0.76  0.787 0.615 0.556 0.592\n",
            "  0.286 0.367 0.475 0.596 0.391 0.355 0.381 0.18  0.715 0.436 0.132 0.509\n",
            "  0.752 0.848 0.874 0.458]\n",
            " [0.676 0.47  0.422 0.328 0.328 0.433 0.596 0.378 0.235 0.702 0.515 0.58\n",
            "  0.396 0.461 0.904 0.199 0.703 0.289 0.416 0.843 0.651 0.403 0.742 0.\n",
            "  0.733 0.732 0.565 0.219 0.635 0.317 0.112 0.641 0.18  0.551 0.399 0.378\n",
            "  0.241 0.522 0.248 0.704 0.319 0.203 0.405 0.215 0.551 0.109 0.555 0.486\n",
            "  0.391 0.359 0.196 0.554 0.462 0.403 0.264 0.704 0.223 0.181 0.409 0.679\n",
            "  0.571 0.708 0.347 0.571 0.329 0.473 0.759 0.185 0.044 0.562 0.447 0.559\n",
            "  0.6   0.475 0.12  0.648 0.574 0.3   0.341 0.525 0.45  0.178 0.212 0.183\n",
            "  0.588 0.573 0.36  0.411 0.37  0.737 0.53  0.795 0.367 0.497 0.77  0.395\n",
            "  0.117 0.123 0.374 0.573]\n",
            " [0.419 0.884 0.354 0.715 1.051 1.125 0.926 0.378 0.841 0.032 0.274 1.229\n",
            "  1.076 0.373 0.937 0.767 0.15  0.813 1.074 0.753 0.14  0.486 0.585 0.733\n",
            "  0.    0.716 0.2   0.695 1.057 0.766 0.628 1.281 0.868 0.901 0.428 0.772\n",
            "  0.501 0.512 0.581 0.661 0.429 0.87  1.101 0.845 0.821 0.689 0.433 0.325\n",
            "  0.476 0.838 0.565 0.948 1.011 0.797 0.729 0.742 0.591 0.614 1.048 0.57\n",
            "  1.024 0.614 0.838 1.183 0.453 0.619 0.238 0.908 0.719 0.719 1.126 0.175\n",
            "  0.187 1.075 0.85  0.137 0.588 0.526 0.665 1.084 1.058 0.556 0.695 0.715\n",
            "  0.745 0.257 0.396 0.9   0.47  0.89  0.278 0.761 0.961 0.269 0.712 0.343\n",
            "  0.822 0.764 0.575 0.187]\n",
            " [0.3   0.428 0.753 0.425 0.876 0.851 0.361 0.532 0.612 0.694 0.498 0.852\n",
            "  0.799 0.427 0.227 0.578 0.569 0.531 0.765 0.114 0.578 0.877 0.151 0.732\n",
            "  0.716 0.    0.74  0.889 0.503 0.466 0.716 0.877 0.71  0.37  0.434 1.049\n",
            "  0.695 0.259 0.495 0.054 0.704 0.685 0.842 0.639 0.282 0.623 0.304 0.798\n",
            "  0.4   0.488 0.574 0.427 0.602 1.079 0.943 0.054 0.52  0.789 0.725 0.145\n",
            "  0.514 0.104 1.054 0.772 0.496 0.26  0.514 0.884 0.76  0.19  0.828 0.668\n",
            "  0.546 0.691 0.777 0.583 0.175 0.466 0.396 0.65  0.691 0.636 0.527 0.562\n",
            "  0.179 0.477 0.531 0.504 0.427 0.205 0.48  0.065 0.631 0.529 0.046 0.579\n",
            "  0.718 0.848 0.926 0.568]\n",
            " [0.476 0.804 0.158 0.621 0.891 0.98  0.873 0.267 0.709 0.178 0.241 1.101\n",
            "  0.935 0.325 0.966 0.637 0.272 0.698 0.94  0.804 0.22  0.287 0.637 0.565\n",
            "  0.2   0.74  0.    0.5   0.987 0.664 0.454 1.157 0.718 0.839 0.353 0.572\n",
            "  0.324 0.495 0.464 0.687 0.247 0.726 0.954 0.708 0.774 0.541 0.435 0.126\n",
            "  0.404 0.737 0.424 0.879 0.905 0.598 0.532 0.753 0.466 0.426 0.919 0.603\n",
            "  0.944 0.649 0.639 1.066 0.344 0.575 0.371 0.731 0.544 0.691 0.986 0.075\n",
            "  0.216 0.958 0.684 0.213 0.582 0.421 0.577 0.979 0.938 0.397 0.571 0.585\n",
            "  0.72  0.271 0.282 0.803 0.388 0.881 0.26  0.796 0.841 0.212 0.749 0.216\n",
            "  0.666 0.579 0.375 0.182]\n",
            " [0.766 0.683 0.342 0.524 0.487 0.617 0.805 0.422 0.454 0.668 0.55  0.778\n",
            "  0.59  0.534 1.082 0.414 0.711 0.505 0.618 0.993 0.654 0.25  0.868 0.219\n",
            "  0.695 0.889 0.5   0.    0.853 0.524 0.176 0.839 0.389 0.76  0.488 0.166\n",
            "  0.225 0.649 0.396 0.853 0.274 0.416 0.589 0.433 0.749 0.305 0.656 0.388\n",
            "  0.502 0.573 0.315 0.768 0.681 0.194 0.055 0.87  0.373 0.104 0.617 0.808\n",
            "  0.789 0.844 0.17  0.779 0.413 0.633 0.789 0.283 0.175 0.738 0.638 0.524\n",
            "  0.613 0.689 0.301 0.648 0.718 0.424 0.522 0.742 0.663 0.254 0.409 0.388\n",
            "  0.767 0.611 0.41  0.629 0.476 0.927 0.57  0.954 0.584 0.52  0.921 0.41\n",
            "  0.327 0.126 0.186 0.578]\n",
            " [0.721 0.186 0.916 0.374 0.565 0.469 0.146 0.72  0.405 1.028 0.784 0.395\n",
            "  0.433 0.685 0.498 0.44  0.94  0.349 0.385 0.59  0.921 0.977 0.635 0.635\n",
            "  1.057 0.503 0.987 0.853 0.    0.346 0.697 0.402 0.495 0.158 0.639 1.013\n",
            "  0.766 0.557 0.54  0.529 0.821 0.462 0.476 0.43  0.249 0.554 0.642 0.981\n",
            "  0.588 0.283 0.61  0.109 0.21  1.037 0.899 0.449 0.548 0.789 0.349 0.592\n",
            "  0.067 0.577 0.973 0.309 0.645 0.441 0.926 0.689 0.679 0.366 0.434 0.936\n",
            "  0.87  0.275 0.595 0.923 0.506 0.57  0.411 0.205 0.291 0.671 0.463 0.473\n",
            "  0.353 0.803 0.707 0.224 0.601 0.329 0.779 0.527 0.305 0.798 0.545 0.773\n",
            "  0.545 0.751 0.981 0.872]\n",
            " [0.528 0.163 0.576 0.056 0.413 0.413 0.281 0.399 0.147 0.735 0.494 0.474\n",
            "  0.359 0.399 0.604 0.124 0.676 0.068 0.338 0.58  0.642 0.631 0.525 0.317\n",
            "  0.766 0.466 0.664 0.524 0.346 0.    0.358 0.521 0.245 0.237 0.339 0.689\n",
            "  0.42  0.343 0.202 0.454 0.478 0.22  0.398 0.173 0.238 0.219 0.415 0.642\n",
            "  0.294 0.074 0.265 0.248 0.245 0.715 0.574 0.426 0.205 0.449 0.304 0.463\n",
            "  0.291 0.476 0.663 0.419 0.321 0.238 0.691 0.431 0.357 0.278 0.4   0.623\n",
            "  0.588 0.313 0.323 0.642 0.348 0.245 0.109 0.319 0.298 0.326 0.118 0.136\n",
            "  0.297 0.53  0.383 0.139 0.296 0.427 0.496 0.523 0.207 0.497 0.51  0.448\n",
            "  0.264 0.439 0.638 0.579]\n",
            " [0.616 0.52  0.31  0.352 0.439 0.543 0.637 0.29  0.316 0.598 0.427 0.685\n",
            "  0.504 0.389 0.907 0.261 0.609 0.35  0.52  0.822 0.555 0.3   0.703 0.112\n",
            "  0.628 0.716 0.454 0.176 0.697 0.358 0.    0.745 0.284 0.593 0.334 0.341\n",
            "  0.13  0.482 0.221 0.681 0.208 0.302 0.515 0.303 0.576 0.143 0.499 0.374\n",
            "  0.339 0.415 0.143 0.606 0.544 0.37  0.23  0.695 0.198 0.092 0.509 0.642\n",
            "  0.637 0.676 0.338 0.669 0.258 0.458 0.673 0.281 0.091 0.563 0.555 0.453\n",
            "  0.506 0.569 0.232 0.551 0.547 0.254 0.347 0.612 0.544 0.092 0.24  0.225\n",
            "  0.591 0.488 0.274 0.475 0.314 0.751 0.445 0.78  0.455 0.405 0.749 0.298\n",
            "  0.224 0.154 0.286 0.477]\n",
            " [1.033 0.459 1.039 0.576 0.375 0.23  0.523 0.906 0.448 1.25  1.013 0.061\n",
            "  0.249 0.92  0.899 0.52  1.197 0.468 0.225 0.977 1.162 1.043 0.988 0.641\n",
            "  1.281 0.877 1.157 0.839 0.402 0.521 0.745 0.    0.461 0.508 0.858 0.964\n",
            "  0.859 0.849 0.701 0.892 0.934 0.443 0.258 0.451 0.597 0.622 0.928 1.107\n",
            "  0.815 0.454 0.733 0.452 0.289 0.98  0.868 0.825 0.694 0.822 0.239 0.935\n",
            "  0.368 0.932 0.894 0.107 0.828 0.732 1.21  0.579 0.68  0.707 0.203 1.127\n",
            "  1.107 0.209 0.538 1.161 0.829 0.755 0.629 0.228 0.224 0.769 0.588 0.572\n",
            "  0.705 1.051 0.888 0.403 0.815 0.726 1.016 0.912 0.32  1.013 0.923 0.948\n",
            "  0.524 0.713 1.013 1.096]\n",
            " [0.729 0.358 0.587 0.286 0.192 0.262 0.49  0.493 0.104 0.836 0.622 0.401\n",
            "  0.22  0.546 0.845 0.136 0.814 0.187 0.236 0.824 0.768 0.582 0.756 0.18\n",
            "  0.868 0.71  0.718 0.389 0.495 0.245 0.284 0.461 0.    0.447 0.48  0.534\n",
            "  0.404 0.552 0.307 0.695 0.481 0.033 0.236 0.075 0.475 0.179 0.608 0.654\n",
            "  0.453 0.25  0.303 0.432 0.3   0.556 0.426 0.671 0.289 0.361 0.23  0.692\n",
            "  0.428 0.711 0.484 0.391 0.426 0.467 0.854 0.198 0.221 0.523 0.271 0.701\n",
            "  0.714 0.3   0.1   0.766 0.579 0.368 0.324 0.356 0.274 0.321 0.207 0.173\n",
            "  0.542 0.673 0.474 0.281 0.441 0.664 0.632 0.768 0.2   0.612 0.753 0.525\n",
            "  0.063 0.27  0.554 0.694]\n",
            " [0.564 0.089 0.779 0.246 0.567 0.507 0.045 0.574 0.344 0.872 0.629 0.485\n",
            "  0.46  0.53  0.423 0.353 0.782 0.268 0.418 0.47  0.764 0.854 0.488 0.551\n",
            "  0.901 0.37  0.839 0.76  0.158 0.237 0.593 0.508 0.447 0.    0.488 0.925\n",
            "  0.643 0.399 0.409 0.387 0.691 0.415 0.505 0.373 0.094 0.456 0.483 0.842\n",
            "  0.436 0.199 0.487 0.058 0.242 0.952 0.811 0.317 0.422 0.684 0.378 0.441\n",
            "  0.147 0.431 0.898 0.403 0.501 0.283 0.767 0.644 0.592 0.212 0.479 0.785\n",
            "  0.714 0.33  0.539 0.766 0.349 0.43  0.272 0.282 0.334 0.552 0.353 0.373\n",
            "  0.203 0.645 0.562 0.173 0.452 0.237 0.623 0.405 0.298 0.644 0.415 0.628\n",
            "  0.483 0.673 0.869 0.717]\n",
            " [0.282 0.46  0.324 0.288 0.672 0.72  0.52  0.1   0.43  0.397 0.155 0.808\n",
            "  0.669 0.066 0.652 0.359 0.341 0.39  0.66  0.525 0.304 0.443 0.383 0.399\n",
            "  0.428 0.434 0.353 0.488 0.639 0.339 0.334 0.858 0.48  0.488 0.    0.637\n",
            "  0.272 0.175 0.174 0.388 0.27  0.474 0.699 0.44  0.421 0.314 0.167 0.377\n",
            "  0.052 0.411 0.204 0.53  0.583 0.667 0.541 0.432 0.192 0.384 0.631 0.327\n",
            "  0.601 0.368 0.659 0.758 0.076 0.225 0.373 0.583 0.408 0.344 0.716 0.297\n",
            "  0.249 0.651 0.494 0.303 0.26  0.112 0.238 0.657 0.635 0.242 0.283 0.311\n",
            "  0.374 0.196 0.098 0.473 0.043 0.541 0.158 0.497 0.54  0.16  0.457 0.152\n",
            "  0.45  0.486 0.495 0.24 ]\n",
            " [0.906 0.846 0.423 0.69  0.596 0.736 0.97  0.559 0.61  0.749 0.675 0.903\n",
            "  0.717 0.675 1.246 0.576 0.816 0.667 0.75  1.152 0.758 0.287 1.02  0.378\n",
            "  0.772 1.049 0.572 0.166 1.013 0.689 0.341 0.964 0.534 0.925 0.637 0.\n",
            "  0.365 0.804 0.56  1.011 0.391 0.564 0.708 0.587 0.915 0.47  0.803 0.447\n",
            "  0.657 0.736 0.477 0.931 0.833 0.03  0.114 1.033 0.538 0.26  0.755 0.962\n",
            "  0.948 1.    0.092 0.915 0.563 0.796 0.903 0.386 0.335 0.903 0.762 0.614\n",
            "  0.724 0.832 0.438 0.751 0.877 0.583 0.688 0.89  0.806 0.413 0.575 0.552\n",
            "  0.932 0.735 0.55  0.789 0.63  1.092 0.697 1.114 0.734 0.642 1.08  0.537\n",
            "  0.475 0.265 0.198 0.687]\n",
            " [0.543 0.581 0.183 0.397 0.568 0.666 0.684 0.198 0.417 0.471 0.325 0.8\n",
            "  0.624 0.312 0.903 0.351 0.495 0.431 0.636 0.792 0.439 0.211 0.655 0.241\n",
            "  0.501 0.695 0.324 0.225 0.766 0.42  0.13  0.859 0.404 0.643 0.272 0.365\n",
            "  0.    0.442 0.235 0.653 0.078 0.418 0.639 0.41  0.606 0.238 0.438 0.249\n",
            "  0.296 0.488 0.156 0.666 0.636 0.395 0.275 0.684 0.221 0.124 0.621 0.599\n",
            "  0.71  0.638 0.394 0.777 0.2   0.452 0.568 0.408 0.22  0.568 0.676 0.326\n",
            "  0.394 0.673 0.361 0.434 0.52  0.236 0.375 0.708 0.65  0.096 0.305 0.304\n",
            "  0.599 0.387 0.187 0.552 0.269 0.766 0.345 0.759 0.556 0.297 0.723 0.187\n",
            "  0.348 0.265 0.236 0.361]\n",
            " [0.186 0.403 0.494 0.287 0.739 0.755 0.419 0.273 0.474 0.486 0.258 0.808\n",
            "  0.702 0.172 0.481 0.417 0.385 0.408 0.681 0.35  0.373 0.618 0.221 0.522\n",
            "  0.512 0.259 0.495 0.649 0.557 0.343 0.482 0.849 0.552 0.399 0.175 0.804\n",
            "  0.442 0.    0.274 0.213 0.446 0.536 0.74  0.494 0.313 0.42  0.085 0.542\n",
            "  0.147 0.399 0.34  0.452 0.561 0.834 0.703 0.261 0.299 0.546 0.645 0.16\n",
            "  0.536 0.196 0.818 0.743 0.242 0.12  0.37  0.695 0.542 0.207 0.742 0.428\n",
            "  0.327 0.643 0.594 0.375 0.088 0.228 0.236 0.628 0.632 0.395 0.347 0.382\n",
            "  0.233 0.256 0.273 0.447 0.174 0.387 0.244 0.322 0.548 0.283 0.282 0.321\n",
            "  0.541 0.627 0.67  0.339]\n",
            " [0.434 0.354 0.376 0.167 0.499 0.55  0.45  0.205 0.261 0.55  0.32  0.648\n",
            "  0.499 0.24  0.687 0.188 0.511 0.235 0.493 0.603 0.469 0.445 0.494 0.248\n",
            "  0.581 0.495 0.464 0.396 0.54  0.202 0.221 0.701 0.307 0.409 0.174 0.56\n",
            "  0.235 0.274 0.    0.463 0.282 0.301 0.528 0.269 0.372 0.148 0.312 0.442\n",
            "  0.149 0.275 0.084 0.436 0.441 0.589 0.451 0.474 0.025 0.301 0.467 0.431\n",
            "  0.49  0.462 0.559 0.605 0.128 0.237 0.547 0.423 0.269 0.344 0.547 0.427\n",
            "  0.414 0.497 0.328 0.467 0.33  0.062 0.14  0.515 0.478 0.151 0.113 0.138\n",
            "  0.373 0.368 0.187 0.34  0.135 0.537 0.328 0.56  0.381 0.315 0.53  0.25\n",
            "  0.28  0.356 0.467 0.398]\n",
            " [0.247 0.436 0.704 0.409 0.867 0.851 0.384 0.484 0.6   0.64  0.446 0.863\n",
            "  0.798 0.377 0.28  0.56  0.515 0.521 0.766 0.141 0.524 0.83  0.108 0.704\n",
            "  0.661 0.054 0.687 0.853 0.529 0.454 0.681 0.892 0.695 0.387 0.388 1.011\n",
            "  0.653 0.213 0.463 0.    0.658 0.672 0.841 0.626 0.295 0.597 0.252 0.747\n",
            "  0.357 0.484 0.539 0.445 0.611 1.041 0.907 0.091 0.487 0.751 0.727 0.092\n",
            "  0.534 0.054 1.019 0.785 0.453 0.233 0.461 0.863 0.73  0.188 0.83  0.615\n",
            "  0.492 0.7   0.756 0.529 0.134 0.429 0.374 0.663 0.697 0.599 0.505 0.54\n",
            "  0.186 0.423 0.485 0.508 0.384 0.249 0.427 0.11  0.632 0.477 0.069 0.53\n",
            "  0.699 0.817 0.882 0.514]\n",
            " [0.52  0.636 0.106 0.449 0.647 0.743 0.73  0.178 0.489 0.401 0.284 0.875\n",
            "  0.701 0.294 0.92  0.421 0.437 0.496 0.711 0.795 0.38  0.174 0.648 0.319\n",
            "  0.429 0.704 0.247 0.274 0.821 0.478 0.208 0.934 0.481 0.691 0.27  0.391\n",
            "  0.078 0.446 0.282 0.658 0.    0.493 0.717 0.483 0.646 0.311 0.426 0.173\n",
            "  0.306 0.548 0.214 0.718 0.703 0.42  0.317 0.699 0.273 0.185 0.695 0.595\n",
            "  0.769 0.637 0.435 0.849 0.211 0.475 0.517 0.484 0.297 0.595 0.752 0.255\n",
            "  0.339 0.744 0.439 0.374 0.529 0.266 0.419 0.776 0.722 0.165 0.368 0.371\n",
            "  0.626 0.345 0.174 0.614 0.28  0.794 0.306 0.767 0.627 0.252 0.727 0.147\n",
            "  0.425 0.335 0.227 0.304]\n",
            " [0.716 0.326 0.599 0.263 0.203 0.255 0.458 0.494 0.074 0.839 0.619 0.383\n",
            "  0.209 0.54  0.817 0.12  0.811 0.158 0.218 0.799 0.767 0.601 0.737 0.203\n",
            "  0.87  0.685 0.726 0.416 0.462 0.22  0.302 0.443 0.033 0.415 0.474 0.564\n",
            "  0.418 0.536 0.301 0.672 0.493 0.    0.231 0.047 0.446 0.185 0.595 0.666\n",
            "  0.444 0.219 0.306 0.4   0.269 0.586 0.455 0.646 0.285 0.382 0.207 0.673\n",
            "  0.396 0.691 0.515 0.368 0.423 0.447 0.847 0.23  0.245 0.497 0.26  0.706\n",
            "  0.712 0.273 0.132 0.765 0.559 0.362 0.304 0.327 0.247 0.331 0.195 0.164\n",
            "  0.515 0.668 0.475 0.249 0.434 0.635 0.628 0.742 0.17  0.611 0.729 0.528\n",
            "  0.09  0.299 0.577 0.693]\n",
            " [0.924 0.424 0.822 0.453 0.119 0.029 0.538 0.724 0.271 1.07  0.847 0.198\n",
            "  0.045 0.765 0.928 0.34  1.039 0.331 0.091 0.953 0.996 0.806 0.92  0.405\n",
            "  1.101 0.842 0.954 0.589 0.476 0.398 0.515 0.258 0.236 0.505 0.699 0.708\n",
            "  0.639 0.74  0.528 0.841 0.717 0.231 0.    0.259 0.57  0.415 0.807 0.888\n",
            "  0.665 0.357 0.536 0.465 0.272 0.722 0.614 0.796 0.513 0.583 0.129 0.859\n",
            "  0.415 0.869 0.637 0.232 0.653 0.635 1.07  0.322 0.44  0.654 0.058 0.936\n",
            "  0.941 0.203 0.292 0.994 0.745 0.588 0.503 0.276 0.185 0.557 0.417 0.39\n",
            "  0.664 0.895 0.705 0.341 0.658 0.743 0.855 0.892 0.212 0.84  0.888 0.759\n",
            "  0.292 0.462 0.768 0.923]\n",
            " [0.675 0.285 0.589 0.217 0.246 0.281 0.416 0.467 0.029 0.814 0.589 0.393\n",
            "  0.231 0.506 0.771 0.082 0.78  0.112 0.231 0.753 0.738 0.602 0.691 0.215\n",
            "  0.845 0.639 0.708 0.433 0.43  0.173 0.303 0.451 0.075 0.373 0.44  0.587\n",
            "  0.41  0.494 0.269 0.626 0.483 0.047 0.259 0.    0.401 0.172 0.555 0.656\n",
            "  0.407 0.175 0.285 0.361 0.248 0.61  0.475 0.599 0.255 0.388 0.212 0.628\n",
            "  0.364 0.645 0.543 0.368 0.394 0.402 0.812 0.271 0.258 0.451 0.28  0.684\n",
            "  0.683 0.266 0.168 0.736 0.514 0.329 0.26  0.311 0.242 0.318 0.158 0.131\n",
            "  0.469 0.636 0.449 0.211 0.399 0.59  0.596 0.696 0.153 0.582 0.682 0.505\n",
            "  0.115 0.323 0.585 0.666]\n",
            " [0.472 0.148 0.727 0.225 0.619 0.576 0.107 0.513 0.372 0.793 0.554 0.57\n",
            "  0.526 0.456 0.371 0.362 0.697 0.289 0.488 0.387 0.683 0.815 0.395 0.551\n",
            "  0.821 0.282 0.774 0.749 0.249 0.238 0.576 0.597 0.475 0.094 0.421 0.915\n",
            "  0.606 0.313 0.372 0.295 0.646 0.446 0.57  0.401 0.    0.448 0.397 0.788\n",
            "  0.37  0.229 0.454 0.152 0.321 0.943 0.801 0.231 0.389 0.664 0.448 0.347\n",
            "  0.241 0.337 0.897 0.491 0.446 0.203 0.678 0.668 0.589 0.118 0.55  0.715\n",
            "  0.634 0.41  0.56  0.685 0.257 0.38  0.233 0.369 0.411 0.521 0.342 0.368\n",
            "  0.109 0.565 0.503 0.229 0.389 0.189 0.545 0.324 0.359 0.572 0.327 0.567\n",
            "  0.501 0.674 0.839 0.64 ]\n",
            " [0.582 0.379 0.417 0.223 0.365 0.44  0.5   0.315 0.179 0.657 0.447 0.564\n",
            "  0.394 0.379 0.796 0.118 0.639 0.207 0.401 0.735 0.592 0.436 0.638 0.109\n",
            "  0.689 0.623 0.541 0.305 0.554 0.219 0.143 0.622 0.179 0.456 0.314 0.47\n",
            "  0.238 0.42  0.148 0.597 0.311 0.185 0.415 0.172 0.448 0.    0.46  0.485\n",
            "  0.297 0.272 0.124 0.465 0.403 0.497 0.356 0.595 0.125 0.235 0.384 0.574\n",
            "  0.493 0.602 0.449 0.539 0.252 0.364 0.685 0.275 0.142 0.453 0.445 0.521\n",
            "  0.538 0.435 0.18  0.589 0.467 0.206 0.232 0.473 0.412 0.147 0.106 0.083\n",
            "  0.479 0.501 0.297 0.332 0.28  0.631 0.459 0.686 0.319 0.435 0.662 0.346\n",
            "  0.138 0.229 0.429 0.516]\n",
            " [0.123 0.486 0.458 0.358 0.798 0.824 0.503 0.248 0.538 0.408 0.194 0.885\n",
            "  0.771 0.133 0.531 0.475 0.301 0.478 0.753 0.377 0.293 0.592 0.222 0.555\n",
            "  0.433 0.304 0.435 0.656 0.642 0.415 0.499 0.928 0.608 0.483 0.167 0.803\n",
            "  0.438 0.085 0.312 0.252 0.426 0.595 0.807 0.555 0.397 0.46  0.    0.497\n",
            "  0.165 0.475 0.363 0.536 0.641 0.833 0.708 0.319 0.335 0.551 0.718 0.173\n",
            "  0.62  0.218 0.826 0.823 0.243 0.204 0.286 0.734 0.569 0.288 0.813 0.364\n",
            "  0.251 0.72  0.639 0.296 0.155 0.256 0.306 0.709 0.709 0.408 0.401 0.435\n",
            "  0.313 0.18  0.254 0.526 0.186 0.458 0.176 0.362 0.622 0.225 0.316 0.287\n",
            "  0.589 0.65  0.653 0.268]\n",
            " [0.561 0.795 0.068 0.608 0.813 0.915 0.879 0.278 0.662 0.304 0.312 1.049\n",
            "  0.874 0.371 1.022 0.593 0.39  0.666 0.884 0.874 0.335 0.161 0.713 0.486\n",
            "  0.325 0.798 0.126 0.388 0.981 0.642 0.374 1.107 0.654 0.842 0.377 0.447\n",
            "  0.249 0.542 0.442 0.747 0.173 0.666 0.888 0.656 0.788 0.485 0.497 0.\n",
            "  0.424 0.714 0.383 0.875 0.873 0.472 0.414 0.803 0.437 0.327 0.868 0.671\n",
            "  0.932 0.716 0.517 1.022 0.342 0.6   0.487 0.638 0.459 0.72  0.925 0.182\n",
            "  0.318 0.917 0.606 0.328 0.629 0.413 0.571 0.946 0.894 0.338 0.537 0.543\n",
            "  0.751 0.358 0.285 0.78  0.402 0.917 0.334 0.858 0.799 0.277 0.813 0.225\n",
            "  0.596 0.48  0.25  0.28 ]\n",
            " [0.286 0.409 0.369 0.241 0.645 0.685 0.468 0.146 0.394 0.446 0.202 0.766\n",
            "  0.633 0.105 0.614 0.326 0.382 0.348 0.621 0.496 0.349 0.48  0.366 0.391\n",
            "  0.476 0.4   0.404 0.502 0.588 0.294 0.339 0.815 0.453 0.436 0.052 0.657\n",
            "  0.296 0.147 0.149 0.357 0.306 0.444 0.665 0.407 0.37  0.297 0.165 0.424\n",
            "  0.    0.365 0.2   0.479 0.537 0.687 0.556 0.393 0.172 0.399 0.59  0.306\n",
            "  0.55  0.343 0.672 0.713 0.097 0.176 0.405 0.57  0.405 0.296 0.679 0.349\n",
            "  0.294 0.607 0.477 0.349 0.225 0.091 0.189 0.61  0.591 0.25  0.25  0.281\n",
            "  0.327 0.236 0.14  0.425 0.027 0.494 0.202 0.464 0.498 0.211 0.426 0.2\n",
            "  0.429 0.487 0.526 0.289]\n",
            " [0.585 0.112 0.647 0.124 0.392 0.368 0.243 0.473 0.146 0.808 0.566 0.41\n",
            "  0.315 0.47  0.6   0.16  0.745 0.07  0.286 0.6   0.713 0.697 0.565 0.359\n",
            "  0.838 0.488 0.737 0.573 0.283 0.074 0.415 0.454 0.25  0.199 0.411 0.736\n",
            "  0.488 0.399 0.275 0.484 0.548 0.219 0.357 0.175 0.229 0.272 0.475 0.714\n",
            "  0.365 0.    0.335 0.195 0.172 0.761 0.622 0.443 0.277 0.507 0.249 0.505\n",
            "  0.223 0.512 0.703 0.35  0.395 0.286 0.756 0.446 0.401 0.298 0.349 0.696\n",
            "  0.659 0.245 0.341 0.713 0.392 0.318 0.176 0.246 0.234 0.392 0.182 0.19\n",
            "  0.311 0.599 0.457 0.066 0.369 0.417 0.566 0.54  0.151 0.57  0.533 0.522\n",
            "  0.284 0.478 0.699 0.651]\n",
            " [0.483 0.425 0.315 0.241 0.489 0.561 0.528 0.192 0.285 0.534 0.325 0.677\n",
            "  0.513 0.265 0.769 0.213 0.516 0.283 0.516 0.679 0.469 0.368 0.562 0.196\n",
            "  0.565 0.574 0.424 0.315 0.61  0.265 0.143 0.733 0.303 0.487 0.204 0.477\n",
            "  0.156 0.34  0.084 0.539 0.214 0.306 0.536 0.285 0.454 0.124 0.363 0.383\n",
            "  0.2   0.335 0.    0.509 0.491 0.507 0.37  0.555 0.066 0.217 0.495 0.5\n",
            "  0.556 0.534 0.481 0.643 0.133 0.318 0.566 0.38  0.206 0.427 0.564 0.4\n",
            "  0.415 0.537 0.297 0.466 0.404 0.112 0.222 0.564 0.515 0.067 0.154 0.161\n",
            "  0.457 0.381 0.173 0.4   0.177 0.621 0.338 0.639 0.419 0.311 0.607 0.223\n",
            "  0.26  0.288 0.385 0.392]\n",
            " [0.621 0.086 0.811 0.27  0.536 0.465 0.075 0.612 0.334 0.919 0.675 0.431\n",
            "  0.42  0.576 0.466 0.355 0.833 0.265 0.376 0.525 0.813 0.877 0.547 0.554\n",
            "  0.948 0.427 0.879 0.768 0.109 0.248 0.606 0.452 0.432 0.058 0.53  0.931\n",
            "  0.666 0.452 0.436 0.445 0.718 0.4   0.465 0.361 0.152 0.465 0.536 0.875\n",
            "  0.479 0.195 0.509 0.    0.196 0.956 0.816 0.373 0.446 0.697 0.337 0.499\n",
            "  0.089 0.489 0.898 0.348 0.537 0.334 0.822 0.63  0.596 0.27  0.435 0.827\n",
            "  0.762 0.281 0.529 0.814 0.406 0.463 0.304 0.228 0.288 0.572 0.367 0.382\n",
            "  0.261 0.694 0.599 0.151 0.492 0.283 0.67  0.46  0.266 0.688 0.471 0.665\n",
            "  0.475 0.673 0.886 0.763]\n",
            " [0.745 0.175 0.806 0.296 0.355 0.27  0.27  0.643 0.229 0.98  0.738 0.253\n",
            "  0.228 0.642 0.662 0.286 0.917 0.208 0.182 0.707 0.886 0.839 0.703 0.462\n",
            "  1.011 0.602 0.905 0.681 0.21  0.245 0.544 0.289 0.3   0.242 0.583 0.833\n",
            "  0.636 0.561 0.441 0.611 0.703 0.269 0.272 0.248 0.321 0.403 0.641 0.873\n",
            "  0.537 0.172 0.491 0.196 0.    0.855 0.722 0.551 0.439 0.632 0.143 0.648\n",
            "  0.145 0.648 0.784 0.182 0.564 0.443 0.925 0.487 0.506 0.423 0.239 0.866\n",
            "  0.831 0.089 0.4   0.886 0.541 0.488 0.348 0.074 0.093 0.54  0.337 0.332\n",
            "  0.425 0.771 0.626 0.115 0.541 0.477 0.739 0.644 0.101 0.742 0.648 0.69\n",
            "  0.358 0.568 0.829 0.824]\n",
            " [0.936 0.872 0.45  0.718 0.609 0.75  0.996 0.59  0.633 0.775 0.704 0.919\n",
            "  0.733 0.706 1.276 0.601 0.843 0.692 0.768 1.182 0.786 0.311 1.05  0.403\n",
            "  0.797 1.079 0.598 0.194 1.037 0.715 0.37  0.98  0.556 0.952 0.667 0.03\n",
            "  0.395 0.834 0.589 1.041 0.42  0.586 0.722 0.61  0.943 0.497 0.833 0.472\n",
            "  0.687 0.761 0.507 0.956 0.855 0.    0.142 1.062 0.567 0.29  0.774 0.992\n",
            "  0.972 1.03  0.092 0.933 0.594 0.825 0.931 0.401 0.36  0.932 0.777 0.641\n",
            "  0.753 0.852 0.458 0.779 0.907 0.613 0.716 0.911 0.826 0.443 0.602 0.579\n",
            "  0.961 0.764 0.581 0.814 0.66  1.121 0.726 1.144 0.756 0.672 1.11  0.566\n",
            "  0.497 0.287 0.223 0.715]\n",
            " [0.817 0.732 0.375 0.576 0.507 0.642 0.855 0.472 0.497 0.703 0.597 0.806\n",
            "  0.618 0.585 1.137 0.462 0.753 0.553 0.649 1.048 0.696 0.265 0.921 0.264\n",
            "  0.729 0.943 0.532 0.055 0.899 0.574 0.23  0.868 0.426 0.811 0.541 0.114\n",
            "  0.275 0.703 0.451 0.907 0.317 0.455 0.614 0.475 0.801 0.356 0.708 0.414\n",
            "  0.556 0.622 0.37  0.816 0.722 0.142 0.    0.925 0.428 0.157 0.651 0.862\n",
            "  0.835 0.899 0.119 0.812 0.466 0.687 0.834 0.298 0.221 0.792 0.665 0.561\n",
            "  0.657 0.726 0.334 0.69  0.773 0.479 0.575 0.782 0.7   0.308 0.461 0.438\n",
            "  0.821 0.658 0.461 0.675 0.53  0.98  0.618 1.008 0.624 0.567 0.976 0.458\n",
            "  0.365 0.157 0.188 0.621]\n",
            " [0.333 0.378 0.755 0.389 0.833 0.803 0.307 0.531 0.572 0.72  0.512 0.8\n",
            "  0.752 0.433 0.221 0.542 0.599 0.489 0.716 0.158 0.603 0.873 0.198 0.704\n",
            "  0.742 0.054 0.753 0.87  0.449 0.426 0.695 0.825 0.671 0.317 0.432 1.033\n",
            "  0.684 0.261 0.474 0.091 0.699 0.646 0.796 0.599 0.231 0.595 0.319 0.803\n",
            "  0.393 0.443 0.555 0.373 0.551 1.062 0.925 0.    0.498 0.772 0.676 0.179\n",
            "  0.46  0.145 1.033 0.72  0.489 0.237 0.55  0.85  0.735 0.148 0.779 0.683\n",
            "  0.567 0.641 0.742 0.607 0.174 0.451 0.365 0.598 0.641 0.62  0.496 0.53\n",
            "  0.132 0.497 0.529 0.456 0.419 0.158 0.495 0.097 0.584 0.541 0.098 0.581\n",
            "  0.683 0.822 0.918 0.586]\n",
            " [0.457 0.363 0.371 0.177 0.48  0.536 0.463 0.213 0.249 0.56  0.334 0.64\n",
            "  0.486 0.258 0.709 0.176 0.526 0.232 0.483 0.628 0.483 0.432 0.519 0.223\n",
            "  0.591 0.52  0.466 0.373 0.548 0.205 0.198 0.694 0.289 0.422 0.192 0.538\n",
            "  0.221 0.299 0.025 0.487 0.273 0.285 0.513 0.255 0.389 0.125 0.335 0.437\n",
            "  0.172 0.277 0.066 0.446 0.439 0.567 0.428 0.498 0.    0.279 0.458 0.456\n",
            "  0.496 0.487 0.535 0.6   0.139 0.261 0.565 0.399 0.244 0.366 0.535 0.434\n",
            "  0.428 0.492 0.305 0.481 0.355 0.082 0.156 0.513 0.472 0.132 0.105 0.124\n",
            "  0.395 0.384 0.195 0.343 0.156 0.557 0.343 0.584 0.375 0.327 0.555 0.255\n",
            "  0.259 0.33  0.45  0.41 ]\n",
            " [0.662 0.612 0.271 0.441 0.496 0.611 0.728 0.319 0.404 0.585 0.449 0.761\n",
            "  0.576 0.43  0.987 0.352 0.617 0.441 0.597 0.892 0.561 0.223 0.764 0.181\n",
            "  0.614 0.789 0.426 0.104 0.789 0.449 0.092 0.822 0.361 0.684 0.384 0.26\n",
            "  0.124 0.546 0.301 0.751 0.185 0.382 0.583 0.388 0.664 0.235 0.551 0.327\n",
            "  0.399 0.507 0.217 0.697 0.632 0.29  0.157 0.772 0.279 0.    0.589 0.705\n",
            "  0.728 0.742 0.275 0.751 0.308 0.535 0.691 0.311 0.143 0.644 0.627 0.44\n",
            "  0.517 0.653 0.292 0.556 0.617 0.323 0.433 0.699 0.628 0.153 0.331 0.316\n",
            "  0.674 0.511 0.307 0.567 0.373 0.836 0.469 0.854 0.541 0.421 0.82  0.311\n",
            "  0.298 0.154 0.197 0.483]\n",
            " [0.831 0.3   0.801 0.36  0.22  0.129 0.41  0.671 0.21  1.017 0.784 0.182\n",
            "  0.084 0.694 0.801 0.283 0.971 0.243 0.04  0.834 0.934 0.809 0.812 0.409\n",
            "  1.048 0.725 0.919 0.617 0.349 0.304 0.509 0.239 0.23  0.378 0.631 0.755\n",
            "  0.621 0.645 0.467 0.727 0.695 0.207 0.129 0.212 0.448 0.384 0.718 0.868\n",
            "  0.59  0.249 0.495 0.337 0.143 0.774 0.651 0.676 0.458 0.589 0.    0.753\n",
            "  0.287 0.759 0.695 0.162 0.595 0.534 0.993 0.383 0.45  0.539 0.103 0.891\n",
            "  0.878 0.084 0.318 0.932 0.641 0.524 0.413 0.157 0.061 0.53  0.354 0.335\n",
            "  0.546 0.826 0.653 0.22  0.588 0.616 0.789 0.771 0.098 0.782 0.771 0.712\n",
            "  0.293 0.495 0.783 0.865]\n",
            " [0.155 0.476 0.631 0.412 0.874 0.872 0.446 0.418 0.605 0.55  0.363 0.901\n",
            "  0.819 0.305 0.368 0.556 0.424 0.531 0.791 0.203 0.433 0.764 0.064 0.679\n",
            "  0.57  0.145 0.603 0.808 0.592 0.463 0.642 0.935 0.692 0.441 0.327 0.962\n",
            "  0.599 0.16  0.431 0.092 0.595 0.673 0.859 0.628 0.347 0.574 0.173 0.671\n",
            "  0.306 0.505 0.5   0.499 0.648 0.992 0.862 0.179 0.456 0.705 0.753 0.\n",
            "  0.588 0.046 0.977 0.828 0.399 0.226 0.371 0.847 0.7   0.23  0.854 0.53\n",
            "  0.403 0.735 0.743 0.438 0.115 0.388 0.369 0.707 0.73  0.555 0.492 0.528\n",
            "  0.24  0.336 0.421 0.539 0.332 0.336 0.343 0.194 0.656 0.396 0.146 0.46\n",
            "  0.688 0.785 0.821 0.427]\n",
            " [0.708 0.141 0.866 0.325 0.5   0.41  0.155 0.677 0.339 0.994 0.75  0.353\n",
            "  0.371 0.651 0.536 0.377 0.914 0.287 0.324 0.609 0.891 0.92  0.636 0.571\n",
            "  1.024 0.514 0.944 0.789 0.067 0.291 0.637 0.368 0.428 0.147 0.601 0.948\n",
            "  0.71  0.536 0.49  0.534 0.769 0.396 0.415 0.364 0.241 0.493 0.62  0.932\n",
            "  0.55  0.223 0.556 0.089 0.145 0.972 0.835 0.46  0.496 0.728 0.287 0.588\n",
            "  0.    0.578 0.907 0.268 0.6   0.416 0.906 0.622 0.615 0.358 0.377 0.896\n",
            "  0.839 0.217 0.528 0.892 0.493 0.525 0.367 0.153 0.231 0.615 0.405 0.413\n",
            "  0.35  0.773 0.663 0.162 0.561 0.358 0.746 0.545 0.238 0.761 0.558 0.729\n",
            "  0.479 0.686 0.922 0.838]\n",
            " [0.196 0.473 0.676 0.428 0.889 0.88  0.431 0.461 0.621 0.594 0.409 0.9\n",
            "  0.827 0.349 0.323 0.576 0.467 0.544 0.798 0.159 0.478 0.807 0.058 0.708\n",
            "  0.614 0.104 0.649 0.844 0.577 0.476 0.676 0.932 0.711 0.431 0.368 1.\n",
            "  0.638 0.196 0.462 0.054 0.637 0.691 0.869 0.645 0.337 0.602 0.218 0.716\n",
            "  0.343 0.512 0.534 0.489 0.648 1.03  0.899 0.145 0.487 0.742 0.759 0.046\n",
            "  0.578 0.    1.013 0.825 0.438 0.244 0.409 0.872 0.731 0.225 0.861 0.576\n",
            "  0.448 0.736 0.767 0.483 0.135 0.422 0.388 0.703 0.732 0.591 0.515 0.551\n",
            "  0.228 0.382 0.463 0.541 0.37  0.303 0.389 0.148 0.662 0.442 0.1   0.504\n",
            "  0.711 0.817 0.863 0.473]\n",
            " [0.936 0.815 0.484 0.672 0.522 0.664 0.942 0.591 0.568 0.813 0.716 0.834\n",
            "  0.65  0.704 1.241 0.545 0.869 0.633 0.686 1.16  0.812 0.36  1.037 0.347\n",
            "  0.838 1.054 0.639 0.17  0.973 0.663 0.338 0.894 0.484 0.898 0.659 0.092\n",
            "  0.394 0.818 0.559 1.019 0.435 0.515 0.637 0.543 0.897 0.449 0.826 0.517\n",
            "  0.672 0.703 0.481 0.898 0.784 0.092 0.119 1.033 0.535 0.275 0.695 0.977\n",
            "  0.907 1.013 0.    0.852 0.583 0.796 0.952 0.316 0.308 0.897 0.692 0.674\n",
            "  0.774 0.775 0.384 0.806 0.885 0.591 0.677 0.837 0.749 0.422 0.555 0.529\n",
            "  0.925 0.777 0.58  0.751 0.646 1.08  0.737 1.119 0.684 0.685 1.088 0.576\n",
            "  0.428 0.225 0.273 0.738]\n",
            " [0.927 0.352 0.954 0.473 0.349 0.211 0.42  0.81  0.36  1.152 0.913 0.086\n",
            "  0.206 0.819 0.803 0.43  1.095 0.37  0.165 0.873 1.062 0.969 0.881 0.571\n",
            "  1.183 0.772 1.066 0.779 0.309 0.419 0.669 0.107 0.391 0.403 0.758 0.915\n",
            "  0.777 0.743 0.605 0.785 0.849 0.368 0.232 0.368 0.491 0.539 0.823 1.022\n",
            "  0.713 0.35  0.643 0.348 0.182 0.933 0.812 0.72  0.6   0.751 0.162 0.828\n",
            "  0.268 0.825 0.852 0.    0.732 0.625 1.106 0.537 0.612 0.6   0.175 1.033\n",
            "  1.007 0.108 0.479 1.061 0.722 0.658 0.526 0.122 0.128 0.684 0.494 0.482\n",
            "  0.599 0.949 0.792 0.297 0.715 0.626 0.915 0.808 0.225 0.914 0.817 0.854\n",
            "  0.455 0.656 0.945 0.997]\n",
            " [0.358 0.461 0.282 0.277 0.615 0.675 0.538 0.078 0.388 0.422 0.196 0.776\n",
            "  0.625 0.133 0.709 0.315 0.388 0.362 0.621 0.592 0.344 0.385 0.456 0.329\n",
            "  0.453 0.496 0.344 0.413 0.645 0.321 0.258 0.828 0.426 0.501 0.076 0.563\n",
            "  0.2   0.242 0.128 0.453 0.211 0.423 0.653 0.394 0.446 0.252 0.243 0.342\n",
            "  0.097 0.395 0.133 0.537 0.564 0.594 0.466 0.489 0.139 0.308 0.595 0.399\n",
            "  0.6   0.438 0.583 0.732 0.    0.265 0.434 0.513 0.335 0.385 0.674 0.302\n",
            "  0.289 0.624 0.429 0.342 0.321 0.076 0.234 0.638 0.606 0.166 0.241 0.264\n",
            "  0.416 0.249 0.063 0.459 0.07  0.584 0.207 0.561 0.509 0.188 0.523 0.129\n",
            "  0.39  0.411 0.43  0.271]\n",
            " [0.302 0.283 0.544 0.185 0.647 0.649 0.308 0.323 0.379 0.591 0.351 0.692\n",
            "  0.596 0.254 0.452 0.331 0.499 0.305 0.571 0.37  0.481 0.649 0.29  0.473\n",
            "  0.619 0.26  0.575 0.633 0.441 0.238 0.458 0.732 0.467 0.283 0.225 0.796\n",
            "  0.452 0.12  0.237 0.233 0.475 0.447 0.635 0.402 0.203 0.364 0.204 0.6\n",
            "  0.176 0.286 0.318 0.334 0.443 0.825 0.687 0.237 0.261 0.535 0.534 0.226\n",
            "  0.416 0.244 0.796 0.625 0.265 0.    0.49  0.63  0.5   0.12  0.634 0.514\n",
            "  0.432 0.526 0.524 0.483 0.112 0.216 0.144 0.509 0.517 0.383 0.272 0.308\n",
            "  0.151 0.363 0.316 0.329 0.2   0.319 0.342 0.324 0.436 0.37  0.297 0.376\n",
            "  0.467 0.588 0.687 0.438]\n",
            " [0.217 0.773 0.485 0.635 1.045 1.09  0.784 0.383 0.799 0.231 0.246 1.165\n",
            "  1.038 0.307 0.723 0.731 0.1   0.75  1.025 0.532 0.152 0.634 0.37  0.759\n",
            "  0.238 0.514 0.371 0.789 0.926 0.691 0.673 1.21  0.854 0.767 0.373 0.903\n",
            "  0.568 0.37  0.547 0.461 0.517 0.847 1.07  0.812 0.678 0.685 0.286 0.487\n",
            "  0.405 0.756 0.566 0.822 0.925 0.931 0.834 0.55  0.565 0.691 0.993 0.371\n",
            "  0.906 0.409 0.952 1.106 0.434 0.49  0.    0.944 0.759 0.564 1.083 0.305\n",
            "  0.178 1.002 0.863 0.159 0.424 0.485 0.582 0.994 0.989 0.585 0.654 0.684\n",
            "  0.584 0.186 0.4   0.81  0.413 0.705 0.229 0.55  0.898 0.27  0.501 0.381\n",
            "  0.822 0.825 0.717 0.216]\n",
            " [0.856 0.556 0.579 0.462 0.21  0.35  0.687 0.562 0.3   0.878 0.699 0.518\n",
            "  0.334 0.645 1.035 0.31  0.886 0.38  0.371 0.998 0.834 0.524 0.911 0.185\n",
            "  0.908 0.884 0.731 0.283 0.689 0.431 0.281 0.579 0.198 0.644 0.583 0.386\n",
            "  0.408 0.695 0.423 0.863 0.484 0.23  0.322 0.271 0.668 0.275 0.734 0.638\n",
            "  0.57  0.446 0.38  0.63  0.487 0.401 0.298 0.85  0.399 0.311 0.383 0.847\n",
            "  0.622 0.872 0.316 0.537 0.513 0.63  0.944 0.    0.189 0.703 0.376 0.734\n",
            "  0.783 0.465 0.109 0.83  0.737 0.479 0.489 0.532 0.44  0.361 0.358 0.323\n",
            "  0.725 0.758 0.544 0.479 0.552 0.857 0.714 0.945 0.387 0.68  0.925 0.576\n",
            "  0.168 0.162 0.469 0.755]\n",
            " [0.689 0.512 0.397 0.365 0.355 0.468 0.637 0.376 0.278 0.689 0.514 0.619\n",
            "  0.433 0.468 0.938 0.241 0.698 0.332 0.455 0.87  0.645 0.366 0.763 0.044\n",
            "  0.719 0.76  0.544 0.175 0.679 0.357 0.091 0.68  0.221 0.592 0.408 0.335\n",
            "  0.22  0.542 0.269 0.73  0.297 0.245 0.44  0.258 0.589 0.142 0.569 0.459\n",
            "  0.405 0.401 0.206 0.596 0.506 0.36  0.221 0.735 0.244 0.143 0.45  0.7\n",
            "  0.615 0.731 0.308 0.612 0.335 0.5   0.759 0.189 0.    0.594 0.484 0.545\n",
            "  0.595 0.518 0.149 0.641 0.598 0.316 0.373 0.569 0.492 0.174 0.248 0.221\n",
            "  0.621 0.573 0.359 0.454 0.383 0.773 0.53  0.824 0.41  0.493 0.797 0.388\n",
            "  0.157 0.088 0.334 0.567]\n",
            " [0.355 0.249 0.664 0.241 0.687 0.663 0.222 0.442 0.424 0.693 0.46  0.676\n",
            "  0.611 0.366 0.344 0.394 0.589 0.341 0.578 0.303 0.579 0.768 0.281 0.562\n",
            "  0.719 0.19  0.691 0.738 0.366 0.278 0.563 0.707 0.523 0.212 0.344 0.903\n",
            "  0.568 0.207 0.344 0.188 0.595 0.497 0.654 0.451 0.118 0.453 0.288 0.72\n",
            "  0.296 0.298 0.427 0.27  0.423 0.932 0.792 0.148 0.366 0.644 0.539 0.23\n",
            "  0.358 0.225 0.897 0.6   0.385 0.12  0.564 0.703 0.594 0.    0.642 0.627\n",
            "  0.534 0.512 0.594 0.582 0.141 0.332 0.221 0.479 0.509 0.494 0.351 0.384\n",
            "  0.031 0.463 0.436 0.319 0.32  0.199 0.448 0.245 0.444 0.482 0.235 0.496\n",
            "  0.536 0.682 0.803 0.544]\n",
            " [0.928 0.403 0.858 0.456 0.176 0.037 0.509 0.748 0.287 1.094 0.867 0.142\n",
            "  0.051 0.781 0.9   0.359 1.057 0.335 0.063 0.937 1.016 0.85  0.914 0.447\n",
            "  1.126 0.828 0.986 0.638 0.434 0.4   0.555 0.203 0.271 0.479 0.716 0.762\n",
            "  0.676 0.742 0.547 0.83  0.752 0.26  0.058 0.28  0.55  0.445 0.813 0.925\n",
            "  0.679 0.349 0.564 0.435 0.239 0.777 0.665 0.779 0.535 0.627 0.103 0.854\n",
            "  0.377 0.861 0.692 0.175 0.674 0.634 1.083 0.376 0.484 0.642 0.    0.963\n",
            "  0.961 0.16  0.339 1.015 0.741 0.606 0.508 0.231 0.147 0.59  0.434 0.411\n",
            "  0.649 0.912 0.729 0.323 0.674 0.716 0.873 0.874 0.199 0.862 0.873 0.785\n",
            "  0.331 0.512 0.815 0.945]\n",
            " [0.402 0.756 0.191 0.576 0.881 0.96  0.816 0.223 0.682 0.146 0.171 1.073\n",
            "  0.913 0.261 0.895 0.608 0.208 0.663 0.914 0.73  0.153 0.335 0.563 0.559\n",
            "  0.175 0.668 0.075 0.524 0.936 0.623 0.453 1.127 0.701 0.785 0.297 0.614\n",
            "  0.326 0.428 0.427 0.615 0.255 0.706 0.936 0.684 0.715 0.521 0.364 0.182\n",
            "  0.349 0.696 0.4   0.827 0.866 0.641 0.561 0.683 0.434 0.44  0.891 0.53\n",
            "  0.896 0.576 0.674 1.033 0.302 0.514 0.305 0.734 0.545 0.627 0.963 0.\n",
            "  0.142 0.925 0.677 0.145 0.514 0.378 0.53  0.94  0.906 0.384 0.539 0.556\n",
            "  0.656 0.196 0.24  0.761 0.336 0.815 0.188 0.723 0.809 0.145 0.676 0.179\n",
            "  0.653 0.59  0.421 0.107]\n",
            " [0.264 0.699 0.309 0.535 0.903 0.964 0.74  0.224 0.674 0.159 0.095 1.057\n",
            "  0.913 0.189 0.771 0.602 0.103 0.639 0.906 0.598 0.055 0.458 0.429 0.6\n",
            "  0.187 0.546 0.216 0.613 0.87  0.588 0.506 1.107 0.714 0.714 0.249 0.724\n",
            "  0.394 0.327 0.414 0.492 0.339 0.712 0.941 0.683 0.634 0.538 0.251 0.318\n",
            "  0.294 0.659 0.415 0.762 0.831 0.753 0.657 0.567 0.428 0.517 0.878 0.403\n",
            "  0.839 0.448 0.774 1.007 0.289 0.432 0.178 0.783 0.595 0.534 0.961 0.142\n",
            "  0.    0.9   0.71  0.054 0.406 0.355 0.483 0.904 0.883 0.422 0.527 0.552\n",
            "  0.56  0.071 0.242 0.719 0.292 0.709 0.093 0.597 0.788 0.104 0.549 0.209\n",
            "  0.675 0.656 0.539 0.038]\n",
            " [0.827 0.264 0.849 0.367 0.303 0.194 0.356 0.702 0.256 1.044 0.805 0.166\n",
            "  0.162 0.712 0.747 0.324 0.988 0.263 0.112 0.797 0.955 0.868 0.791 0.475\n",
            "  1.075 0.691 0.958 0.689 0.275 0.313 0.569 0.209 0.3   0.33  0.651 0.832\n",
            "  0.673 0.643 0.497 0.7   0.744 0.273 0.203 0.266 0.41  0.435 0.72  0.917\n",
            "  0.607 0.245 0.537 0.281 0.089 0.852 0.726 0.641 0.492 0.653 0.084 0.735\n",
            "  0.217 0.736 0.775 0.108 0.624 0.526 1.002 0.465 0.518 0.512 0.16  0.925\n",
            "  0.9   0.    0.394 0.954 0.627 0.55  0.421 0.074 0.026 0.579 0.387 0.375\n",
            "  0.514 0.842 0.685 0.197 0.608 0.564 0.808 0.733 0.118 0.807 0.737 0.747\n",
            "  0.362 0.569 0.849 0.89 ]\n",
            " [0.761 0.452 0.542 0.353 0.208 0.321 0.583 0.487 0.196 0.819 0.622 0.477\n",
            "  0.289 0.559 0.927 0.201 0.812 0.273 0.316 0.89  0.763 0.515 0.808 0.12\n",
            "  0.85  0.777 0.684 0.301 0.595 0.323 0.232 0.538 0.1   0.539 0.494 0.438\n",
            "  0.361 0.594 0.328 0.756 0.439 0.132 0.292 0.168 0.56  0.18  0.639 0.606\n",
            "  0.477 0.341 0.297 0.529 0.4   0.458 0.334 0.742 0.305 0.292 0.318 0.743\n",
            "  0.528 0.767 0.384 0.479 0.429 0.524 0.863 0.109 0.149 0.594 0.339 0.677\n",
            "  0.71  0.394 0.    0.76  0.633 0.386 0.382 0.453 0.367 0.294 0.252 0.217\n",
            "  0.616 0.678 0.469 0.378 0.46  0.749 0.635 0.837 0.3   0.607 0.818 0.509\n",
            "  0.059 0.177 0.476 0.686]\n",
            " [0.292 0.752 0.33  0.59  0.954 1.017 0.791 0.274 0.728 0.112 0.149 1.111\n",
            "  0.966 0.244 0.806 0.656 0.064 0.693 0.96  0.628 0.007 0.478 0.459 0.648\n",
            "  0.137 0.583 0.213 0.648 0.923 0.642 0.551 1.161 0.766 0.766 0.303 0.751\n",
            "  0.434 0.375 0.467 0.529 0.374 0.765 0.994 0.736 0.685 0.589 0.296 0.328\n",
            "  0.349 0.713 0.466 0.814 0.886 0.779 0.69  0.607 0.481 0.556 0.932 0.438\n",
            "  0.892 0.483 0.806 1.061 0.342 0.483 0.159 0.83  0.641 0.582 1.015 0.145\n",
            "  0.054 0.954 0.76  0.    0.451 0.409 0.538 0.958 0.938 0.469 0.581 0.605\n",
            "  0.608 0.12  0.292 0.774 0.346 0.753 0.147 0.631 0.842 0.154 0.583 0.253\n",
            "  0.726 0.698 0.562 0.074]\n",
            " [0.215 0.372 0.581 0.297 0.759 0.758 0.362 0.359 0.491 0.563 0.343 0.793\n",
            "  0.705 0.26  0.394 0.443 0.453 0.416 0.678 0.275 0.448 0.702 0.178 0.574\n",
            "  0.588 0.175 0.582 0.718 0.506 0.348 0.547 0.829 0.579 0.349 0.26  0.877\n",
            "  0.52  0.088 0.33  0.134 0.529 0.559 0.745 0.514 0.257 0.467 0.155 0.629\n",
            "  0.225 0.392 0.404 0.406 0.541 0.907 0.773 0.174 0.355 0.617 0.641 0.115\n",
            "  0.493 0.135 0.885 0.722 0.321 0.112 0.424 0.737 0.598 0.141 0.741 0.514\n",
            "  0.406 0.627 0.633 0.451 0.    0.294 0.255 0.603 0.62  0.464 0.381 0.416\n",
            "  0.161 0.335 0.357 0.429 0.252 0.303 0.328 0.239 0.543 0.37  0.204 0.408\n",
            "  0.576 0.685 0.751 0.421]\n",
            " [0.377 0.385 0.35  0.2   0.56  0.61  0.468 0.155 0.32  0.494 0.26  0.704\n",
            "  0.559 0.178 0.668 0.248 0.45  0.287 0.552 0.569 0.41  0.438 0.45  0.3\n",
            "  0.526 0.466 0.421 0.424 0.57  0.245 0.254 0.755 0.368 0.43  0.112 0.583\n",
            "  0.236 0.228 0.062 0.429 0.266 0.362 0.588 0.329 0.38  0.206 0.256 0.413\n",
            "  0.091 0.318 0.112 0.463 0.488 0.613 0.479 0.451 0.082 0.323 0.524 0.388\n",
            "  0.525 0.422 0.591 0.658 0.076 0.216 0.485 0.479 0.316 0.332 0.606 0.378\n",
            "  0.355 0.55  0.386 0.409 0.294 0.    0.159 0.562 0.532 0.17  0.172 0.199\n",
            "  0.363 0.307 0.139 0.383 0.074 0.531 0.267 0.531 0.436 0.258 0.497 0.205\n",
            "  0.34  0.399 0.471 0.341]\n",
            " [0.421 0.227 0.508 0.053 0.506 0.519 0.311 0.31  0.239 0.634 0.391 0.583\n",
            "  0.466 0.294 0.565 0.188 0.569 0.173 0.447 0.509 0.538 0.585 0.432 0.341\n",
            "  0.665 0.396 0.577 0.522 0.411 0.109 0.347 0.629 0.324 0.272 0.238 0.688\n",
            "  0.375 0.236 0.14  0.374 0.419 0.304 0.503 0.26  0.233 0.232 0.306 0.571\n",
            "  0.189 0.176 0.222 0.304 0.348 0.716 0.575 0.365 0.156 0.433 0.413 0.369\n",
            "  0.367 0.388 0.677 0.526 0.234 0.144 0.582 0.489 0.373 0.221 0.508 0.53\n",
            "  0.483 0.421 0.382 0.538 0.255 0.159 0.    0.421 0.407 0.288 0.132 0.166\n",
            "  0.248 0.423 0.296 0.236 0.196 0.405 0.391 0.457 0.317 0.398 0.436 0.362\n",
            "  0.324 0.46  0.606 0.478]\n",
            " [0.81  0.231 0.879 0.369 0.376 0.266 0.301 0.717 0.295 1.053 0.811 0.203\n",
            "  0.236 0.715 0.688 0.356 0.988 0.281 0.187 0.751 0.958 0.909 0.76  0.525\n",
            "  1.084 0.65  0.979 0.742 0.205 0.319 0.612 0.228 0.356 0.282 0.657 0.89\n",
            "  0.708 0.628 0.515 0.663 0.776 0.327 0.276 0.311 0.369 0.473 0.709 0.946\n",
            "  0.61  0.246 0.564 0.228 0.074 0.911 0.782 0.598 0.513 0.699 0.157 0.707\n",
            "  0.153 0.703 0.837 0.122 0.638 0.509 0.994 0.532 0.569 0.479 0.231 0.94\n",
            "  0.904 0.074 0.453 0.958 0.603 0.562 0.421 0.    0.096 0.612 0.41  0.404\n",
            "  0.477 0.843 0.7   0.185 0.614 0.508 0.811 0.687 0.158 0.816 0.696 0.764\n",
            "  0.416 0.626 0.896 0.897]\n",
            " [0.818 0.263 0.827 0.354 0.28  0.179 0.363 0.683 0.233 1.026 0.789 0.176\n",
            "  0.142 0.696 0.754 0.302 0.973 0.245 0.094 0.798 0.938 0.844 0.787 0.45\n",
            "  1.058 0.691 0.938 0.663 0.291 0.298 0.544 0.224 0.274 0.334 0.635 0.806\n",
            "  0.65  0.632 0.478 0.697 0.722 0.247 0.185 0.242 0.411 0.412 0.709 0.894\n",
            "  0.591 0.234 0.515 0.288 0.093 0.826 0.7   0.641 0.472 0.628 0.061 0.73\n",
            "  0.231 0.732 0.749 0.128 0.606 0.517 0.989 0.44  0.492 0.509 0.147 0.906\n",
            "  0.883 0.026 0.367 0.938 0.62  0.532 0.407 0.096 0.    0.557 0.367 0.354\n",
            "  0.513 0.827 0.666 0.191 0.592 0.57  0.792 0.734 0.097 0.79  0.737 0.727\n",
            "  0.336 0.543 0.824 0.872]\n",
            " [0.524 0.487 0.271 0.306 0.496 0.583 0.594 0.202 0.324 0.525 0.339 0.711\n",
            "  0.539 0.297 0.835 0.256 0.525 0.335 0.547 0.74  0.473 0.306 0.615 0.178\n",
            "  0.556 0.636 0.397 0.254 0.671 0.326 0.092 0.769 0.321 0.552 0.242 0.413\n",
            "  0.096 0.395 0.151 0.599 0.165 0.331 0.557 0.318 0.521 0.147 0.408 0.338\n",
            "  0.25  0.392 0.067 0.572 0.54  0.443 0.308 0.62  0.132 0.153 0.53  0.555\n",
            "  0.615 0.591 0.422 0.684 0.166 0.383 0.585 0.361 0.174 0.494 0.59  0.384\n",
            "  0.422 0.579 0.294 0.469 0.464 0.17  0.288 0.612 0.557 0.    0.21  0.208\n",
            "  0.524 0.399 0.185 0.456 0.225 0.688 0.356 0.701 0.462 0.319 0.668 0.217\n",
            "  0.269 0.245 0.318 0.395]\n",
            " [0.523 0.281 0.469 0.117 0.397 0.438 0.397 0.317 0.148 0.663 0.433 0.535\n",
            "  0.386 0.349 0.692 0.076 0.623 0.129 0.38  0.64  0.582 0.515 0.556 0.212\n",
            "  0.695 0.527 0.571 0.409 0.463 0.118 0.24  0.588 0.207 0.353 0.283 0.575\n",
            "  0.305 0.347 0.113 0.505 0.368 0.195 0.417 0.158 0.342 0.106 0.401 0.537\n",
            "  0.25  0.182 0.154 0.367 0.337 0.602 0.461 0.496 0.105 0.331 0.354 0.492\n",
            "  0.405 0.515 0.555 0.494 0.241 0.272 0.654 0.358 0.248 0.351 0.434 0.539\n",
            "  0.527 0.387 0.252 0.581 0.381 0.172 0.132 0.41  0.367 0.21  0.    0.036\n",
            "  0.376 0.478 0.3   0.247 0.241 0.525 0.439 0.589 0.27  0.428 0.567 0.36\n",
            "  0.196 0.334 0.52  0.512]\n",
            " [0.557 0.296 0.475 0.146 0.364 0.412 0.417 0.337 0.126 0.684 0.458 0.517\n",
            "  0.362 0.377 0.724 0.052 0.649 0.128 0.359 0.675 0.607 0.51  0.592 0.183\n",
            "  0.715 0.562 0.585 0.388 0.473 0.136 0.225 0.572 0.173 0.373 0.311 0.552\n",
            "  0.304 0.382 0.138 0.54  0.371 0.164 0.39  0.131 0.368 0.083 0.435 0.543\n",
            "  0.281 0.19  0.161 0.382 0.332 0.579 0.438 0.53  0.124 0.316 0.335 0.528\n",
            "  0.413 0.551 0.529 0.482 0.264 0.308 0.684 0.323 0.221 0.384 0.411 0.556\n",
            "  0.552 0.375 0.217 0.605 0.416 0.199 0.166 0.404 0.354 0.208 0.036 0.\n",
            "  0.408 0.506 0.319 0.252 0.27  0.554 0.466 0.623 0.257 0.451 0.602 0.377\n",
            "  0.16  0.306 0.509 0.535]\n",
            " [0.373 0.25  0.695 0.264 0.701 0.672 0.207 0.473 0.441 0.719 0.488 0.677\n",
            "  0.62  0.396 0.317 0.415 0.613 0.358 0.586 0.29  0.605 0.799 0.286 0.588\n",
            "  0.745 0.179 0.72  0.767 0.353 0.297 0.591 0.705 0.542 0.203 0.374 0.932\n",
            "  0.599 0.233 0.373 0.186 0.626 0.515 0.664 0.469 0.109 0.479 0.313 0.751\n",
            "  0.327 0.311 0.457 0.261 0.425 0.961 0.821 0.132 0.395 0.674 0.546 0.24\n",
            "  0.35  0.228 0.925 0.599 0.416 0.151 0.584 0.725 0.621 0.031 0.649 0.656\n",
            "  0.56  0.514 0.616 0.608 0.161 0.363 0.248 0.477 0.513 0.524 0.376 0.408\n",
            "  0.    0.489 0.467 0.326 0.351 0.168 0.476 0.229 0.453 0.511 0.225 0.526\n",
            "  0.557 0.708 0.834 0.572]\n",
            " [0.206 0.634 0.336 0.476 0.864 0.916 0.67  0.198 0.625 0.23  0.062 1.002\n",
            "  0.865 0.131 0.703 0.555 0.146 0.584 0.855 0.534 0.119 0.484 0.367 0.573\n",
            "  0.257 0.477 0.271 0.611 0.803 0.53  0.488 1.051 0.673 0.645 0.196 0.735\n",
            "  0.387 0.256 0.368 0.423 0.345 0.668 0.895 0.636 0.565 0.501 0.18  0.358\n",
            "  0.236 0.599 0.381 0.694 0.771 0.764 0.658 0.497 0.384 0.511 0.826 0.336\n",
            "  0.773 0.382 0.777 0.949 0.249 0.363 0.186 0.758 0.573 0.463 0.912 0.196\n",
            "  0.071 0.842 0.678 0.12  0.335 0.307 0.423 0.843 0.827 0.399 0.478 0.506\n",
            "  0.489 0.    0.214 0.658 0.238 0.638 0.043 0.53  0.733 0.093 0.482 0.201\n",
            "  0.639 0.64  0.559 0.091]\n",
            " [0.357 0.523 0.229 0.339 0.662 0.729 0.597 0.019 0.444 0.365 0.155 0.834\n",
            "  0.68  0.125 0.75  0.371 0.344 0.422 0.678 0.621 0.295 0.345 0.475 0.36\n",
            "  0.396 0.531 0.282 0.41  0.707 0.383 0.274 0.888 0.474 0.562 0.098 0.55\n",
            "  0.187 0.273 0.187 0.485 0.174 0.475 0.705 0.449 0.503 0.297 0.254 0.285\n",
            "  0.14  0.457 0.173 0.599 0.626 0.581 0.461 0.529 0.195 0.307 0.653 0.421\n",
            "  0.663 0.463 0.58  0.792 0.063 0.316 0.4   0.544 0.359 0.436 0.729 0.24\n",
            "  0.242 0.685 0.469 0.292 0.357 0.139 0.296 0.7   0.666 0.185 0.3   0.319\n",
            "  0.467 0.214 0.    0.522 0.116 0.634 0.171 0.594 0.569 0.138 0.554 0.066\n",
            "  0.434 0.427 0.4   0.219]\n",
            " [0.631 0.085 0.713 0.185 0.395 0.347 0.213 0.538 0.184 0.87  0.627 0.364\n",
            "  0.297 0.53  0.592 0.216 0.803 0.125 0.26  0.614 0.773 0.761 0.596 0.411\n",
            "  0.9   0.504 0.803 0.629 0.224 0.139 0.475 0.403 0.281 0.173 0.473 0.789\n",
            "  0.552 0.447 0.34  0.508 0.614 0.249 0.341 0.211 0.229 0.332 0.526 0.78\n",
            "  0.425 0.066 0.4   0.151 0.115 0.814 0.675 0.456 0.343 0.567 0.22  0.539\n",
            "  0.162 0.541 0.751 0.297 0.459 0.329 0.81  0.479 0.454 0.319 0.323 0.761\n",
            "  0.719 0.197 0.378 0.774 0.429 0.383 0.236 0.185 0.191 0.456 0.247 0.252\n",
            "  0.326 0.658 0.522 0.    0.431 0.406 0.627 0.551 0.13  0.633 0.55  0.587\n",
            "  0.326 0.528 0.76  0.713]\n",
            " [0.306 0.42  0.345 0.245 0.633 0.679 0.485 0.125 0.388 0.439 0.198 0.765\n",
            "  0.627 0.107 0.64  0.318 0.383 0.347 0.617 0.523 0.347 0.454 0.391 0.37\n",
            "  0.47  0.427 0.388 0.476 0.601 0.296 0.314 0.815 0.441 0.452 0.043 0.63\n",
            "  0.269 0.174 0.135 0.384 0.28  0.434 0.658 0.399 0.389 0.28  0.186 0.402\n",
            "  0.027 0.369 0.177 0.492 0.541 0.66  0.53  0.419 0.156 0.373 0.588 0.332\n",
            "  0.561 0.37  0.646 0.715 0.07  0.2   0.413 0.552 0.383 0.32  0.674 0.336\n",
            "  0.292 0.608 0.46  0.346 0.252 0.074 0.196 0.614 0.592 0.225 0.241 0.27\n",
            "  0.351 0.238 0.116 0.431 0.    0.518 0.201 0.491 0.497 0.202 0.454 0.179\n",
            "  0.414 0.464 0.499 0.283]\n",
            " [0.489 0.321 0.863 0.408 0.801 0.744 0.208 0.64  0.561 0.865 0.645 0.71\n",
            "  0.698 0.557 0.186 0.551 0.75  0.478 0.656 0.268 0.749 0.967 0.355 0.737\n",
            "  0.89  0.205 0.881 0.927 0.329 0.427 0.751 0.726 0.664 0.237 0.541 1.092\n",
            "  0.766 0.387 0.537 0.249 0.794 0.635 0.743 0.59  0.189 0.631 0.458 0.917\n",
            "  0.494 0.417 0.621 0.283 0.477 1.121 0.98  0.158 0.557 0.836 0.616 0.336\n",
            "  0.358 0.303 1.08  0.626 0.584 0.319 0.705 0.857 0.773 0.199 0.716 0.815\n",
            "  0.709 0.564 0.749 0.753 0.303 0.531 0.405 0.508 0.57  0.688 0.525 0.554\n",
            "  0.168 0.638 0.634 0.406 0.518 0.    0.63  0.207 0.535 0.67  0.238 0.693\n",
            "  0.691 0.859 1.001 0.725]\n",
            " [0.228 0.606 0.306 0.443 0.822 0.877 0.65  0.154 0.587 0.249 0.023 0.966\n",
            "  0.826 0.097 0.707 0.515 0.183 0.548 0.818 0.545 0.147 0.452 0.381 0.53\n",
            "  0.278 0.48  0.26  0.57  0.779 0.496 0.445 1.016 0.632 0.623 0.158 0.697\n",
            "  0.345 0.244 0.328 0.427 0.306 0.628 0.855 0.596 0.545 0.459 0.176 0.334\n",
            "  0.202 0.566 0.338 0.67  0.739 0.726 0.618 0.495 0.343 0.469 0.789 0.343\n",
            "  0.746 0.389 0.737 0.915 0.207 0.342 0.229 0.714 0.53  0.448 0.873 0.188\n",
            "  0.093 0.808 0.635 0.147 0.328 0.267 0.391 0.811 0.792 0.356 0.439 0.466\n",
            "  0.476 0.043 0.171 0.627 0.201 0.63  0.    0.536 0.697 0.058 0.489 0.161\n",
            "  0.596 0.597 0.524 0.096]\n",
            " [0.342 0.471 0.814 0.484 0.93  0.898 0.39  0.594 0.669 0.741 0.555 0.89\n",
            "  0.847 0.488 0.175 0.637 0.613 0.586 0.811 0.064 0.626 0.94  0.18  0.795\n",
            "  0.761 0.065 0.796 0.954 0.527 0.523 0.78  0.912 0.768 0.405 0.497 1.114\n",
            "  0.759 0.322 0.56  0.11  0.767 0.742 0.892 0.696 0.324 0.686 0.362 0.858\n",
            "  0.464 0.54  0.639 0.46  0.644 1.144 1.008 0.097 0.584 0.854 0.771 0.194\n",
            "  0.545 0.148 1.119 0.808 0.561 0.324 0.55  0.945 0.824 0.245 0.874 0.723\n",
            "  0.597 0.733 0.837 0.631 0.239 0.531 0.457 0.687 0.734 0.701 0.589 0.623\n",
            "  0.229 0.53  0.594 0.551 0.491 0.207 0.536 0.    0.68  0.587 0.049 0.641\n",
            "  0.778 0.911 0.99  0.621]\n",
            " [0.734 0.214 0.731 0.264 0.271 0.219 0.335 0.586 0.139 0.93  0.694 0.269\n",
            "  0.168 0.602 0.721 0.206 0.879 0.149 0.136 0.742 0.843 0.753 0.715 0.367\n",
            "  0.961 0.631 0.841 0.584 0.305 0.207 0.455 0.32  0.2   0.298 0.54  0.734\n",
            "  0.556 0.548 0.381 0.632 0.627 0.17  0.212 0.153 0.359 0.319 0.622 0.799\n",
            "  0.498 0.151 0.419 0.266 0.101 0.756 0.624 0.584 0.375 0.541 0.098 0.656\n",
            "  0.238 0.662 0.684 0.225 0.509 0.436 0.898 0.387 0.41  0.444 0.199 0.809\n",
            "  0.788 0.118 0.3   0.842 0.543 0.436 0.317 0.158 0.097 0.462 0.27  0.257\n",
            "  0.453 0.733 0.569 0.13  0.497 0.535 0.697 0.68  0.    0.693 0.677 0.63\n",
            "  0.259 0.469 0.738 0.776]\n",
            " [0.286 0.62  0.248 0.447 0.8   0.863 0.674 0.12  0.576 0.238 0.035 0.961\n",
            "  0.813 0.116 0.756 0.503 0.206 0.545 0.808 0.599 0.157 0.394 0.436 0.497\n",
            "  0.269 0.529 0.212 0.52  0.798 0.497 0.405 1.013 0.612 0.644 0.16  0.642\n",
            "  0.297 0.283 0.315 0.477 0.252 0.611 0.84  0.582 0.572 0.435 0.225 0.277\n",
            "  0.211 0.57  0.311 0.688 0.742 0.672 0.567 0.541 0.327 0.421 0.782 0.396\n",
            "  0.761 0.442 0.685 0.914 0.188 0.37  0.27  0.68  0.493 0.482 0.862 0.145\n",
            "  0.104 0.807 0.607 0.154 0.37  0.258 0.398 0.816 0.79  0.319 0.428 0.451\n",
            "  0.511 0.093 0.138 0.633 0.202 0.67  0.058 0.587 0.693 0.    0.541 0.11\n",
            "  0.572 0.556 0.467 0.083]\n",
            " [0.293 0.474 0.771 0.467 0.921 0.896 0.404 0.553 0.656 0.693 0.509 0.897\n",
            "  0.845 0.444 0.224 0.62  0.564 0.575 0.81  0.073 0.577 0.899 0.132 0.77\n",
            "  0.712 0.046 0.749 0.921 0.545 0.51  0.749 0.923 0.753 0.415 0.457 1.08\n",
            "  0.723 0.282 0.53  0.069 0.727 0.729 0.888 0.682 0.327 0.662 0.316 0.813\n",
            "  0.426 0.533 0.607 0.471 0.648 1.11  0.976 0.098 0.555 0.82  0.771 0.146\n",
            "  0.558 0.1   1.088 0.817 0.523 0.297 0.501 0.925 0.797 0.235 0.873 0.676\n",
            "  0.549 0.737 0.818 0.583 0.204 0.497 0.436 0.696 0.737 0.668 0.567 0.602\n",
            "  0.225 0.482 0.554 0.55  0.454 0.238 0.489 0.049 0.677 0.541 0.    0.598\n",
            "  0.76  0.884 0.951 0.573]\n",
            " [0.375 0.589 0.174 0.405 0.708 0.783 0.663 0.054 0.503 0.312 0.139 0.894\n",
            "  0.735 0.155 0.801 0.43  0.311 0.485 0.736 0.662 0.258 0.305 0.509 0.395\n",
            "  0.343 0.579 0.216 0.41  0.773 0.448 0.298 0.948 0.525 0.628 0.152 0.537\n",
            "  0.187 0.321 0.25  0.53  0.147 0.528 0.759 0.505 0.567 0.346 0.287 0.225\n",
            "  0.2   0.522 0.223 0.665 0.69  0.566 0.458 0.581 0.255 0.311 0.712 0.46\n",
            "  0.729 0.504 0.576 0.854 0.129 0.376 0.381 0.576 0.388 0.496 0.785 0.179\n",
            "  0.209 0.747 0.509 0.253 0.408 0.205 0.362 0.764 0.727 0.217 0.36  0.377\n",
            "  0.526 0.201 0.066 0.587 0.179 0.693 0.161 0.641 0.63  0.11  0.598 0.\n",
            "  0.48  0.447 0.37  0.179]\n",
            " [0.712 0.396 0.53  0.295 0.229 0.319 0.527 0.452 0.142 0.791 0.585 0.463\n",
            "  0.28  0.516 0.868 0.142 0.776 0.216 0.299 0.832 0.729 0.52  0.752 0.117\n",
            "  0.822 0.718 0.666 0.327 0.545 0.264 0.224 0.524 0.063 0.483 0.45  0.475\n",
            "  0.348 0.541 0.28  0.699 0.425 0.09  0.292 0.115 0.501 0.138 0.589 0.596\n",
            "  0.429 0.284 0.26  0.475 0.358 0.497 0.365 0.683 0.259 0.298 0.293 0.688\n",
            "  0.479 0.711 0.428 0.455 0.39  0.467 0.822 0.168 0.157 0.536 0.331 0.653\n",
            "  0.675 0.362 0.059 0.726 0.576 0.34  0.324 0.416 0.336 0.269 0.196 0.16\n",
            "  0.557 0.639 0.434 0.326 0.414 0.691 0.596 0.778 0.259 0.572 0.76  0.48\n",
            "  0.    0.21  0.491 0.653]\n",
            " [0.768 0.59  0.424 0.451 0.362 0.491 0.718 0.443 0.346 0.735 0.579 0.652\n",
            "  0.464 0.542 1.025 0.32  0.758 0.408 0.493 0.957 0.703 0.362 0.848 0.123\n",
            "  0.764 0.848 0.579 0.126 0.751 0.439 0.154 0.713 0.27  0.673 0.486 0.265\n",
            "  0.265 0.627 0.356 0.817 0.335 0.299 0.462 0.323 0.674 0.229 0.65  0.48\n",
            "  0.487 0.478 0.288 0.673 0.568 0.287 0.157 0.822 0.33  0.154 0.495 0.785\n",
            "  0.686 0.817 0.225 0.656 0.411 0.588 0.825 0.162 0.088 0.682 0.512 0.59\n",
            "  0.656 0.569 0.177 0.698 0.685 0.399 0.46  0.626 0.543 0.245 0.334 0.306\n",
            "  0.708 0.64  0.427 0.528 0.464 0.859 0.597 0.911 0.469 0.556 0.884 0.447\n",
            "  0.21  0.    0.309 0.624]\n",
            " [0.745 0.801 0.232 0.623 0.671 0.796 0.911 0.404 0.601 0.552 0.501 0.952\n",
            "  0.765 0.521 1.137 0.547 0.626 0.636 0.789 1.02  0.568 0.089 0.874 0.374\n",
            "  0.575 0.926 0.375 0.186 0.981 0.638 0.286 1.013 0.554 0.869 0.495 0.198\n",
            "  0.236 0.67  0.467 0.882 0.227 0.577 0.768 0.585 0.839 0.429 0.653 0.25\n",
            "  0.526 0.699 0.385 0.886 0.829 0.223 0.188 0.918 0.45  0.197 0.783 0.821\n",
            "  0.922 0.863 0.273 0.945 0.43  0.687 0.717 0.469 0.334 0.803 0.815 0.421\n",
            "  0.539 0.849 0.476 0.562 0.751 0.471 0.606 0.896 0.824 0.318 0.52  0.509\n",
            "  0.834 0.559 0.4   0.76  0.499 1.001 0.524 0.99  0.738 0.467 0.951 0.37\n",
            "  0.491 0.309 0.    0.501]\n",
            " [0.295 0.697 0.271 0.528 0.881 0.946 0.745 0.201 0.659 0.157 0.088 1.045\n",
            "  0.896 0.187 0.794 0.586 0.134 0.628 0.892 0.625 0.079 0.42  0.458 0.573\n",
            "  0.187 0.568 0.182 0.578 0.872 0.579 0.477 1.096 0.694 0.717 0.24  0.687\n",
            "  0.361 0.339 0.398 0.514 0.304 0.693 0.923 0.666 0.64  0.516 0.268 0.28\n",
            "  0.289 0.651 0.392 0.763 0.824 0.715 0.621 0.586 0.41  0.483 0.865 0.427\n",
            "  0.838 0.473 0.738 0.997 0.271 0.438 0.216 0.755 0.567 0.544 0.945 0.107\n",
            "  0.038 0.89  0.686 0.074 0.421 0.341 0.478 0.897 0.872 0.395 0.512 0.535\n",
            "  0.572 0.091 0.219 0.713 0.283 0.725 0.096 0.621 0.776 0.083 0.573 0.179\n",
            "  0.653 0.624 0.501 0.   ]]\n"
          ]
        }
      ],
      "source": [
        "N = 100  \n",
        "arr = np.random.random((N,2))\n",
        "print(arr)\n",
        "\n",
        "x,y = np.atleast_2d(arr[:,0], arr[:,1])\n",
        "dist = np.sqrt( (x-x.T)**2 + (y-y.T)**2)\n",
        "print(dist)"
      ]
    },
    {
      "cell_type": "markdown",
      "id": "cb67c896",
      "metadata": {
        "id": "cb67c896"
      },
      "source": [
        "#### 53. How to convert a float (32 bits) array into an integer (32 bits) in place?"
      ]
    },
    {
      "cell_type": "code",
      "execution_count": 127,
      "id": "b077c656",
      "metadata": {
        "colab": {
          "base_uri": "https://localhost:8080/"
        },
        "id": "b077c656",
        "outputId": "3f5ec317-a3d1-45ee-dd3e-284b01a06ba6"
      },
      "outputs": [
        {
          "output_type": "stream",
          "name": "stdout",
          "text": [
            "72.981735\n",
            "72\n"
          ]
        }
      ],
      "source": [
        "float_n = (np.random.rand(1)*100).astype(np.float32)\n",
        "print(float_n[0])\n",
        "int_n = float_n.view(np.int32) \n",
        "int_n[:] = float_n \n",
        "print(int_n[0])"
      ]
    },
    {
      "cell_type": "markdown",
      "id": "056c5fbc",
      "metadata": {
        "id": "056c5fbc"
      },
      "source": [
        "#### 54. How to read the following file? (★★☆)\n",
        "```\n",
        "1, 2, 3, 4, 5\n",
        "6,  ,  , 7, 8\n",
        " ,  , 9,10,11\n",
        "```"
      ]
    },
    {
      "cell_type": "code",
      "execution_count": 128,
      "id": "e2806e3b",
      "metadata": {
        "colab": {
          "base_uri": "https://localhost:8080/"
        },
        "id": "e2806e3b",
        "outputId": "3202e804-2851-44eb-d647-1bc32d51fd52"
      },
      "outputs": [
        {
          "output_type": "stream",
          "name": "stdout",
          "text": [
            "[[ 1.  2.  3.  4.  5.]\n",
            " [ 6. nan nan  7.  8.]\n",
            " [nan nan  9. 10. 11.]]\n"
          ]
        }
      ],
      "source": [
        "from io import StringIO\n",
        "input = StringIO('''\n",
        "1, 2, 3, 4, 5\n",
        "6,  ,  , 7, 8\n",
        " ,  , 9,10,11\n",
        "''')\n",
        "print(np.genfromtxt(input, delimiter=\",\"))"
      ]
    },
    {
      "cell_type": "markdown",
      "id": "d6a7fc57",
      "metadata": {
        "id": "d6a7fc57"
      },
      "source": [
        "#### 55. What is the equivalent of enumerate for numpy arrays? (★★☆)"
      ]
    },
    {
      "cell_type": "code",
      "execution_count": 138,
      "id": "f3c15e87",
      "metadata": {
        "colab": {
          "base_uri": "https://localhost:8080/"
        },
        "id": "f3c15e87",
        "outputId": "8b0d2ad8-01cb-426a-fd91-4b32376d6319"
      },
      "outputs": [
        {
          "output_type": "stream",
          "name": "stdout",
          "text": [
            "(0, 0) 1.0\n",
            "(0, 1) 0.0\n",
            "(1, 0) 0.0\n",
            "(1, 1) 1.0\n",
            "(0, 0) 1.0\n",
            "(0, 1) 0.0\n",
            "(1, 0) 0.0\n",
            "(1, 1) 1.0\n"
          ]
        }
      ],
      "source": [
        "arr = np.eye(2)\n",
        " \n",
        "for item in np.ndenumerate(arr):\n",
        "    print(item[0], item[1])\n",
        "for index_of_value in np.ndindex(arr.shape):\n",
        "    print(index_of_value, arr[index_of_value])"
      ]
    },
    {
      "cell_type": "markdown",
      "id": "b1b623fc",
      "metadata": {
        "id": "b1b623fc"
      },
      "source": [
        "#### 56. Generate a generic 2D Gaussian-like array (★★☆)"
      ]
    },
    {
      "cell_type": "code",
      "source": [
        "sigma, mu = 1.0, 2.0\n",
        "A, B = np.meshgrid(np.linspace(-1,1,4), np.linspace(-1,1,4))\n",
        "distrib = np.sqrt(A*A+B*B)\n",
        "denom = 2.0 * sigma**2\n",
        "print(np.exp(-((distrib-mu)**2 /denom)))"
      ],
      "metadata": {
        "colab": {
          "base_uri": "https://localhost:8080/"
        },
        "id": "1Cno7TFpVzs_",
        "outputId": "38f11864-5b54-4bc2-d49d-7c5dd2accef9"
      },
      "id": "1Cno7TFpVzs_",
      "execution_count": 258,
      "outputs": [
        {
          "output_type": "stream",
          "name": "stdout",
          "text": [
            "[[0.842 0.639 0.639 0.842]\n",
            " [0.639 0.311 0.311 0.639]\n",
            " [0.639 0.311 0.311 0.639]\n",
            " [0.842 0.639 0.639 0.842]]\n"
          ]
        }
      ]
    },
    {
      "cell_type": "markdown",
      "id": "6ac1da77",
      "metadata": {
        "id": "6ac1da77"
      },
      "source": [
        "#### 57. How to randomly place p elements in a 2D array? (★★☆)"
      ]
    },
    {
      "cell_type": "code",
      "execution_count": 149,
      "id": "f91ddc9e",
      "metadata": {
        "colab": {
          "base_uri": "https://localhost:8080/"
        },
        "id": "f91ddc9e",
        "outputId": "1caa025c-816a-45e8-e476-5527ed170a3d"
      },
      "outputs": [
        {
          "output_type": "stream",
          "name": "stdout",
          "text": [
            "[[6. 1. 6. 1. 1.]\n",
            " [1. 1. 1. 6. 6.]\n",
            " [6. 1. 1. 1. 1.]\n",
            " [1. 1. 1. 6. 1.]\n",
            " [1. 1. 1. 1. 1.]]\n"
          ]
        }
      ],
      "source": [
        "p = 6\n",
        "arr = np.ones((5,5)) \n",
        "indexes = np.random.choice(arr.size, p, replace=False)\n",
        "np.put(arr, indexes, p)\n",
        "print(arr)"
      ]
    },
    {
      "cell_type": "markdown",
      "id": "8c0c8a5f",
      "metadata": {
        "id": "8c0c8a5f"
      },
      "source": [
        "#### 58. Subtract the mean of each row of a matrix (★★☆)"
      ]
    },
    {
      "cell_type": "code",
      "execution_count": 153,
      "id": "2205f571",
      "metadata": {
        "colab": {
          "base_uri": "https://localhost:8080/"
        },
        "id": "2205f571",
        "outputId": "2f8e485c-f312-49b8-96f2-b15cef60a631"
      },
      "outputs": [
        {
          "output_type": "stream",
          "name": "stdout",
          "text": [
            "[[13  4 95 83 51]\n",
            " [11 51 97 30 20]\n",
            " [28 84 85 41 39]\n",
            " [ 9 34 18 41 43]\n",
            " [63 15  5 62 27]]\n",
            "[[-36.2 -45.2  45.8  33.8   1.8]\n",
            " [-30.8   9.2  55.2 -11.8 -21.8]\n",
            " [-27.4  28.6  29.6 -14.4 -16.4]\n",
            " [-20.    5.  -11.   12.   14. ]\n",
            " [ 28.6 -19.4 -29.4  27.6  -7.4]]\n"
          ]
        }
      ],
      "source": [
        "arr = np.random.randint(0,100,25).reshape(5, 5)\n",
        "\n",
        "print(arr)\n",
        "\n",
        "new_arr = arr - arr.mean(axis=1, keepdims=True)\n",
        "print(new_arr)"
      ]
    },
    {
      "cell_type": "markdown",
      "id": "f9dcd5f7",
      "metadata": {
        "id": "f9dcd5f7"
      },
      "source": [
        "#### 59. How to sort an array by the nth column? (★★☆)"
      ]
    },
    {
      "cell_type": "code",
      "execution_count": 160,
      "id": "0ec33d66",
      "metadata": {
        "colab": {
          "base_uri": "https://localhost:8080/"
        },
        "id": "0ec33d66",
        "outputId": "76c31af7-5e73-47ff-8797-232e56895888"
      },
      "outputs": [
        {
          "output_type": "stream",
          "name": "stdout",
          "text": [
            "[[3 3 4 8]\n",
            " [1 3 3 6]\n",
            " [9 8 8 7]\n",
            " [0 1 3 3]]\n",
            "[[1 3 3 6]\n",
            " [0 1 3 3]\n",
            " [3 3 4 8]\n",
            " [9 8 8 7]]\n"
          ]
        }
      ],
      "source": [
        "n=2\n",
        "arr = np.random.randint(0,10,16).reshape(4,4)\n",
        "print(arr)\n",
        "arr = arr[arr[:,2].argsort()]\n",
        "print(arr) "
      ]
    },
    {
      "cell_type": "markdown",
      "id": "074244ca",
      "metadata": {
        "id": "074244ca"
      },
      "source": [
        "#### 60. How to tell if a given 2D array has null columns? (★★☆)"
      ]
    },
    {
      "cell_type": "code",
      "execution_count": 167,
      "id": "8d37f69a",
      "metadata": {
        "colab": {
          "base_uri": "https://localhost:8080/"
        },
        "id": "8d37f69a",
        "outputId": "b6c7ea6f-11f8-4cc8-a416-d030a4de308d"
      },
      "outputs": [
        {
          "output_type": "stream",
          "name": "stdout",
          "text": [
            "[[0 1 0]\n",
            " [0 0 1]\n",
            " [0 1 0]]\n",
            "True\n"
          ]
        }
      ],
      "source": [
        "arr = np.random.randint(0,2,9).reshape(3,3)\n",
        "print(arr)\n",
        "print((~arr.any(axis=0)).any())"
      ]
    },
    {
      "cell_type": "markdown",
      "id": "ff34feb5",
      "metadata": {
        "id": "ff34feb5"
      },
      "source": [
        "#### 61. Find the nearest value from a given value in an array (★★☆)"
      ]
    },
    {
      "cell_type": "code",
      "execution_count": 171,
      "id": "42f3c015",
      "metadata": {
        "colab": {
          "base_uri": "https://localhost:8080/"
        },
        "id": "42f3c015",
        "outputId": "2aaed613-6a60-4578-9830-7e563f34203b"
      },
      "outputs": [
        {
          "output_type": "stream",
          "name": "stdout",
          "text": [
            "[[0 1 2 3 4]\n",
            " [5 6 7 8 9]]\n",
            "Ближайшее значение в векторе к (0.5495339221719031):= 1\n"
          ]
        }
      ],
      "source": [
        "arr = np.arange(10).reshape(2,5)\n",
        "print(arr)\n",
        "\n",
        "a = np.random.uniform(low=0,high=10)\n",
        "index = (np.abs(arr-a)).argmin()\n",
        "print(f'Ближайшее значение в векторе к ({a}):= {arr.flat[index]}')"
      ]
    },
    {
      "cell_type": "markdown",
      "id": "d8c4fece",
      "metadata": {
        "id": "d8c4fece"
      },
      "source": [
        "#### 62. Considering two arrays with shape (1,3) and (3,1), how to compute their sum using an iterator? (★★☆)"
      ]
    },
    {
      "cell_type": "code",
      "execution_count": 172,
      "id": "b8d65758",
      "metadata": {
        "colab": {
          "base_uri": "https://localhost:8080/"
        },
        "id": "b8d65758",
        "outputId": "9149f200-3943-49ae-b5a6-cf445970d87e"
      },
      "outputs": [
        {
          "output_type": "stream",
          "name": "stdout",
          "text": [
            "[[0 1 2]\n",
            " [1 2 3]\n",
            " [2 3 4]]\n"
          ]
        }
      ],
      "source": [
        "X = np.arange(3).reshape(1,3)\n",
        "Y = np.arange(3).reshape(3,1)\n",
        "iterator = np.nditer([X,Y,None])\n",
        "for x,y,res in iterator:\n",
        "    res[...] = x + y\n",
        "print(iterator.operands[2])"
      ]
    },
    {
      "cell_type": "markdown",
      "id": "0ec9032e",
      "metadata": {
        "id": "0ec9032e"
      },
      "source": [
        "#### 63. Create an array class that has a name attribute (★★☆)"
      ]
    },
    {
      "cell_type": "code",
      "execution_count": 180,
      "id": "04db2048",
      "metadata": {
        "colab": {
          "base_uri": "https://localhost:8080/"
        },
        "id": "04db2048",
        "outputId": "042f8c96-45cb-44dd-9f24-f380c26f51c2"
      },
      "outputs": [
        {
          "output_type": "stream",
          "name": "stdout",
          "text": [
            "arr [4 6 2 3] <class '__main__.Name'>\n"
          ]
        }
      ],
      "source": [
        "class Name(np.ndarray):\n",
        "    def __new__(p, array, name=\"blank\"):\n",
        "        obj = np.asarray(array).view(p)\n",
        "        obj.name = name\n",
        "        return obj\n",
        "\n",
        "arr = Name(np.random.randint(2,8,4))\n",
        "arr.name = 'arr'\n",
        "print (arr.name, arr, type(arr))"
      ]
    },
    {
      "cell_type": "markdown",
      "id": "bfe18e35",
      "metadata": {
        "id": "bfe18e35"
      },
      "source": [
        "#### 64. Consider a given vector, how to add 1 to each element indexed by a second vector (be careful with repeated indices)? (★★★)"
      ]
    },
    {
      "cell_type": "code",
      "execution_count": 186,
      "id": "3b6155b8",
      "metadata": {
        "colab": {
          "base_uri": "https://localhost:8080/"
        },
        "id": "3b6155b8",
        "outputId": "14e72754-39b6-4879-a93b-474cb1757203"
      },
      "outputs": [
        {
          "output_type": "stream",
          "name": "stdout",
          "text": [
            "[0. 4. 4. 2. 0.]\n"
          ]
        }
      ],
      "source": [
        "arr = np.zeros(5)\n",
        "I = np.random.randint(1,5-1,5*2)\n",
        "arr += np.bincount(I, minlength=len(arr))\n",
        "print(arr)"
      ]
    },
    {
      "cell_type": "markdown",
      "id": "303cf016",
      "metadata": {
        "id": "303cf016"
      },
      "source": [
        "#### 65. How to accumulate elements of a vector (X) to an array (F) based on an index list (I)? (★★★)"
      ]
    },
    {
      "cell_type": "code",
      "execution_count": 210,
      "id": "c23f4736",
      "metadata": {
        "colab": {
          "base_uri": "https://localhost:8080/"
        },
        "id": "c23f4736",
        "outputId": "623d6f5c-94c7-4d57-f6a5-63cc7beb80d7"
      },
      "outputs": [
        {
          "output_type": "stream",
          "name": "stdout",
          "text": [
            "[0. 3. 2. 0. 6. 0. 2.]\n"
          ]
        }
      ],
      "source": [
        "I = [2,4,6,1]\n",
        "F = np.bincount(I,np.random.randint(1,9,4))\n",
        "print(F)"
      ]
    },
    {
      "cell_type": "markdown",
      "id": "dd8767f5",
      "metadata": {
        "id": "dd8767f5"
      },
      "source": [
        "#### 66. Considering a (w,h,3) image of (dtype=ubyte), compute the number of unique colors (★★☆)"
      ]
    },
    {
      "cell_type": "code",
      "execution_count": 222,
      "id": "1eafcc51",
      "metadata": {
        "colab": {
          "base_uri": "https://localhost:8080/"
        },
        "id": "1eafcc51",
        "outputId": "3e0244e1-d097-4e70-aa4b-48624574ea74"
      },
      "outputs": [
        {
          "output_type": "stream",
          "name": "stdout",
          "text": [
            "512\n"
          ]
        }
      ],
      "source": [
        "w = 256\n",
        "h = 16 \n",
        "matrix = np.random.randint(0, 8, (w, h, 3)).astype(np.ubyte)\n",
        "unique_col = np.unique(matrix.reshape(-1,3), axis = 0)\n",
        "print(len(unique_col))\n"
      ]
    },
    {
      "cell_type": "markdown",
      "id": "2cdedf1e",
      "metadata": {
        "id": "2cdedf1e"
      },
      "source": [
        "#### 67. Considering a four dimensions array, how to get sum over the last two axis at once? (★★★)"
      ]
    },
    {
      "cell_type": "code",
      "execution_count": 226,
      "id": "2b22d07a",
      "metadata": {
        "colab": {
          "base_uri": "https://localhost:8080/"
        },
        "id": "2b22d07a",
        "outputId": "694dd46d-419a-4b42-8498-0a0874dc7be6"
      },
      "outputs": [
        {
          "output_type": "stream",
          "name": "stdout",
          "text": [
            "[[[[0 5]\n",
            "   [1 1]\n",
            "   [1 4]\n",
            "   [0 2]]\n",
            "\n",
            "  [[5 3]\n",
            "   [6 6]\n",
            "   [3 3]\n",
            "   [7 5]]\n",
            "\n",
            "  [[5 6]\n",
            "   [7 6]\n",
            "   [2 7]\n",
            "   [2 2]]]\n",
            "\n",
            "\n",
            " [[[3 0]\n",
            "   [6 3]\n",
            "   [6 4]\n",
            "   [3 0]]\n",
            "\n",
            "  [[7 5]\n",
            "   [7 4]\n",
            "   [7 7]\n",
            "   [4 5]]\n",
            "\n",
            "  [[3 4]\n",
            "   [6 6]\n",
            "   [6 0]\n",
            "   [0 7]]]]\n",
            "==========\n",
            "[[14 38 37]\n",
            " [25 46 32]]\n"
          ]
        }
      ],
      "source": [
        "matrix = np.random.randint(0, 8, (2,3,4,2))\n",
        "print(matrix)\n",
        "print(\"==========\")\n",
        "print(matrix.sum(axis=(-2,-1)))"
      ]
    },
    {
      "cell_type": "markdown",
      "id": "13077c54",
      "metadata": {
        "id": "13077c54"
      },
      "source": [
        "#### 68. Considering a one-dimensional vector D, how to compute means of subsets of D using a vector S of same size describing subset  indices? (★★★)"
      ]
    },
    {
      "cell_type": "code",
      "execution_count": 268,
      "id": "68473f2f",
      "metadata": {
        "colab": {
          "base_uri": "https://localhost:8080/"
        },
        "id": "68473f2f",
        "outputId": "3cd788dd-dc39-42ca-be6e-9d65add3a7cd"
      },
      "outputs": [
        {
          "output_type": "stream",
          "name": "stdout",
          "text": [
            "[0.465 0.463 0.479 0.544 0.538]\n"
          ]
        }
      ],
      "source": [
        "A = np.random.uniform(0,1,50)\n",
        "B = np.random.randint(0,5,50)\n",
        "print(np.bincount(B, A)/ np.bincount(B))"
      ]
    },
    {
      "cell_type": "markdown",
      "id": "e9f4811f",
      "metadata": {
        "id": "e9f4811f"
      },
      "source": [
        "#### 69. How to get the diagonal of a dot product? (★★★)"
      ]
    },
    {
      "cell_type": "code",
      "execution_count": 191,
      "id": "00fb50e3",
      "metadata": {
        "colab": {
          "base_uri": "https://localhost:8080/"
        },
        "id": "00fb50e3",
        "outputId": "e82d5515-63a0-4e86-ab16-ad65576a12bf"
      },
      "outputs": [
        {
          "output_type": "stream",
          "name": "stdout",
          "text": [
            "[[4 4]\n",
            " [8 5]]\n",
            "[[11 10]\n",
            " [14 11]]\n",
            "[100 135]\n"
          ]
        }
      ],
      "source": [
        "A = np.random.randint(1,9,4).reshape(2,2)\n",
        "B = np.random.randint(10,15, 4).reshape(2,2)\n",
        "print(A, B, sep='\\n')\n",
        "print(np.diag(A @ B))"
      ]
    },
    {
      "cell_type": "markdown",
      "id": "f64747d3",
      "metadata": {
        "id": "f64747d3"
      },
      "source": [
        "#### 70. Consider the vector [1, 2, 3, 4, 5], how to build a new vector with 3 consecutive zeros interleaved between each value? (★★★)"
      ]
    },
    {
      "cell_type": "code",
      "execution_count": 228,
      "id": "c9e39e37",
      "metadata": {
        "colab": {
          "base_uri": "https://localhost:8080/"
        },
        "id": "c9e39e37",
        "outputId": "758c31be-75a7-40c0-a3a0-3cbc480998cd"
      },
      "outputs": [
        {
          "output_type": "stream",
          "name": "stdout",
          "text": [
            "[1. 0. 0. 0. 2. 0. 0. 0. 3. 0. 0. 0. 4. 0. 0. 0. 5.]\n"
          ]
        }
      ],
      "source": [
        "v = np.array([1,2,3,4,5])\n",
        "v_vs_pad = np.zeros(4*len(v)- 3)\n",
        "v_vs_pad[::3+1] = v\n",
        "print(v_vs_pad)"
      ]
    },
    {
      "cell_type": "markdown",
      "id": "76fa3315",
      "metadata": {
        "id": "76fa3315"
      },
      "source": [
        "#### 71. Consider an array of dimension (5,5,3), how to mulitply it by an array with dimensions (5,5)? (★★★)"
      ]
    },
    {
      "cell_type": "code",
      "execution_count": 206,
      "id": "53792b39",
      "metadata": {
        "id": "53792b39"
      },
      "outputs": [],
      "source": [
        "A = np.random.randint(1,9,5*5*3).reshape(5,5,3)\n",
        "B = np.random.randint(1,9,5*5).reshape(5,5)\n",
        "#нЕ ДОДЕЛАЛ"
      ]
    },
    {
      "cell_type": "markdown",
      "id": "5832ee16",
      "metadata": {
        "id": "5832ee16"
      },
      "source": [
        "#### 72. How to swap two rows of an array? (★★★)"
      ]
    },
    {
      "cell_type": "code",
      "execution_count": 193,
      "id": "090a8a0b",
      "metadata": {
        "colab": {
          "base_uri": "https://localhost:8080/"
        },
        "id": "090a8a0b",
        "outputId": "33df85bb-4bf2-40f5-ec28-16a23b941b98"
      },
      "outputs": [
        {
          "output_type": "stream",
          "name": "stdout",
          "text": [
            "[[3 5]\n",
            " [6 6]]\n",
            "[[6 6]\n",
            " [3 5]]\n"
          ]
        }
      ],
      "source": [
        "A = np.random.randint(1,9,4).reshape(2,2)\n",
        "print(A)\n",
        "A[[0,1]] = A[[1,0]]\n",
        "print(A)"
      ]
    },
    {
      "cell_type": "markdown",
      "id": "853cd8be",
      "metadata": {
        "id": "853cd8be"
      },
      "source": [
        "#### 73. Consider a set of 10 triplets describing 10 triangles (with shared vertices), find the set of unique line segments composing all the  triangles (★★★)"
      ]
    },
    {
      "cell_type": "code",
      "execution_count": null,
      "id": "b156a035",
      "metadata": {
        "id": "b156a035"
      },
      "outputs": [],
      "source": []
    },
    {
      "cell_type": "markdown",
      "id": "b56ca9a0",
      "metadata": {
        "id": "b56ca9a0"
      },
      "source": [
        "#### 74. Given a sorted array C that corresponds to a bincount, how to produce an array A such that np.bincount(A) == C? (★★★)"
      ]
    },
    {
      "cell_type": "code",
      "execution_count": 234,
      "id": "baf1db6a",
      "metadata": {
        "colab": {
          "base_uri": "https://localhost:8080/"
        },
        "id": "baf1db6a",
        "outputId": "1736ce92-bc39-446f-87d6-f2581cd0776c"
      },
      "outputs": [
        {
          "output_type": "stream",
          "name": "stdout",
          "text": [
            "[1 1 2 2 3 4]\n"
          ]
        }
      ],
      "source": [
        "C = np.bincount([1,1,2,2,3,4])\n",
        "Filler = np.arange(len(C))\n",
        "A = np.repeat(Filler, C)\n",
        "print(A)"
      ]
    },
    {
      "cell_type": "markdown",
      "id": "e14639e8",
      "metadata": {
        "id": "e14639e8"
      },
      "source": [
        "#### 75. How to compute averages using a sliding window over an array? (★★★)"
      ]
    },
    {
      "cell_type": "code",
      "execution_count": null,
      "id": "584aac01",
      "metadata": {
        "id": "584aac01"
      },
      "outputs": [],
      "source": []
    },
    {
      "cell_type": "markdown",
      "id": "61e03328",
      "metadata": {
        "id": "61e03328"
      },
      "source": [
        "#### 76. Consider a one-dimensional array Z, build a two-dimensional array whose first row is (Z[0],Z[1],Z[2]) and each subsequent row is  shifted by 1 (last row should be (Z[-3],Z[-2],Z[-1]) (★★★)"
      ]
    },
    {
      "cell_type": "code",
      "execution_count": null,
      "id": "f38e08e6",
      "metadata": {
        "id": "f38e08e6"
      },
      "outputs": [],
      "source": []
    },
    {
      "cell_type": "markdown",
      "id": "c6219b4d",
      "metadata": {
        "id": "c6219b4d"
      },
      "source": [
        "#### 77. How to negate a boolean, or to change the sign of a float inplace? (★★★)"
      ]
    },
    {
      "cell_type": "code",
      "execution_count": 208,
      "id": "bbe60485",
      "metadata": {
        "colab": {
          "base_uri": "https://localhost:8080/"
        },
        "id": "bbe60485",
        "outputId": "aaa921ae-6543-4ff5-d6ad-9ffbf7b557db"
      },
      "outputs": [
        {
          "output_type": "stream",
          "name": "stdout",
          "text": [
            "[0 0 0 0 1 1 0 1 1 1]\n",
            "[1 1 1 1 0 0 1 0 0 0]\n",
            "[-2.13  -2.475 -1.459  0.841  0.418  2.336  2.509 -2.086 -2.286 -2.94 ]\n",
            "[ 2.13   2.475  1.459 -0.841 -0.418 -2.336 -2.509  2.086  2.286  2.94 ]\n"
          ]
        }
      ],
      "source": [
        "arr = np.random.randint(0,2,10)\n",
        "print(arr)\n",
        "print(np.logical_not(arr, out=arr))\n",
        "\n",
        "arr2 = np.random.uniform(-3.0,3.0,10)\n",
        "print(arr2)\n",
        "print(np.negative(arr2, out=arr2))"
      ]
    },
    {
      "cell_type": "markdown",
      "id": "817815d2",
      "metadata": {
        "id": "817815d2"
      },
      "source": [
        "#### 78. Consider 2 sets of points P0,P1 describing lines (2d) and a point p, how to compute distance from p to each line i (P0[i],P1[i])? (★★★)"
      ]
    },
    {
      "cell_type": "code",
      "execution_count": null,
      "id": "24851325",
      "metadata": {
        "id": "24851325"
      },
      "outputs": [],
      "source": []
    },
    {
      "cell_type": "markdown",
      "id": "acaf0987",
      "metadata": {
        "id": "acaf0987"
      },
      "source": [
        "#### 79. Consider 2 sets of points P0,P1 describing lines (2d) and a set of points P, how to compute distance from each point j (P[j]) to each line i (P0[i],P1[i])? (★★★)"
      ]
    },
    {
      "cell_type": "code",
      "execution_count": null,
      "id": "87c727a1",
      "metadata": {
        "id": "87c727a1"
      },
      "outputs": [],
      "source": []
    },
    {
      "cell_type": "markdown",
      "id": "ca72b027",
      "metadata": {
        "id": "ca72b027"
      },
      "source": [
        "#### 80. Consider an arbitrary array, write a function that extract a subpart with a fixed shape and centered on a given element (pad with a `fill` value when necessary) (★★★)"
      ]
    },
    {
      "cell_type": "code",
      "execution_count": null,
      "id": "5c8cbaca",
      "metadata": {
        "id": "5c8cbaca"
      },
      "outputs": [],
      "source": []
    },
    {
      "cell_type": "markdown",
      "id": "e1e299e2",
      "metadata": {
        "id": "e1e299e2"
      },
      "source": [
        "#### 81. Consider an array Z = [1,2,3,4,5,6,7,8,9,10,11,12,13,14], how to generate an array R = [[1,2,3,4], [2,3,4,5], [3,4,5,6], ..., [11,12,13,14]]? (★★★)"
      ]
    },
    {
      "cell_type": "code",
      "execution_count": null,
      "id": "8e456c97",
      "metadata": {
        "id": "8e456c97"
      },
      "outputs": [],
      "source": []
    },
    {
      "cell_type": "markdown",
      "id": "5c78a59d",
      "metadata": {
        "id": "5c78a59d"
      },
      "source": [
        "#### 82. Compute a matrix rank (★★★)"
      ]
    },
    {
      "cell_type": "code",
      "execution_count": 195,
      "id": "5babb181",
      "metadata": {
        "colab": {
          "base_uri": "https://localhost:8080/"
        },
        "id": "5babb181",
        "outputId": "9b5295ec-a4f3-401c-f120-28cef8115d5c"
      },
      "outputs": [
        {
          "output_type": "stream",
          "name": "stdout",
          "text": [
            "[[ 7  8  4  5]\n",
            " [ 6 15  7  6]\n",
            " [10 14 15  4]\n",
            " [16 12  7  3]]\n"
          ]
        },
        {
          "output_type": "execute_result",
          "data": {
            "text/plain": [
              "4"
            ]
          },
          "metadata": {},
          "execution_count": 195
        }
      ],
      "source": [
        "A = np.random.randint(1,19,16).reshape(4,4)\n",
        "print(A)\n",
        "np.linalg.matrix_rank(A)"
      ]
    },
    {
      "cell_type": "markdown",
      "id": "8af3432e",
      "metadata": {
        "id": "8af3432e"
      },
      "source": [
        "#### 83. How to find the most frequent value in an array?"
      ]
    },
    {
      "cell_type": "code",
      "execution_count": 203,
      "id": "645053a8",
      "metadata": {
        "colab": {
          "base_uri": "https://localhost:8080/"
        },
        "id": "645053a8",
        "outputId": "0d761322-25cb-49a8-d3e8-7000185ffa7e"
      },
      "outputs": [
        {
          "output_type": "stream",
          "name": "stdout",
          "text": [
            "[3 4 1 7 8 8 2]\n",
            "8\n"
          ]
        }
      ],
      "source": [
        "A = np.random.randint(1,9,7)\n",
        "print(A)\n",
        "print(np.bincount(A).argmax())"
      ]
    },
    {
      "cell_type": "markdown",
      "id": "38b8e551",
      "metadata": {
        "id": "38b8e551"
      },
      "source": [
        "#### 84. Extract all the contiguous 3x3 blocks from a random 10x10 matrix (★★★)"
      ]
    },
    {
      "cell_type": "code",
      "execution_count": 236,
      "id": "e3e83519",
      "metadata": {
        "id": "e3e83519"
      },
      "outputs": [],
      "source": []
    },
    {
      "cell_type": "markdown",
      "id": "3c9d71de",
      "metadata": {
        "id": "3c9d71de"
      },
      "source": [
        "#### 85. Create a 2D array subclass such that Z[i,j] == Z[j,i] (★★★)"
      ]
    },
    {
      "cell_type": "code",
      "execution_count": null,
      "id": "4dfbe03e",
      "metadata": {
        "id": "4dfbe03e"
      },
      "outputs": [],
      "source": []
    },
    {
      "cell_type": "markdown",
      "id": "77e8d67c",
      "metadata": {
        "id": "77e8d67c"
      },
      "source": [
        "#### 86. Consider a set of p matrices wich shape (n,n) and a set of p vectors with shape (n,1). How to compute the sum of of the p matrix products at once? (result has shape (n,1)) (★★★)"
      ]
    },
    {
      "cell_type": "code",
      "execution_count": null,
      "id": "c9adb9f8",
      "metadata": {
        "id": "c9adb9f8"
      },
      "outputs": [],
      "source": []
    },
    {
      "cell_type": "markdown",
      "id": "9597c35c",
      "metadata": {
        "id": "9597c35c"
      },
      "source": [
        "#### 87. Consider a 16x16 array, how to get the block-sum (block size is 4x4)? (★★★)"
      ]
    },
    {
      "cell_type": "code",
      "execution_count": null,
      "id": "f41ba16c",
      "metadata": {
        "id": "f41ba16c"
      },
      "outputs": [],
      "source": []
    },
    {
      "cell_type": "markdown",
      "id": "0928d4fb",
      "metadata": {
        "id": "0928d4fb"
      },
      "source": [
        "#### 88. How to implement the Game of Life using numpy arrays? (★★★)"
      ]
    },
    {
      "cell_type": "code",
      "execution_count": null,
      "id": "df601e35",
      "metadata": {
        "id": "df601e35"
      },
      "outputs": [],
      "source": []
    },
    {
      "cell_type": "markdown",
      "id": "8efa3f72",
      "metadata": {
        "id": "8efa3f72"
      },
      "source": [
        "#### 89. How to get the n largest values of an array (★★★)"
      ]
    },
    {
      "cell_type": "code",
      "execution_count": null,
      "id": "9ce6741b",
      "metadata": {
        "id": "9ce6741b"
      },
      "outputs": [],
      "source": []
    },
    {
      "cell_type": "markdown",
      "id": "0ffbc949",
      "metadata": {
        "id": "0ffbc949"
      },
      "source": [
        "#### 90. Given an arbitrary number of vectors, build the cartesian product (every combinations of every item) (★★★)"
      ]
    },
    {
      "cell_type": "code",
      "execution_count": null,
      "id": "ad81d875",
      "metadata": {
        "id": "ad81d875"
      },
      "outputs": [],
      "source": []
    },
    {
      "cell_type": "markdown",
      "id": "692313a8",
      "metadata": {
        "id": "692313a8"
      },
      "source": [
        "#### 91. How to create a record array from a regular array? (★★★)"
      ]
    },
    {
      "cell_type": "code",
      "execution_count": null,
      "id": "74f0b28e",
      "metadata": {
        "id": "74f0b28e"
      },
      "outputs": [],
      "source": []
    },
    {
      "cell_type": "markdown",
      "id": "7ed1979a",
      "metadata": {
        "id": "7ed1979a"
      },
      "source": [
        "#### 92. Consider a large vector Z, compute Z to the power of 3 using 3 different methods (★★★)"
      ]
    },
    {
      "cell_type": "code",
      "execution_count": null,
      "id": "00e8364b",
      "metadata": {
        "id": "00e8364b"
      },
      "outputs": [],
      "source": []
    },
    {
      "cell_type": "markdown",
      "id": "b2f8c091",
      "metadata": {
        "id": "b2f8c091"
      },
      "source": [
        "#### 93. Consider two arrays A and B of shape (8,3) and (2,2). How to find rows of A that contain elements of each row of B regardless of the order of the elements in B? (★★★)"
      ]
    },
    {
      "cell_type": "code",
      "execution_count": null,
      "id": "e66b493e",
      "metadata": {
        "id": "e66b493e"
      },
      "outputs": [],
      "source": []
    },
    {
      "cell_type": "markdown",
      "id": "c28c18ba",
      "metadata": {
        "id": "c28c18ba"
      },
      "source": [
        "#### 94. Considering a 10x3 matrix, extract rows with unequal values (e.g. [2,2,3]) (★★★)"
      ]
    },
    {
      "cell_type": "code",
      "execution_count": null,
      "id": "1f29b445",
      "metadata": {
        "id": "1f29b445"
      },
      "outputs": [],
      "source": []
    },
    {
      "cell_type": "markdown",
      "id": "7027b470",
      "metadata": {
        "id": "7027b470"
      },
      "source": [
        "#### 95. Convert a vector of ints into a matrix binary representation (★★★)"
      ]
    },
    {
      "cell_type": "code",
      "execution_count": null,
      "id": "621f87ac",
      "metadata": {
        "id": "621f87ac"
      },
      "outputs": [],
      "source": []
    },
    {
      "cell_type": "markdown",
      "id": "81efcf8c",
      "metadata": {
        "id": "81efcf8c"
      },
      "source": [
        "#### 96. Given a two dimensional array, how to extract unique rows? (★★★)"
      ]
    },
    {
      "cell_type": "code",
      "execution_count": null,
      "id": "4c0214a2",
      "metadata": {
        "id": "4c0214a2"
      },
      "outputs": [],
      "source": []
    },
    {
      "cell_type": "markdown",
      "id": "b58c2ba4",
      "metadata": {
        "id": "b58c2ba4"
      },
      "source": [
        "#### 97. Considering 2 vectors A & B, write the einsum equivalent of inner, outer, sum, and mul function (★★★)"
      ]
    },
    {
      "cell_type": "code",
      "execution_count": null,
      "id": "2a824b2b",
      "metadata": {
        "id": "2a824b2b"
      },
      "outputs": [],
      "source": []
    },
    {
      "cell_type": "markdown",
      "id": "dcaec2fe",
      "metadata": {
        "id": "dcaec2fe"
      },
      "source": [
        "#### 98. Considering a path described by two vectors (X,Y), how to sample it using equidistant samples (★★★)?"
      ]
    },
    {
      "cell_type": "code",
      "execution_count": null,
      "id": "35e3abcf",
      "metadata": {
        "id": "35e3abcf"
      },
      "outputs": [],
      "source": []
    },
    {
      "cell_type": "markdown",
      "id": "05ff760d",
      "metadata": {
        "id": "05ff760d"
      },
      "source": [
        "#### 99. Given an integer n and a 2D array X, select from X the rows which can be interpreted as draws from a multinomial distribution with n degrees, i.e., the rows which only contain integers and which sum to n. (★★★)"
      ]
    },
    {
      "cell_type": "code",
      "execution_count": null,
      "id": "42e0e185",
      "metadata": {
        "id": "42e0e185"
      },
      "outputs": [],
      "source": []
    },
    {
      "cell_type": "markdown",
      "id": "3bc4f6a3",
      "metadata": {
        "id": "3bc4f6a3"
      },
      "source": [
        "#### 100. Compute bootstrapped 95% confidence intervals for the mean of a 1D array X (i.e., resample the elements of an array with replacement N times, compute the mean of each sample, and then compute percentiles over the means). (★★★)"
      ]
    },
    {
      "cell_type": "code",
      "execution_count": 269,
      "id": "70d1d1af",
      "metadata": {
        "colab": {
          "base_uri": "https://localhost:8080/"
        },
        "id": "70d1d1af",
        "outputId": "40bf808a-d238-416e-cf24-8c04d070be3f"
      },
      "outputs": [
        {
          "output_type": "stream",
          "name": "stdout",
          "text": [
            "[-0.203  0.198]\n"
          ]
        }
      ],
      "source": [
        "X = np.random.randn(100)\n",
        "index = np.random.randint(0, X.size, (100, X.size))\n",
        "mean_v = X[index].mean(axis=1)\n",
        "interval = np.percentile(mean_v, [2.5, 97.5])\n",
        "print(interval)"
      ]
    },
    {
      "cell_type": "code",
      "source": [],
      "metadata": {
        "id": "piFtB4kRLl7M"
      },
      "id": "piFtB4kRLl7M",
      "execution_count": null,
      "outputs": []
    }
  ],
  "metadata": {
    "kernelspec": {
      "display_name": "Python 3",
      "language": "python",
      "name": "python3"
    },
    "language_info": {
      "codemirror_mode": {
        "name": "ipython",
        "version": 3
      },
      "file_extension": ".py",
      "mimetype": "text/x-python",
      "name": "python",
      "nbconvert_exporter": "python",
      "pygments_lexer": "ipython3",
      "version": "3.8.5"
    },
    "colab": {
      "provenance": []
    }
  },
  "nbformat": 4,
  "nbformat_minor": 5
}